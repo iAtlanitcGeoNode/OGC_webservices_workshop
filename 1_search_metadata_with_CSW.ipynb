{
 "cells": [
  {
   "cell_type": "markdown",
   "metadata": {},
   "source": [
    "<img src=\"./img/logo.png\" align=\"right\" width=\"50%\"></img>\n",
    "# iAtlantic GeoNode Workshop\n",
    "### Tier 2: How to use OGC webservices offered by the iAtlantic GeoNode in your data analysis"
   ]
  },
  {
   "cell_type": "markdown",
   "metadata": {},
   "source": [
    "## 1. Search through metadata using the OGC Catalogue Service (CSW)"
   ]
  },
  {
   "cell_type": "markdown",
   "metadata": {},
   "source": [
    "The OWSLib library is a python library that makes accessing data and metadata through OGC services possible. The library abstracts all of the traditional HTTP API calls into programmatic function calls. We will be using this library throughout the tutorial to interact with the iAtlantic GeoNode OGC services.\n",
    "\n",
    "The library is available from GitHub @  https://github.com/geopython/OWSLib"
   ]
  },
  {
   "cell_type": "code",
   "execution_count": 1,
   "metadata": {},
   "outputs": [],
   "source": [
    "from owslib.csw import CatalogueServiceWeb"
   ]
  },
  {
   "cell_type": "markdown",
   "metadata": {},
   "source": [
    "#### Create a CatalogueServiceWeb object"
   ]
  },
  {
   "cell_type": "code",
   "execution_count": 2,
   "metadata": {},
   "outputs": [],
   "source": [
    "csw = CatalogueServiceWeb('https://www.geonode.iatlantic.eu/catalogue/csw')"
   ]
  },
  {
   "cell_type": "markdown",
   "metadata": {},
   "source": [
    "#### Inspect its properties"
   ]
  },
  {
   "cell_type": "code",
   "execution_count": 3,
   "metadata": {},
   "outputs": [
    {
     "name": "stdout",
     "output_type": "stream",
     "text": [
      "CSW\n",
      "GeoNode Catalogue\n",
      "2.0.2\n",
      "['GetCapabilities', 'DescribeRecord', 'GetDomain', 'GetRecords', 'GetRecordById', 'GetRepositoryItem']\n"
     ]
    }
   ],
   "source": [
    "print(csw.identification.type)\n",
    "print(csw.identification.title)\n",
    "print(csw.identification.version)\n",
    "print([op.name for op in csw.operations])"
   ]
  },
  {
   "cell_type": "markdown",
   "metadata": {},
   "source": [
    "#### Inspect the supported GetDomain parameters"
   ]
  },
  {
   "cell_type": "code",
   "execution_count": 4,
   "metadata": {},
   "outputs": [
    {
     "data": {
      "text/plain": [
       "{'ParameterName': {'values': ['DescribeRecord.outputFormat',\n",
       "   'DescribeRecord.schemaLanguage',\n",
       "   'DescribeRecord.typeName',\n",
       "   'GetCapabilities.sections',\n",
       "   'GetRecordById.ElementSetName',\n",
       "   'GetRecordById.outputFormat',\n",
       "   'GetRecordById.outputSchema',\n",
       "   'GetRecords.CONSTRAINTLANGUAGE',\n",
       "   'GetRecords.ElementSetName',\n",
       "   'GetRecords.outputFormat',\n",
       "   'GetRecords.outputSchema',\n",
       "   'GetRecords.resultType',\n",
       "   'GetRecords.typeNames']}}"
      ]
     },
     "execution_count": 4,
     "metadata": {},
     "output_type": "execute_result"
    }
   ],
   "source": [
    "csw.get_operation_by_name(\"GetDomain\").parameters"
   ]
  },
  {
   "cell_type": "markdown",
   "metadata": {},
   "source": [
    "#### Get suported constraint languages"
   ]
  },
  {
   "cell_type": "code",
   "execution_count": 5,
   "metadata": {},
   "outputs": [
    {
     "data": {
      "text/plain": [
       "{'type': 'csw:Record',\n",
       " 'parameter': 'GetRecords.CONSTRAINTLANGUAGE',\n",
       " 'values': ['CQL_TEXT', 'FILTER']}"
      ]
     },
     "execution_count": 5,
     "metadata": {},
     "output_type": "execute_result"
    }
   ],
   "source": [
    "csw.getdomain('GetRecords.CONSTRAINTLANGUAGE')\n",
    "csw.results"
   ]
  },
  {
   "cell_type": "markdown",
   "metadata": {},
   "source": [
    "#### Get supported elementsets"
   ]
  },
  {
   "cell_type": "code",
   "execution_count": 6,
   "metadata": {},
   "outputs": [
    {
     "data": {
      "text/plain": [
       "{'type': 'csw:Record',\n",
       " 'parameter': 'GetRecords.ElementSetName',\n",
       " 'values': ['brief', 'full', 'summary']}"
      ]
     },
     "execution_count": 6,
     "metadata": {},
     "output_type": "execute_result"
    }
   ],
   "source": [
    "csw.getdomain('GetRecords.ElementSetName')\n",
    "csw.results"
   ]
  },
  {
   "cell_type": "markdown",
   "metadata": {},
   "source": [
    "#### Get supported output formats"
   ]
  },
  {
   "cell_type": "code",
   "execution_count": 7,
   "metadata": {},
   "outputs": [
    {
     "data": {
      "text/plain": [
       "{'type': 'csw:Record',\n",
       " 'parameter': 'GetRecords.outputFormat',\n",
       " 'values': ['application/json', 'application/xml']}"
      ]
     },
     "execution_count": 7,
     "metadata": {},
     "output_type": "execute_result"
    }
   ],
   "source": [
    "csw.getdomain('GetRecords.outputFormat')\n",
    "csw.results"
   ]
  },
  {
   "cell_type": "markdown",
   "metadata": {},
   "source": [
    "#### Get supported output schemas"
   ]
  },
  {
   "cell_type": "code",
   "execution_count": 8,
   "metadata": {},
   "outputs": [
    {
     "data": {
      "text/plain": [
       "{'type': 'csw:Record',\n",
       " 'parameter': 'GetRecords.outputSchema',\n",
       " 'values': ['http://gcmd.gsfc.nasa.gov/Aboutus/xml/dif/',\n",
       "  'http://www.interlis.ch/INTERLIS2.3',\n",
       "  'http://www.isotc211.org/2005/gmd',\n",
       "  'http://www.opengis.net/cat/csw/2.0.2',\n",
       "  'http://www.opengis.net/cat/csw/csdgm',\n",
       "  'http://www.w3.org/2005/Atom',\n",
       "  'urn:oasis:names:tc:ebxml-regrep:xsd:rim:3.0']}"
      ]
     },
     "execution_count": 8,
     "metadata": {},
     "output_type": "execute_result"
    }
   ],
   "source": [
    "csw.getdomain('GetRecords.outputSchema')\n",
    "csw.results"
   ]
  },
  {
   "cell_type": "markdown",
   "metadata": {},
   "source": [
    "#### Search data by using OGC Filter Encoding"
   ]
  },
  {
   "cell_type": "code",
   "execution_count": 9,
   "metadata": {},
   "outputs": [],
   "source": [
    "from owslib.fes import PropertyIsEqualTo, PropertyIsLike"
   ]
  },
  {
   "cell_type": "markdown",
   "metadata": {},
   "source": [
    ">##### Example: search for AnyText fields that equal \"bathymetry\""
   ]
  },
  {
   "cell_type": "code",
   "execution_count": 10,
   "metadata": {},
   "outputs": [
    {
     "name": "stderr",
     "output_type": "stream",
     "text": [
      "c:\\Python38\\lib\\site-packages\\owslib\\iso.py:120: FutureWarning: the .identification and .serviceidentification properties will merge into .identification being a list of properties.  This is currently implemented in .identificationinfo.  Please see https://github.com/geopython/OWSLib/issues/38 for more information\n",
      "  warnings.warn(\n",
      "c:\\Python38\\lib\\site-packages\\owslib\\iso.py:596: FutureWarning: The .keywords and .keywords2 properties will merge into the .keywords property in the future, with .keywords becoming a list of MD_Keywords instances. This is currently implemented in .keywords2. Please see https://github.com/geopython/OWSLib/issues/301 for more information\n",
      "  warnings.warn(\n",
      "c:\\Python38\\lib\\site-packages\\owslib\\iso.py:321: FutureWarning: The .keywords_object attribute will become .keywords proper in the next release. .keywords_object is a list of ibstances of the Keyword class. See for https://github.com/geopython/OWSLib/pull/765 more details.\n",
      "  warnings.warn(\n"
     ]
    },
    {
     "name": "stdout",
     "output_type": "stream",
     "text": [
      "{'matches': 56, 'returned': 20, 'nextrecord': 21}\n",
      "Oceanic Ridge\n",
      "The GEBCO Sub-Committee on Undersea Feature Names (SCUFN) maintains and makes available a digital gazetteer of the names, generic feature type and geographic position of features on the seafloor. The gazetteer is available to view and download via a web map application, hosted by the International Hydrographic Organization Data Centre for Digital Bathymetry (IHO DCDB) co-located with the US National Centers for Environmental Information (NCEI). The data are available in a number of formats including spreadsheet, shapefile, KML, WMS and ArcGIS layer and can be accessed as a REST-style API. Name proposals can be submitted to SCUFN for consideration for inclusion in the gazetteer.\n",
      "----\n",
      "Source references\n",
      "Coverage of individual bathymetric surveys and Composite DTMs that contribute to the  EMODnet Bathymetry DTM.\n",
      "----\n",
      "Terrace geomorphic feature layer\n",
      "The terrace geomorphic feature layer represents the spatial extent of the terraces of the worlds oceans based on interpretation of the SRTM30 plus v7 global bathymetry model. The layer is one of the 25 layers that make up the global seafloor geomorphic features map (Harris et.al. 2014). Terraces are “An isolated (or group of) relatively flat horizontal or gently inclined surface(s), sometimes long and narrow, which is (are) bounded by a steeper ascending slope on one side and by a steeper descending slope on the opposite side” (IHO, 2008).  In this study terraces (broad steps) were calculated based on the gradient of the SRTM30_PLUS model. The SRTM30_PLUS model was masked using the slope feature layer (i.e. terraces we only mapped on the continental slope).\n",
      "----\n",
      "Bathymetry Coverage iAtlantic Study Area 06 - Meteor\n",
      "Shapefiles of existing Bathymetry collected by R/V Meteor for iAtlantic study area 06.\n",
      "----\n",
      "Bathymetry Coverage iAtlantic Study Area 04\n",
      "Shapefiles of existing Bathymetry for iAtlantic study area 04.\n",
      "----\n",
      "Large Marine Ecosystems of the World\n",
      "Large Marine Ecosystems are regions of ocean space encompassing coastal areas from river basins and estuaries to the seaward boundaries of continental shelves and the outer margins of the major current systems. They are relatively large regions on the order of 200,000 km2 or greater, characterized by distinct: (1) bathymetry, (2) hydrography, (3) productivity, and (4) trophically dependent populations. On a global scale, 64 LMEs produce 95 percent of the world's annual marine fishery biomass yields. Within their waters, most of the global ocean pollution, overexploitation, and coastal habitat alteration occur. For 33 of the 64 LMES, studies have been conducted of the principal driving forces affecting changes in biomass yields. They have been peer- reviewed and published in ten volumes (http://www.lme.noaa.gov). Based on lessons learned from the LME case studies, a five module strategy has been developed to provide science-based information for the monitoring, assessment, and management of LMES. The modules are focused on LME: (1) productivity, (2) fish and fisheries, (3) pollution and health, (4) socioeconomics, and (5) governance.\n",
      "----\n",
      "Bathymetry Coverage iAtlantic Study Area 07\n",
      "Shapefiles of existing Bathymetry for iAtlantic study area 07.\n",
      "----\n",
      "8. Continental slope, margin and cold seep ecosystems – Angola to the Congo Lobe\n",
      "The complex oceanic currents in this part of the Atlantic result in the widespread occurrence of strongly oxygen-depleted subsurface water masses. Despite such seemingly unfavourable conditions, diverse benthic ecosystems thrive along the Angolan continental slope, including cold-water corals and cold seep ecosystems. While the corals are fuelled by organic matter filtering down from surface plankton productivity, the cold seep ecosystems obtain their energy from natural methane emissions at the seafloor.\n",
      "\n",
      "As oxygen levels in the world ocean are predicted to decrease as a result of global change, the subtropical SE Atlantic can serve as a natural laboratory to understand how deep-sea marine ecosystems adapt to low oxygen conditions and, thus, to cope with one of the most serious threats to marine ecosystems.\n",
      "----\n",
      "Multibeam bathymetry processed data (Kongsberg EM 122 working area dataset) of RV MARIA S. MERIAN during cruise MSM96\n",
      "Multibeam bathymetry processed data (Kongsberg EM 122 multibeam echosounder) of RV MARIA S. MERIAN during cruise MSM96 in the North-East Atlantic (2020-10-120 - 2020-11-9). The raw data (Kongsberg .all format) were processed using QPS Qimera software (v 1.7), based on the following workflow:  0.Raw data -> 1.Apply correct Sound Velocity Profiles -> 2.Create CUBE surface (Deep Mode) -> 3.Apply Spline Filter (Medium/Weak)- > 4. Finalize with manual 2D and 3D editing, -> 5.Export in GeoTIFF format and projected in the UTM28N coordinate system (EPSG:32628). The produced rasters are named MS96_WA1_PAP_100m and MSM96_WA2_IAP_100m (WA=Working Area, PAP=Porcupine Abyssal Plain, IAP=Iberian Abyssal Plain, and 100m is the cell size). The data products were created in the context of the DAM (German Marine Research Alliance), MareHub (Helmholtz) & iAtlantic (EU) research projects.\n",
      "----\n",
      "Bathymetry Coverage iAtlantic Study Area 01 - MFRI\n",
      "Shapefiles of existing Bathymetry collected by MFRI for iAtlantic study area 01.\n",
      "----\n",
      "Mean depth\n",
      "Mean depth based on source resolution of 1/16 arc minute (~125 meter). Ocean overlay without land cover.\n",
      "----\n",
      "pH under severe, high emissions future (2081-2100) climate projections (RCP8.5 scenario)\n",
      "We used environmental niche modelling along with the best available species occurrence data and environmental parameters to model habitat suitability for key cold-water coral and commercially important deep-sea fish species under present-day (1951-2000) environmental conditions and to forecast changes under severe, high emissions future (2081-2100) climate projections (RCP8.5 scenario) for the North Atlantic Ocean (from 18°N to 76°N and 36°E to 98°W). This dataset contains a set of terrain (static in time) and environmental (dynamic in time) variables were used as candidate predictors of present-day (1951-2000) distribution and to forecast future (2081-2100) changes. All predictor variables were projected with the Albers equal-area conical projection centred in the middle of the study area.  The terrain variable depth was extracted from a bathymetry grid built from two data sources: the EMODnet Digital Terrain Model (EMODnet, 2018) and the General Bathymetric Chart of the Oceans (GEBCO 2014; Weatherall et al., 2015). Slope (in degrees) was derived from the final bathymetry grid using the Raster package in R (Hijmans, 2016) and the Bathymetric Position Index (BPI) was computed using the Benthic Terrain Model 3.0 tool in ArcGIS 10.1 with an inner radius of 3 and an outer radius of 25 grid cells. In order to avoid extreme values, BPI was standardized using the scale function from the Raster package. Environmental variables of present-day and future conditions, including particulate organic carbon (POC) flux at 100-m depth (epc100, mg C m-2 d-1), bottom water dissolved oxygen concentration (µmol kg-1), pH, and potential temperature (°C) were downloaded from the Earth System Grid Federation (ESGF) Peer-to-Peer (P2P) enterprise system. The epc100 was converted to export POC flux at the seafloor using the Martin curve (Martin, Knauer, Karl, & Broenkow, 1987) following the equation: epc = epc100*(water depth/export depth)-0.858, and setting the export depth to 100 m. Near seafloor aragonite (Ωar) and calcite (Ωcal) saturation were also used as candidate predictors for habitat suitability of cold-water coral species. These saturation states were computed by dividing the bottom water carbonate ion concentration (mol m-3) by the bottom water carbonate ion concentration (mol m-3) for seawater in equilibrium with pure aragonite and calcite. Yearly means of these parameters were calculated for the periods 1951-2000 (historical simulation) and 2081-2100 (RCP8.5 or business-as-usual scenario) using the average values obtained from the Geophysical Fluid Dynamics Laboratory's ESM 2G model (GFDL-ESM-2G; Dunne et al., 2012), the Institut Pierre Simon Laplace's CM6-MR model (IPSL-CM5A-MR; Dufresne et al., 2013) and Max Planck Institute's ESM-MR model (MPI-ESM-MR; Giorgetta et al., 2013) within the Coupled Models Intercomparison Project Phase 5 (CMIP5) for each grid cell of the present study area.\n",
      "----\n",
      "Bathymetry Coverage iAtlantic Study Area 10\n",
      "Shapefiles of existing Bathymetry for iAtlantic study area 10.\n",
      "----\n",
      "Bathymetry Coverage iAtlantic Study Area 01 - Maria S. Merian\n",
      "Shapefiles of existing Bathymetry collected by R/V Maria S. Merian for iAtlantic study area 01.\n",
      "----\n",
      "Bathymetry Coverage iAtlantic Study Area 03\n",
      "Shapefiles of existing Bathymetry for iAtlantic study area 03.\n",
      "----\n",
      "Rise geomorphic feature layer\n",
      "The rise geomorphic feature layer represents the spatial extent of the rises of the worlds oceans based on interpretation of the SRTM30 plus v7 global bathymetry model. The layer is one of the 25 layers that make up the global seafloor geomorphic features map (Harris et.al. 2014). The continental rise was digitised by hand at a nominal spatial scale of 1:3,000,000 in ArcGIS based on 100 m contours.  A map of global ocean sediment thickness (Divins, 2003) was used to assist with identifying potential rise areas.  In general the rise was confined to areas of sediment thickness &gt;300 m. Criteria for identification of continental rises included the occurrence of a smooth sloping seabed as indicated by evenly-spaced, slope-parallel contours (Curray et al., 2002; Dowdeswell et al., 2008; Covault et al., 2011). In this study, the term “Rise” was restricted to features that abut continental margins and does not include the mid-ocean ridge (or “rise”), which was mapped as a separate feature.  The GEBCO Gazetteer of geographic names of undersea features (IHO-IOC, 2012) was used to ensure all named features were included.\n",
      "----\n",
      "Bottom water dissolved oxygen concentration, under severe, high emissions future (2081-2100) climate projections (RCP8.5 scenario)\n",
      "We used environmental niche modelling along with the best available species occurrence data and environmental parameters to model habitat suitability for key cold-water coral and commercially important deep-sea fish species under present-day (1951-2000) environmental conditions and to forecast changes under severe, high emissions future (2081-2100) climate projections (RCP8.5 scenario) for the North Atlantic Ocean (from 18°N to 76°N and 36°E to 98°W). This dataset contains a set of terrain (static in time) and environmental (dynamic in time) variables were used as candidate predictors of present-day (1951-2000) distribution and to forecast future (2081-2100) changes. All predictor variables were projected with the Albers equal-area conical projection centred in the middle of the study area.  The terrain variable depth was extracted from a bathymetry grid built from two data sources: the EMODnet Digital Terrain Model (EMODnet, 2018) and the General Bathymetric Chart of the Oceans (GEBCO 2014; Weatherall et al., 2015). Slope (in degrees) was derived from the final bathymetry grid using the Raster package in R (Hijmans, 2016) and the Bathymetric Position Index (BPI) was computed using the Benthic Terrain Model 3.0 tool in ArcGIS 10.1 with an inner radius of 3 and an outer radius of 25 grid cells. In order to avoid extreme values, BPI was standardized using the scale function from the Raster package. Environmental variables of present-day and future conditions, including particulate organic carbon (POC) flux at 100-m depth (epc100, mg C m-2 d-1), bottom water dissolved oxygen concentration (µmol kg-1), pH, and potential temperature (°C) were downloaded from the Earth System Grid Federation (ESGF) Peer-to-Peer (P2P) enterprise system. The epc100 was converted to export POC flux at the seafloor using the Martin curve (Martin, Knauer, Karl, & Broenkow, 1987) following the equation: epc = epc100*(water depth/export depth)-0.858, and setting the export depth to 100 m. Near seafloor aragonite (Ωar) and calcite (Ωcal) saturation were also used as candidate predictors for habitat suitability of cold-water coral species. These saturation states were computed by dividing the bottom water carbonate ion concentration (mol m-3) by the bottom water carbonate ion concentration (mol m-3) for seawater in equilibrium with pure aragonite and calcite. Yearly means of these parameters were calculated for the periods 1951-2000 (historical simulation) and 2081-2100 (RCP8.5 or business-as-usual scenario) using the average values obtained from the Geophysical Fluid Dynamics Laboratory's ESM 2G model (GFDL-ESM-2G; Dunne et al., 2012), the Institut Pierre Simon Laplace's CM6-MR model (IPSL-CM5A-MR; Dufresne et al., 2013) and Max Planck Institute's ESM-MR model (MPI-ESM-MR; Giorgetta et al., 2013) within the Coupled Models Intercomparison Project Phase 5 (CMIP5) for each grid cell of the present study area.\n",
      "----\n",
      "Near seafloor aragonite saturation under severe, high emissions future (2081-2100) climate projections (RCP8.5 scenario)\n",
      "We used environmental niche modelling along with the best available species occurrence data and environmental parameters to model habitat suitability for key cold-water coral and commercially important deep-sea fish species under present-day (1951-2000) environmental conditions and to forecast changes under severe, high emissions future (2081-2100) climate projections (RCP8.5 scenario) for the North Atlantic Ocean (from 18°N to 76°N and 36°E to 98°W). This dataset contains a set of terrain (static in time) and environmental (dynamic in time) variables were used as candidate predictors of present-day (1951-2000) distribution and to forecast future (2081-2100) changes. All predictor variables were projected with the Albers equal-area conical projection centred in the middle of the study area.  The terrain variable depth was extracted from a bathymetry grid built from two data sources: the EMODnet Digital Terrain Model (EMODnet, 2018) and the General Bathymetric Chart of the Oceans (GEBCO 2014; Weatherall et al., 2015). Slope (in degrees) was derived from the final bathymetry grid using the Raster package in R (Hijmans, 2016) and the Bathymetric Position Index (BPI) was computed using the Benthic Terrain Model 3.0 tool in ArcGIS 10.1 with an inner radius of 3 and an outer radius of 25 grid cells. In order to avoid extreme values, BPI was standardized using the scale function from the Raster package. Environmental variables of present-day and future conditions, including particulate organic carbon (POC) flux at 100-m depth (epc100, mg C m-2 d-1), bottom water dissolved oxygen concentration (µmol kg-1), pH, and potential temperature (°C) were downloaded from the Earth System Grid Federation (ESGF) Peer-to-Peer (P2P) enterprise system. The epc100 was converted to export POC flux at the seafloor using the Martin curve (Martin, Knauer, Karl, & Broenkow, 1987) following the equation: epc = epc100*(water depth/export depth)-0.858, and setting the export depth to 100 m. Near seafloor aragonite (Ωar) and calcite (Ωcal) saturation were also used as candidate predictors for habitat suitability of cold-water coral species. These saturation states were computed by dividing the bottom water carbonate ion concentration (mol m-3) by the bottom water carbonate ion concentration (mol m-3) for seawater in equilibrium with pure aragonite and calcite. Yearly means of these parameters were calculated for the periods 1951-2000 (historical simulation) and 2081-2100 (RCP8.5 or business-as-usual scenario) using the average values obtained from the Geophysical Fluid Dynamics Laboratory's ESM 2G model (GFDL-ESM-2G; Dunne et al., 2012), the Institut Pierre Simon Laplace's CM6-MR model (IPSL-CM5A-MR; Dufresne et al., 2013) and Max Planck Institute's ESM-MR model (MPI-ESM-MR; Giorgetta et al., 2013) within the Coupled Models Intercomparison Project Phase 5 (CMIP5) for each grid cell of the present study area.\n",
      "----\n",
      "Bathymetry Coverage iAtlantic Study Area 12\n",
      "Shapefiles of existing Bathymetry for iAtlantic study area 12.\n",
      "----\n",
      "Fan geomorphic feature layer\n",
      "The fan geomorphic feature layer represents the spatial extent of the fans of the worlds oceans based on interpretation of the SRTM30 plus v7 global bathymetry model. The layer is one of the 25 layers that make up the global seafloor geomorphic features map (Harris et.al. 2014). Fans are “a relatively smooth, fan-like, depositional feature normally sloping away from the outer termination of a canyon or canyon system” (IHO, 2008).  Since submarine fans are sediment deposits, the NGDC map of global ocean sediment thickness (Divins, 2003) was used to assist with identifying them.  Fans overlay and comprise part of the continental rise and are located offshore from the base of the continental slope (Curray et al., 2002; Dowdeswell et al., 2008; Covault et al., 2011).  Fans are inter-related with submarine canyons and sediment drift deposits; in cases where canyon axes extend across the rise, the canyon-channels may be flanked by sediment drift deposits, which have been grouped with fans in this study. Fans are defined in the present study by 100 m isobaths that form a concentric series exhibiting an expanding spacing in a seaward direction away from the base of the slope, sometimes clearly associated with a canyon mouth, but also comprising low-relief ridges between canyon-channels on the abyssal plain.\n",
      "----\n"
     ]
    }
   ],
   "source": [
    "anytext_query = PropertyIsEqualTo('apiso:AnyText','bathymetry')\n",
    "csw.getrecords2(constraints=[anytext_query], maxrecords=20, esn='full',outputschema='http://www.isotc211.org/2005/gmd')\n",
    "print(csw.results)\n",
    "for rec in csw.records:\n",
    "    print(csw.records[rec].identification.title)\n",
    "    print(csw.records[rec].identification.abstract)\n",
    "    print(\"----\")"
   ]
  },
  {
   "cell_type": "markdown",
   "metadata": {},
   "source": [
    "> ##### Example: search for title fields that contain \"Habitat Suitability\""
   ]
  },
  {
   "cell_type": "code",
   "execution_count": 11,
   "metadata": {},
   "outputs": [
    {
     "name": "stdout",
     "output_type": "stream",
     "text": [
      "{'matches': 14, 'returned': 14, 'nextrecord': 0}\n",
      "Holaxonia Habitat Suitability\n",
      "This dataset consists of global raster maps indicating the habitat suitability for 7 suborders of cold water octocorals (Octocorallia found deeper than 50m). Maps present a relative habitat suitability index ranging from 0 (unsuitable) to 100 (highly suitable). Two maps are provided for each suborder (Alcyoniina, Calcaxonia, Holaxonia, Scleraxonia, Sessiliflorae, Stolonifera, and Subselliflorae). A publicly accessable low resolution map (grid size 10x10 arc-minutes) and a restricted access high resolution map (grid size 30x30 arc-seconds). Maps are geotiff format incorporating LZW compression to reduce file size. \n",
      "Please contact the corresponding author (Chris Yesson) for access to the high resolution data.\n",
      "----\n",
      "Lophelia pertusa Habitat Suitability\n",
      "Global habitat suitability model outputs for several species of Scleractinian corals from the publication: Davies, A.J. & Guinotte, J.M. (2011) Global Habitat Suitability for Framework-Forming Cold-Water Corals. PLoS ONE 6(4): e18483. doi:10.1371/journal.pone.0018483\n",
      "----\n",
      "Subselliflorae Habitat Suitability\n",
      "This dataset consists of global raster maps indicating the habitat suitability for 7 suborders of cold water octocorals (Octocorallia found deeper than 50m). Maps present a relative habitat suitability index ranging from 0 (unsuitable) to 100 (highly suitable). Two maps are provided for each suborder (Alcyoniina, Calcaxonia, Holaxonia, Scleraxonia, Sessiliflorae, Stolonifera, and Subselliflorae). A publicly accessable low resolution map (grid size 10x10 arc-minutes) and a restricted access high resolution map (grid size 30x30 arc-seconds). Maps are geotiff format incorporating LZW compression to reduce file size. \n",
      "Please contact the corresponding author (Chris Yesson) for access to the high resolution data.\n",
      "----\n",
      "Scleractinia Habitat Suitability\n",
      "Global habitat suitability model outputs for several species of Scleractinian corals from the publication: Davies, A.J. & Guinotte, J.M. (2011) Global Habitat Suitability for Framework-Forming Cold-Water Corals. PLoS ONE 6(4): e18483. doi:10.1371/journal.pone.0018483\n",
      "----\n",
      "Octocoral Habitat Suitability Consensus\n",
      "This dataset consists of global raster maps indicating the habitat suitability for 7 suborders of cold water octocorals (Octocorallia found deeper than 50m). Maps present a relative habitat suitability index ranging from 0 (unsuitable) to 100 (highly suitable). Two maps are provided for each suborder (Alcyoniina, Calcaxonia, Holaxonia, Scleraxonia, Sessiliflorae, Stolonifera, and Subselliflorae). A publicly accessable low resolution map (grid size 10x10 arc-minutes) and a restricted access high resolution map (grid size 30x30 arc-seconds). Maps are geotiff format incorporating LZW compression to reduce file size. \n",
      "Please contact the corresponding author (Chris Yesson) for access to the high resolution data.\n",
      "----\n",
      "Calcaxonia Habitat Suitability\n",
      "This dataset consists of global raster maps indicating the habitat suitability for 7 suborders of cold water octocorals (Octocorallia found deeper than 50m). Maps present a relative habitat suitability index ranging from 0 (unsuitable) to 100 (highly suitable). Two maps are provided for each suborder (Alcyoniina, Calcaxonia, Holaxonia, Scleraxonia, Sessiliflorae, Stolonifera, and Subselliflorae). A publicly accessable low resolution map (grid size 10x10 arc-minutes) and a restricted access high resolution map (grid size 30x30 arc-seconds). Maps are geotiff format incorporating LZW compression to reduce file size. \n",
      "Please contact the corresponding author (Chris Yesson) for access to the high resolution data.\n",
      "----\n",
      "Goniocorella dumosa Habitat Suitability\n",
      "Global habitat suitability model outputs for several species of Scleractinian corals from the publication: Davies, A.J. & Guinotte, J.M. (2011) Global Habitat Suitability for Framework-Forming Cold-Water Corals. PLoS ONE 6(4): e18483. doi:10.1371/journal.pone.0018483\n",
      "----\n",
      "Sessiliflorae Habitat Suitability\n",
      "This dataset consists of global raster maps indicating the habitat suitability for 7 suborders of cold water octocorals (Octocorallia found deeper than 50m). Maps present a relative habitat suitability index ranging from 0 (unsuitable) to 100 (highly suitable). Two maps are provided for each suborder (Alcyoniina, Calcaxonia, Holaxonia, Scleraxonia, Sessiliflorae, Stolonifera, and Subselliflorae). A publicly accessable low resolution map (grid size 10x10 arc-minutes) and a restricted access high resolution map (grid size 30x30 arc-seconds). Maps are geotiff format incorporating LZW compression to reduce file size. \n",
      "Please contact the corresponding author (Chris Yesson) for access to the high resolution data.\n",
      "----\n",
      "Madrepora oculata Habitat Suitability\n",
      "Global habitat suitability model outputs for several species of Scleractinian corals from the publication: Davies, A.J. & Guinotte, J.M. (2011) Global Habitat Suitability for Framework-Forming Cold-Water Corals. PLoS ONE 6(4): e18483. doi:10.1371/journal.pone.0018483\n",
      "----\n",
      "Scleraxonia Habitat Suitability\n",
      "This dataset consists of global raster maps indicating the habitat suitability for 7 suborders of cold water octocorals (Octocorallia found deeper than 50m). Maps present a relative habitat suitability index ranging from 0 (unsuitable) to 100 (highly suitable). Two maps are provided for each suborder (Alcyoniina, Calcaxonia, Holaxonia, Scleraxonia, Sessiliflorae, Stolonifera, and Subselliflorae). A publicly accessable low resolution map (grid size 10x10 arc-minutes) and a restricted access high resolution map (grid size 30x30 arc-seconds). Maps are geotiff format incorporating LZW compression to reduce file size. \n",
      "Please contact the corresponding author (Chris Yesson) for access to the high resolution data.\n",
      "----\n",
      "Solenosmilia variabilis Habitat Suitability\n",
      "Global habitat suitability model outputs for several species of Scleractinian corals from the publication: Davies, A.J. & Guinotte, J.M. (2011) Global Habitat Suitability for Framework-Forming Cold-Water Corals. PLoS ONE 6(4): e18483. doi:10.1371/journal.pone.0018483\n",
      "----\n",
      "Enallopsammia rostrata Habitat Suitability\n",
      "Global habitat suitability model outputs for several species of Scleractinian corals from the publication: Davies, A.J. & Guinotte, J.M. (2011) Global Habitat Suitability for Framework-Forming Cold-Water Corals. PLoS ONE 6(4): e18483. doi:10.1371/journal.pone.0018483\n",
      "----\n",
      "Stolonifera Habitat Suitability\n",
      "This dataset consists of global raster maps indicating the habitat suitability for 7 suborders of cold water octocorals (Octocorallia found deeper than 50m). Maps present a relative habitat suitability index ranging from 0 (unsuitable) to 100 (highly suitable). Two maps are provided for each suborder (Alcyoniina, Calcaxonia, Holaxonia, Scleraxonia, Sessiliflorae, Stolonifera, and Subselliflorae). A publicly accessable low resolution map (grid size 10x10 arc-minutes) and a restricted access high resolution map (grid size 30x30 arc-seconds). Maps are geotiff format incorporating LZW compression to reduce file size. \n",
      "Please contact the corresponding author (Chris Yesson) for access to the high resolution data.\n",
      "----\n",
      "Alcyoniina Habitat Suitability\n",
      "This dataset consists of global raster maps indicating the habitat suitability for 7 suborders of cold water octocorals (Octocorallia found deeper than 50m). Maps present a relative habitat suitability index ranging from 0 (unsuitable) to 100 (highly suitable). Two maps are provided for each suborder (Alcyoniina, Calcaxonia, Holaxonia, Scleraxonia, Sessiliflorae, Stolonifera, and Subselliflorae). A publicly accessable low resolution map (grid size 10x10 arc-minutes) and a restricted access high resolution map (grid size 30x30 arc-seconds). Maps are geotiff format incorporating LZW compression to reduce file size. \n",
      "Please contact the corresponding author (Chris Yesson) for access to the high resolution data.\n",
      "----\n"
     ]
    }
   ],
   "source": [
    "title_query = PropertyIsLike('apiso:Title','%Habitat Suitability%', wildCard=\"%\")\n",
    "csw.getrecords2(constraints=[title_query], maxrecords=20, esn='full',outputschema='http://www.isotc211.org/2005/gmd')\n",
    "print(csw.results)\n",
    "for rec in csw.records:\n",
    "    print(csw.records[rec].identification.title)\n",
    "    print(csw.records[rec].identification.abstract)\n",
    "    print(\"----\")"
   ]
  },
  {
   "cell_type": "markdown",
   "metadata": {},
   "source": [
    "#### Search with a CQL query\n",
    "CQL allows to combine filter to create more elaborat queries that narrow down the results"
   ]
  },
  {
   "cell_type": "markdown",
   "metadata": {},
   "source": [
    "> Example: search for multibeam and iAtlantic in AnyText fields"
   ]
  },
  {
   "cell_type": "code",
   "execution_count": 12,
   "metadata": {},
   "outputs": [
    {
     "name": "stdout",
     "output_type": "stream",
     "text": [
      "{'matches': 4, 'returned': 4, 'nextrecord': 0}\n",
      "Multibeam bathymetry processed data (Kongsberg EM 122 working area dataset) of RV MARIA S. MERIAN during cruise MSM96\n",
      "Multibeam bathymetry processed data (Kongsberg EM 122 multibeam echosounder) of RV MARIA S. MERIAN during cruise MSM96 in the North-East Atlantic (2020-10-120 - 2020-11-9). The raw data (Kongsberg .all format) were processed using QPS Qimera software (v 1.7), based on the following workflow:  0.Raw data -> 1.Apply correct Sound Velocity Profiles -> 2.Create CUBE surface (Deep Mode) -> 3.Apply Spline Filter (Medium/Weak)- > 4. Finalize with manual 2D and 3D editing, -> 5.Export in GeoTIFF format and projected in the UTM28N coordinate system (EPSG:32628). The produced rasters are named MS96_WA1_PAP_100m and MSM96_WA2_IAP_100m (WA=Working Area, PAP=Porcupine Abyssal Plain, IAP=Iberian Abyssal Plain, and 100m is the cell size). The data products were created in the context of the DAM (German Marine Research Alliance), MareHub (Helmholtz) & iAtlantic (EU) research projects.\n",
      "----\n",
      "Bathymetric Coverage iAtlantic\n",
      "A dataset containing the outlines of Bathymetric surveys, relevant for the iAtlantic Consortium. This was exported from the IHO Data Centre for Digital Bathymetry (DCDB), https://www.ngdc.noaa.gov/iho/\n",
      "----\n",
      "Bathymetry of Espirito Santo and Campos basins SW Atlantic1\n",
      "Digital Bathymetric Model (DBM) with cell size of 93 m, created through a process of merging two original DBMs: Espírito Santo Basin DBM and Campos Basin DBM. Sectors, where the original DBMs overlapped, were excluded, as well as cells with missing data (NA) and those with depth values greater than zero. The fusion of the two DBMs were performed through image blending and subsequent processing with a low-pass filter. Bathymetric data originated from 3D seismic, multibeam and sonar interferometry scanning bathymetry data produced by Brazilian Petroleum Corporation ? Petrobras in Campos and Espírito Santo basins in the context of environmental studies required during various oil and gas production and drilling licensing processes. Complementary data derived from log sheets produced by the Directorate of Hydrography and Navigation ? DHN (Brazilian Navy), ETOPO data obtained from the NGCD (National Geophysical Data Center) of NOAA (National Oceanic and Atmospheric Administration), SRTM (Shuttle Radar Topography Mission). Petrobras environmental data analyses (meteoceanography, geology and geomorphology, chemistry of water and sediment, and biota) are conducted by Petrobras Research and Development Center (CENPES).\n",
      "----\n",
      "PANGAEA UCC Bathymetric and Backscatter grids of the Porcupine Abyssal Plain\n",
      "Multibeam bathymetric grid of the Porcupine Abyssal Plain, NE Atlantic. All data were acquired during the UCC-led research cruises MoChaSCan 1 with an EM302. Data acquisition was managed in SIS, where survey lines were planned and sound velocity profiles were added. This data set was processed using QPS Qimera by INFOMAR. Data are at 60 x 60 m resolution (bathy) and 25 x 25 m resolution (backscatter)\n",
      "----\n"
     ]
    }
   ],
   "source": [
    "csw.getrecords2(cql='csw:AnyText like \"%multibeam%\" AND csw:AnyText like \"%iAtlantic%\"',maxrecords=20,esn='full',outputschema='http://www.isotc211.org/2005/gmd')\n",
    "print(csw.results)\n",
    "for rec in csw.records:\n",
    "    print(csw.records[rec].identification.title)\n",
    "    print(csw.records[rec].identification.abstract)\n",
    "    print(\"----\")"
   ]
  },
  {
   "cell_type": "markdown",
   "metadata": {},
   "source": [
    "#### Get record metadata"
   ]
  },
  {
   "cell_type": "code",
   "execution_count": 13,
   "metadata": {},
   "outputs": [
    {
     "name": "stdout",
     "output_type": "stream",
     "text": [
      "{'abstract': 'Digital Bathymetric Model (DBM) with cell size of 93 m, created '\n",
      "             'through a process of merging two original DBMs: Espírito Santo '\n",
      "             'Basin DBM and Campos Basin DBM. Sectors, where the original DBMs '\n",
      "             'overlapped, were excluded, as well as cells with missing data '\n",
      "             '(NA) and those with depth values greater than zero. The fusion '\n",
      "             'of the two DBMs were performed through image blending and '\n",
      "             'subsequent processing with a low-pass filter. Bathymetric data '\n",
      "             'originated from 3D seismic, multibeam and sonar interferometry '\n",
      "             'scanning bathymetry data produced by Brazilian Petroleum '\n",
      "             'Corporation ? Petrobras in Campos and Espírito Santo basins in '\n",
      "             'the context of environmental studies required during various oil '\n",
      "             'and gas production and drilling licensing processes. '\n",
      "             'Complementary data derived from log sheets produced by the '\n",
      "             'Directorate of Hydrography and Navigation ? DHN (Brazilian '\n",
      "             'Navy), ETOPO data obtained from the NGCD (National Geophysical '\n",
      "             'Data Center) of NOAA (National Oceanic and Atmospheric '\n",
      "             'Administration), SRTM (Shuttle Radar Topography Mission). '\n",
      "             'Petrobras environmental data analyses (meteoceanography, geology '\n",
      "             'and geomorphology, chemistry of water and sediment, and biota) '\n",
      "             'are conducted by Petrobras Research and Development Center '\n",
      "             '(CENPES).',\n",
      " 'abstract_url': None,\n",
      " 'accessconstraints': [],\n",
      " 'aggregationinfo': None,\n",
      " 'alternatetitle': None,\n",
      " 'bbox': <owslib.iso.EX_GeographicBoundingBox object at 0x0000024A96520C40>,\n",
      " 'classification': [],\n",
      " 'contact': [<owslib.iso.CI_ResponsibleParty object at 0x0000024A951E0580>],\n",
      " 'contributor': [],\n",
      " 'creator': [<owslib.iso.CI_ResponsibleParty object at 0x0000024A951E00D0>],\n",
      " 'date': [<owslib.iso.CI_Date object at 0x0000024A96521190>],\n",
      " 'datetype': [],\n",
      " 'denominators': [],\n",
      " 'distance': [],\n",
      " 'edition': 'PANGAEA, https://doi.org/10.1594/PANGAEA.942382',\n",
      " 'extent': <owslib.iso.EX_Extent object at 0x0000024A96526F40>,\n",
      " 'graphicoverview': ['http://www.geonode.iatlantic.eu/uploaded/thumbs/layer-583e324a-b422-11ec-be5b-0242ac130003-thumb.png'],\n",
      " 'identtype': 'dataset',\n",
      " 'keywords': [{'keywords': ['AWI_BathymetryCoverage',\n",
      "                            'Bathymetry_of_Espirito_Santo_and_Campos_basins_SW_Atlantic1',\n",
      "                            'Deep Atlantic',\n",
      "                            'GeoTIFF',\n",
      "                            'Southwest Atlantic Ocean',\n",
      "                            'WCS'],\n",
      "               'thesaurus': {'date': None, 'datetype': None, 'title': None},\n",
      "               'type': 'theme'},\n",
      "              {'keywords': ['Global'],\n",
      "               'thesaurus': {'date': None, 'datetype': None, 'title': None},\n",
      "               'type': 'place'}],\n",
      " 'keywords2': [<owslib.iso.MD_Keywords object at 0x0000024A951CA7C0>,\n",
      "               <owslib.iso.MD_Keywords object at 0x0000024A96523C10>],\n",
      " 'otherconstraints': ['Creative Commons Attribution 4.0 International (CC BY '\n",
      "                      '4.0): This is a human-readable summary of (and not a '\n",
      "                      'substitute for) the license. Disclaimer.\\n'\n",
      "                      'You are free to:\\n'\n",
      "                      'Share — copy and redistribute the material in any '\n",
      "                      'medium or format\\n'\n",
      "                      'Adapt — remix, transform, and build upon the material\\n'\n",
      "                      'for any purpose, even commercially.\\n'\n",
      "                      'This license is acceptable for Free Cultural Works.\\n'\n",
      "                      'The licensor cannot revoke these freedoms as long as '\n",
      "                      'you follow the license terms.\\n'\n",
      "                      'Under the following terms:\\n'\n",
      "                      'Attribution — You must give appropriate credit, provide '\n",
      "                      'a link to the license, and indicate if changes were '\n",
      "                      'made. You may do so in any reasonable manner, but not '\n",
      "                      'in any way that suggests the licensor endorses you or '\n",
      "                      'your use.\\n'\n",
      "                      '\\n'\n",
      "                      'No additional restrictions — You may not apply legal '\n",
      "                      'terms or technological measures that legally restrict '\n",
      "                      'others from doing anything the license permits.\\n'\n",
      "                      'Notices:\\n'\n",
      "                      'You do not have to comply with the license for elements '\n",
      "                      'of the material in the public domain or where your use '\n",
      "                      'is permitted by an applicable exception or limitation.\\n'\n",
      "                      'No warranties are given. The license may not give you '\n",
      "                      'all of the permissions necessary for your intended use. '\n",
      "                      'For example, other rights such as publicity, privacy, '\n",
      "                      'or moral rights may limit how you use the material. '\n",
      "                      '(https://creativecommons.org/licenses/by/4.0/)'],\n",
      " 'publisher': [],\n",
      " 'purpose': \"Perez, José Angel Alvarez; Sant'Ana, Rodrigo; Gavazzoni, Lucas; \"\n",
      "            'Varotto, Ricardo Silva; Sumida, Paulo Yukio Gomes; Lindner, '\n",
      "            'Alberto; Bernardino, Angelo Fraga; Silva, Priscila Reis da; '\n",
      "            'Holanda, Guarani Cavalcanti (2022): 3D seismic, multibeam and '\n",
      "            'sonar interferometry scanning bath\\n'\n",
      "            'Project(s): \\n'\n",
      "            'Integrated Assessment of Atlantic Marine Ecosystems in Space and '\n",
      "            'Time (iAtlantic)',\n",
      " 'resourcelanguage': ['eng'],\n",
      " 'resourcelanguagecode': [],\n",
      " 'securityconstraints': [],\n",
      " 'spatialrepresentationtype': [],\n",
      " 'status': 'completed',\n",
      " 'supplementalinformation': 'Funding:\\n'\n",
      "                            'Horizon 2020 (H2020), grant/award no. 818123: '\n",
      "                            'Integrated Assessment of Atlantic Marine '\n",
      "                            'Ecosystems in Space and Time\\n'\n",
      "                            'Coverage:\\n'\n",
      "                            'Latitude: -21.239254 * Longitude: -39.169184\\n'\n",
      "                            'Event(s):\\n'\n",
      "                            'DBM_Espirito_Santo-Campos_Basins * Latitude: '\n",
      "                            '-21.239254 * Longitude: -39.169184 * Location: '\n",
      "                            'Southwest Atlantic *Comment: Event coordinates '\n",
      "                            'refer to the center location of the area covered '\n",
      "                            'by the combined surveys. Data for Campos basin '\n",
      "                            'collected in 2004 and for Espirito Santo basin in '\n",
      "                            '2006.\\n'\n",
      "                            'Status:\\n'\n",
      "                            'Curation Level: Enhanced curation '\n",
      "                            '(CurationLevelC) * Processing Level: PANGAEA data '\n",
      "                            'processing level 4 (ProcLevel4)',\n",
      " 'temporalextent_end': None,\n",
      " 'temporalextent_start': None,\n",
      " 'title': 'Bathymetry of Espirito Santo and Campos basins SW Atlantic1',\n",
      " 'topiccategory': ['oceans'],\n",
      " 'uom': [],\n",
      " 'uricode': [],\n",
      " 'uricodespace': [],\n",
      " 'useconstraints': ['license', 'license'],\n",
      " 'uselimitation': [],\n",
      " 'uselimitation_url': []}\n"
     ]
    }
   ],
   "source": [
    "from pprint import pprint\n",
    "records = [csw.records[rec] for rec in csw.records]\n",
    "record = records[2]\n",
    "pprint(vars(record.identification))"
   ]
  },
  {
   "cell_type": "markdown",
   "metadata": {},
   "source": [
    "#### Get record data"
   ]
  },
  {
   "cell_type": "code",
   "execution_count": 14,
   "metadata": {},
   "outputs": [
    {
     "name": "stdout",
     "output_type": "stream",
     "text": [
      "Description:  Online link to the 'Bathymetry of Espirito Santo and Campos basins SW Atlantic1' description on GeoNode\n",
      "Protocol:  WWW:LINK-1.0-http--link\n",
      "URL:  https://www.geonode.iatlantic.eu/layers/Bathymetry_of_Espirito_Santo_and_Campos_basins_SW_Atlantic1:geonode:Bathymetry_of_Espirito_Santo_and_Campos_basins_SW_Atlantic1\n",
      "---\n",
      "Description:  Bathymetry of Espirito Santo and Campos basins SW Atlantic1 (Thumbnail Format)\n",
      "Protocol:  WWW:DOWNLOAD-1.0-http--download\n",
      "URL:  http://www.geonode.iatlantic.eu/uploaded/thumbs/layer-583e324a-b422-11ec-be5b-0242ac130003-thumb.png\n",
      "---\n",
      "Description:  Bathymetry of Espirito Santo and Campos basins SW Atlantic1 (Remote Thumbnail Format)\n",
      "Protocol:  WWW:DOWNLOAD-1.0-http--download\n",
      "URL:  http://www.geonode.iatlantic.eu/geoserver/ows?layers=geonode:Bathymetry_of_Espirito_Santo_and_Campos_basins_SW_Atlantic1&crs=EPSG:4326&service=WMS&format=image/png8&access_token=8xMLdVjOM96GpWms8mUPSjpFuVwHYQ&request=GetMap&height=180&width=240&version=1.1.1&bbox=-42.063489715591740,-24.147628849229005,-36.274877394803380,-18.330880046000000\n",
      "---\n",
      "Description:  Bathymetry of Espirito Santo and Campos basins SW Atlantic1 (Legend Format)\n",
      "Protocol:  WWW:DOWNLOAD-1.0-http--download\n",
      "URL:  http://www.geonode.iatlantic.eu/geoserver/ows?service=WMS&request=GetLegendGraphic&format=image/png&WIDTH=20&HEIGHT=20&LAYER=geonode:Bathymetry_of_Espirito_Santo_and_Campos_basins_SW_Atlantic1&STYLE=Bathymetry_of_Espirito_Santo_and_Campos_basins_SW_Atlantic1&legend_options=fontAntiAliasing:true;fontSize:12;forceLabels:on\n",
      "---\n",
      "Description:  Bathymetry of Espirito Santo and Campos basins SW Atlantic1 (GeoTIFF Format)\n",
      "Protocol:  WWW:DOWNLOAD-1.0-http--download\n",
      "URL:  http://www.geonode.iatlantic.eu/geoserver/wcs?service=WCS&format=image%2Ftiff&request=GetCoverage&srs=EPSG%3A4326&version=2.0.1&bbox=-42.063489715591740%2C-24.147628849229005%2C-36.274877394803380%2C-18.330880046000000&coverageid=geonode%3ABathymetry_of_Espirito_Santo_and_Campos_basins_SW_Atlantic1\n",
      "---\n",
      "Description:  Bathymetry of Espirito Santo and Campos basins SW Atlantic1 (GZIP Format)\n",
      "Protocol:  WWW:DOWNLOAD-1.0-http--download\n",
      "URL:  http://www.geonode.iatlantic.eu/geoserver/wcs?service=WCS&format=application%2Fx-gzip&request=GetCoverage&srs=EPSG%3A4326&version=2.0.1&bbox=-42.063489715591740%2C-24.147628849229005%2C-36.274877394803380%2C-18.330880046000000&coverageid=geonode%3ABathymetry_of_Espirito_Santo_and_Campos_basins_SW_Atlantic1\n",
      "---\n",
      "Description:  Bathymetry of Espirito Santo and Campos basins SW Atlantic1 (PNG Format)\n",
      "Protocol:  WWW:DOWNLOAD-1.0-http--download\n",
      "URL:  http://www.geonode.iatlantic.eu/geoserver/ows?layers=geonode%3ABathymetry_of_Espirito_Santo_and_Campos_basins_SW_Atlantic1&service=WMS&format=image%2Fpng&request=GetMap&height=550&width=550&bbox=-42.063489715591740%2C-24.147628849229005%2C-36.274877394803380%2C-18.330880046000000&srs=EPSG%3A4326\n",
      "---\n",
      "Description:  Bathymetry of Espirito Santo and Campos basins SW Atlantic1 (PDF Format)\n",
      "Protocol:  WWW:DOWNLOAD-1.0-http--download\n",
      "URL:  http://www.geonode.iatlantic.eu/geoserver/ows?layers=geonode%3ABathymetry_of_Espirito_Santo_and_Campos_basins_SW_Atlantic1&service=WMS&format=application%2Fpdf&request=GetMap&height=550&width=550&bbox=-42.063489715591740%2C-24.147628849229005%2C-36.274877394803380%2C-18.330880046000000&srs=EPSG%3A4326\n",
      "---\n",
      "Description:  Bathymetry of Espirito Santo and Campos basins SW Atlantic1 (JPEG Format)\n",
      "Protocol:  WWW:DOWNLOAD-1.0-http--download\n",
      "URL:  http://www.geonode.iatlantic.eu/geoserver/ows?layers=geonode%3ABathymetry_of_Espirito_Santo_and_Campos_basins_SW_Atlantic1&service=WMS&format=image%2Fjpeg&request=GetMap&height=550&width=550&bbox=-42.063489715591740%2C-24.147628849229005%2C-36.274877394803380%2C-18.330880046000000&srs=EPSG%3A4326\n",
      "---\n",
      "Description:  Bathymetry of Espirito Santo and Campos basins SW Atlantic1 (Original Dataset Format)\n",
      "Protocol:  WWW:DOWNLOAD-1.0-http--download\n",
      "URL:  http://www.geonode.iatlantic.eu/download/425\n",
      "---\n",
      "Description:  geonode Service - Provides Layer: Bathymetry of Espirito Santo and Campos basins SW Atlantic1\n",
      "Protocol:  OGC:WCS\n",
      "URL:  http://www.geonode.iatlantic.eu/geoserver/ows\n",
      "---\n",
      "Description:  geonode Service - Provides Layer: Bathymetry of Espirito Santo and Campos basins SW Atlantic1\n",
      "Protocol:  OGC:WMS\n",
      "URL:  http://www.geonode.iatlantic.eu/geoserver/ows\n",
      "---\n"
     ]
    }
   ],
   "source": [
    "for resource in record.distribution.online:\n",
    "    print('Description: ', resource.description)\n",
    "    print('Protocol: ', resource.protocol)\n",
    "    print('URL: ', resource.url)\n",
    "    print(\"---\")"
   ]
  },
  {
   "cell_type": "markdown",
   "metadata": {},
   "source": [
    "### [>> Next: Visualize data using OGC Web Mapping Service (WMS)](./2_visualize_data_with_WMS.ipynb) "
   ]
  },
  {
   "cell_type": "markdown",
   "metadata": {},
   "source": [
    "<hr>"
   ]
  },
  {
   "cell_type": "markdown",
   "metadata": {},
   "source": [
    "<a rel=\"license\" href=\"http://creativecommons.org/licenses/by/4.0/\"><img style=\"float: right\" alt=\"Creative Commons Lizenzvertrag\" style=\"border-width:0\" src=\"https://i.creativecommons.org/l/by/4.0/88x31.png\" /></a>"
   ]
  }
 ],
 "metadata": {
  "kernelspec": {
   "display_name": "Python 3.8.3 64-bit",
   "language": "python",
   "name": "python3"
  },
  "language_info": {
   "codemirror_mode": {
    "name": "ipython",
    "version": 3
   },
   "file_extension": ".py",
   "mimetype": "text/x-python",
   "name": "python",
   "nbconvert_exporter": "python",
   "pygments_lexer": "ipython3",
   "version": "3.8.3"
  },
  "vscode": {
   "interpreter": {
    "hash": "9650cb4e16cdd4a8e8e2d128bf38d875813998db22a3c986335f89e0cb4d7bb2"
   }
  }
 },
 "nbformat": 4,
 "nbformat_minor": 2
}
