{
 "cells": [
  {
   "cell_type": "markdown",
   "metadata": {},
   "source": [
    "<img src=\"./img/logo.png\" align=\"right\" width=\"50%\"></img>\n",
    "# iAtlantic GeoNode 101\n",
    "### Tier 2: How to use OGC webservices offered by the iAtlantic GeoNode in your data analysis"
   ]
  },
  {
   "cell_type": "markdown",
   "metadata": {},
   "source": [
    "## 1. Search through metadata using the OGC Catalogue Service (CSW)"
   ]
  },
  {
   "cell_type": "markdown",
   "metadata": {},
   "source": [
    "The OWSLib library is a python library that makes accessing data and metadata through OGC services possible. The library abstracts all of the traditional HTTP API calls into programmatic function calls. We will be using this library throughout the tutorial to interact with the iAtlantic GeoNode OGC services.\n",
    "\n",
    "The library is available from GitHub @  https://github.com/geopython/OWSLib"
   ]
  },
  {
   "cell_type": "code",
   "execution_count": 1,
   "metadata": {},
   "outputs": [],
   "source": [
    "from owslib.csw import CatalogueServiceWeb"
   ]
  },
  {
   "cell_type": "markdown",
   "metadata": {},
   "source": [
    "#### Create a CatalogueServiceWeb object"
   ]
  },
  {
   "cell_type": "code",
   "execution_count": 2,
   "metadata": {},
   "outputs": [],
   "source": [
    "csw = CatalogueServiceWeb('http://www.geonode.iatlantic.eu/catalogue/csw')"
   ]
  },
  {
   "cell_type": "markdown",
   "metadata": {},
   "source": [
    "#### Inspect its properties"
   ]
  },
  {
   "cell_type": "code",
   "execution_count": 3,
   "metadata": {},
   "outputs": [
    {
     "name": "stdout",
     "output_type": "stream",
     "text": [
      "CSW\n",
      "GeoNode Catalogue\n",
      "2.0.2\n",
      "['GetCapabilities', 'DescribeRecord', 'GetDomain', 'GetRecords', 'GetRecordById', 'GetRepositoryItem']\n"
     ]
    }
   ],
   "source": [
    "print(csw.identification.type)\n",
    "print(csw.identification.title)\n",
    "print(csw.identification.version)\n",
    "print([op.name for op in csw.operations])"
   ]
  },
  {
   "cell_type": "markdown",
   "metadata": {},
   "source": [
    "#### Inspect the supported GetDomain parameters"
   ]
  },
  {
   "cell_type": "code",
   "execution_count": 4,
   "metadata": {},
   "outputs": [
    {
     "data": {
      "text/plain": [
       "{'ParameterName': {'values': ['DescribeRecord.outputFormat',\n",
       "   'DescribeRecord.schemaLanguage',\n",
       "   'DescribeRecord.typeName',\n",
       "   'GetCapabilities.sections',\n",
       "   'GetRecordById.ElementSetName',\n",
       "   'GetRecordById.outputFormat',\n",
       "   'GetRecordById.outputSchema',\n",
       "   'GetRecords.CONSTRAINTLANGUAGE',\n",
       "   'GetRecords.ElementSetName',\n",
       "   'GetRecords.outputFormat',\n",
       "   'GetRecords.outputSchema',\n",
       "   'GetRecords.resultType',\n",
       "   'GetRecords.typeNames']}}"
      ]
     },
     "execution_count": 4,
     "metadata": {},
     "output_type": "execute_result"
    }
   ],
   "source": [
    "csw.get_operation_by_name(\"GetDomain\").parameters"
   ]
  },
  {
   "cell_type": "markdown",
   "metadata": {},
   "source": [
    "#### Get suported constraint languages"
   ]
  },
  {
   "cell_type": "code",
   "execution_count": 5,
   "metadata": {},
   "outputs": [
    {
     "data": {
      "text/plain": [
       "{'type': 'csw:Record',\n",
       " 'parameter': 'GetRecords.CONSTRAINTLANGUAGE',\n",
       " 'values': ['CQL_TEXT', 'FILTER']}"
      ]
     },
     "execution_count": 5,
     "metadata": {},
     "output_type": "execute_result"
    }
   ],
   "source": [
    "csw.getdomain('GetRecords.CONSTRAINTLANGUAGE')\n",
    "csw.results"
   ]
  },
  {
   "cell_type": "markdown",
   "metadata": {},
   "source": [
    "#### Get supported elementsets"
   ]
  },
  {
   "cell_type": "code",
   "execution_count": 6,
   "metadata": {},
   "outputs": [
    {
     "data": {
      "text/plain": [
       "{'type': 'csw:Record',\n",
       " 'parameter': 'GetRecords.ElementSetName',\n",
       " 'values': ['brief', 'full', 'summary']}"
      ]
     },
     "execution_count": 6,
     "metadata": {},
     "output_type": "execute_result"
    }
   ],
   "source": [
    "csw.getdomain('GetRecords.ElementSetName')\n",
    "csw.results"
   ]
  },
  {
   "cell_type": "markdown",
   "metadata": {},
   "source": [
    "#### Get supported output formats"
   ]
  },
  {
   "cell_type": "code",
   "execution_count": 7,
   "metadata": {},
   "outputs": [
    {
     "data": {
      "text/plain": [
       "{'type': 'csw:Record',\n",
       " 'parameter': 'GetRecords.outputFormat',\n",
       " 'values': ['application/json', 'application/xml']}"
      ]
     },
     "execution_count": 7,
     "metadata": {},
     "output_type": "execute_result"
    }
   ],
   "source": [
    "csw.getdomain('GetRecords.outputFormat')\n",
    "csw.results"
   ]
  },
  {
   "cell_type": "markdown",
   "metadata": {},
   "source": [
    "#### Get supported output schemas"
   ]
  },
  {
   "cell_type": "code",
   "execution_count": 8,
   "metadata": {},
   "outputs": [
    {
     "data": {
      "text/plain": [
       "{'type': 'csw:Record',\n",
       " 'parameter': 'GetRecords.outputSchema',\n",
       " 'values': ['http://gcmd.gsfc.nasa.gov/Aboutus/xml/dif/',\n",
       "  'http://www.interlis.ch/INTERLIS2.3',\n",
       "  'http://www.isotc211.org/2005/gmd',\n",
       "  'http://www.opengis.net/cat/csw/2.0.2',\n",
       "  'http://www.opengis.net/cat/csw/csdgm',\n",
       "  'http://www.w3.org/2005/Atom',\n",
       "  'urn:oasis:names:tc:ebxml-regrep:xsd:rim:3.0']}"
      ]
     },
     "execution_count": 8,
     "metadata": {},
     "output_type": "execute_result"
    }
   ],
   "source": [
    "csw.getdomain('GetRecords.outputSchema')\n",
    "csw.results"
   ]
  },
  {
   "cell_type": "markdown",
   "metadata": {},
   "source": [
    "#### Search data by using OGC Filter Encoding"
   ]
  },
  {
   "cell_type": "code",
   "execution_count": 9,
   "metadata": {},
   "outputs": [],
   "source": [
    "from owslib.fes import PropertyIsEqualTo, PropertyIsLike"
   ]
  },
  {
   "cell_type": "markdown",
   "metadata": {},
   "source": [
    ">##### Example: search for AnyText fields that equal \"bathymetry\""
   ]
  },
  {
   "cell_type": "code",
   "execution_count": 10,
   "metadata": {},
   "outputs": [
    {
     "name": "stdout",
     "output_type": "stream",
     "text": [
      "{'matches': 4, 'returned': 4, 'nextrecord': 0}\n",
      "Bathymetric Coverage iAtlantic\n",
      "A dataset containing the outlines of Bathymetric surveys, relevant for the iAtlantic Consortium.\n",
      "----\n",
      "Bathymetric Surveys - AWI\n",
      "A dataset containing the outlines of Bathymetric surveys, relevant for the iAtlantic Consortium.\n",
      "----\n",
      "Source references\n",
      "Coverage of individual bathymetric surveys and Composite DTMs that contribute to the  EMODnet Bathymetry DTM.\n",
      "----\n",
      "Mean depth full coverage with land coverage\n",
      "Mean depth based on source resolution of 1/16 arc minute (~125 meter). \n",
      "Full coverage ocean and land DTM in traditional atlas style colours.\n",
      "----\n"
     ]
    },
    {
     "name": "stderr",
     "output_type": "stream",
     "text": [
      "C:\\Users\\timc\\.conda\\envs\\geospatial\\lib\\site-packages\\owslib\\iso.py:116: FutureWarning: the .identification and .serviceidentification properties will merge into .identification being a list of properties.  This is currently implemented in .identificationinfo.  Please see https://github.com/geopython/OWSLib/issues/38 for more information\n",
      "  warnings.warn(\n",
      "C:\\Users\\timc\\.conda\\envs\\geospatial\\lib\\site-packages\\owslib\\iso.py:543: FutureWarning: The .keywords and .keywords2 properties will merge into the .keywords property in the future, with .keywords becoming a list of MD_Keywords instances. This is currently implemented in .keywords2. Please see https://github.com/geopython/OWSLib/issues/301 for more information\n",
      "  warnings.warn(\n"
     ]
    }
   ],
   "source": [
    "anytext_query = PropertyIsEqualTo('apiso:AnyText','bathymetry')\n",
    "csw.getrecords2(constraints=[anytext_query], maxrecords=20, esn='full',outputschema='http://www.isotc211.org/2005/gmd')\n",
    "print(csw.results)\n",
    "for rec in csw.records:\n",
    "    print(csw.records[rec].identification.title)\n",
    "    print(csw.records[rec].identification.abstract)\n",
    "    print(\"----\")"
   ]
  },
  {
   "cell_type": "markdown",
   "metadata": {},
   "source": [
    "> ##### Example: search for title fields that contain \"AWI\""
   ]
  },
  {
   "cell_type": "code",
   "execution_count": 11,
   "metadata": {},
   "outputs": [
    {
     "name": "stdout",
     "output_type": "stream",
     "text": [
      "{'matches': 1, 'returned': 1, 'nextrecord': 0}\n",
      "Bathymetric Surveys - AWI\n",
      "A dataset containing the outlines of Bathymetric surveys, relevant for the iAtlantic Consortium.\n",
      "----\n"
     ]
    }
   ],
   "source": [
    "title_query = PropertyIsLike('apiso:Title','%AWI%', wildCard=\"%\")\n",
    "csw.getrecords2(constraints=[title_query], maxrecords=20, esn='full',outputschema='http://www.isotc211.org/2005/gmd')\n",
    "print(csw.results)\n",
    "for rec in csw.records:\n",
    "    print(csw.records[rec].identification.title)\n",
    "    print(csw.records[rec].identification.abstract)\n",
    "    print(\"----\")"
   ]
  },
  {
   "cell_type": "markdown",
   "metadata": {},
   "source": [
    "#### Search with a CQL query"
   ]
  },
  {
   "cell_type": "markdown",
   "metadata": {},
   "source": [
    "> Example: search for multibeam and iAtlantic in AnyText fields"
   ]
  },
  {
   "cell_type": "code",
   "execution_count": 12,
   "metadata": {},
   "outputs": [
    {
     "name": "stdout",
     "output_type": "stream",
     "text": [
      "{'matches': 2, 'returned': 2, 'nextrecord': 0}\n",
      "Bathymetric Coverage iAtlantic\n",
      "A dataset containing the outlines of Bathymetric surveys, relevant for the iAtlantic Consortium.\n",
      "----\n",
      "Bathymetric Surveys - AWI\n",
      "A dataset containing the outlines of Bathymetric surveys, relevant for the iAtlantic Consortium.\n",
      "----\n"
     ]
    }
   ],
   "source": [
    "csw.getrecords2(cql='csw:AnyText like \"%multibeam%\" AND csw:AnyText like \"%iAtlantic%\"',maxrecords=20,esn='full',outputschema='http://www.isotc211.org/2005/gmd')\n",
    "print(csw.results)\n",
    "for rec in csw.records:\n",
    "    print(csw.records[rec].identification.title)\n",
    "    print(csw.records[rec].identification.abstract)\n",
    "    print(\"----\")"
   ]
  },
  {
   "cell_type": "markdown",
   "metadata": {},
   "source": [
    "#### Get record metadata"
   ]
  },
  {
   "cell_type": "code",
   "execution_count": 13,
   "metadata": {},
   "outputs": [
    {
     "name": "stdout",
     "output_type": "stream",
     "text": [
      "{'abstract': 'A dataset containing the outlines of Bathymetric surveys, '\n",
      "             'relevant for the iAtlantic Consortium.',\n",
      " 'abstract_url': None,\n",
      " 'accessconstraints': [],\n",
      " 'aggregationinfo': None,\n",
      " 'alternatetitle': None,\n",
      " 'bbox': <owslib.iso.EX_GeographicBoundingBox object at 0x0000024E49E83520>,\n",
      " 'classification': [],\n",
      " 'contact': [<owslib.iso.CI_ResponsibleParty object at 0x0000024E49E8BBB0>],\n",
      " 'contributor': [],\n",
      " 'creator': [<owslib.iso.CI_ResponsibleParty object at 0x0000024E49E8BB50>],\n",
      " 'date': [<owslib.iso.CI_Date object at 0x0000024E49E53C70>],\n",
      " 'datetype': [],\n",
      " 'denominators': [],\n",
      " 'distance': [],\n",
      " 'edition': None,\n",
      " 'extent': <owslib.iso.EX_Extent object at 0x0000024E49E83640>,\n",
      " 'identtype': 'dataset',\n",
      " 'keywords': [{'keywords': ['Bathymetry', 'features', 'Multibeam', 'Survey'],\n",
      "               'thesaurus': {'date': None, 'datetype': None, 'title': None},\n",
      "               'type': 'theme'},\n",
      "              {'keywords': ['Global'],\n",
      "               'thesaurus': {'date': None, 'datetype': None, 'title': None},\n",
      "               'type': 'place'}],\n",
      " 'keywords2': [<owslib.iso.MD_Keywords object at 0x0000024E49E8B640>,\n",
      "               <owslib.iso.MD_Keywords object at 0x0000024E49E8B1F0>],\n",
      " 'otherconstraints': ['Not Specified: The original author did not specify a '\n",
      "                      'license.'],\n",
      " 'publisher': [],\n",
      " 'purpose': None,\n",
      " 'resourcelanguage': ['eng'],\n",
      " 'resourcelanguagecode': [],\n",
      " 'securityconstraints': [],\n",
      " 'spatialrepresentationtype': [],\n",
      " 'status': 'completed',\n",
      " 'supplementalinformation': 'No information provided',\n",
      " 'temporalextent_end': None,\n",
      " 'temporalextent_start': None,\n",
      " 'title': 'Bathymetric Coverage iAtlantic',\n",
      " 'topiccategory': ['oceans'],\n",
      " 'uom': [],\n",
      " 'uricode': [],\n",
      " 'uricodespace': [],\n",
      " 'useconstraints': ['license', ''],\n",
      " 'uselimitation': [],\n",
      " 'uselimitation_url': []}\n"
     ]
    }
   ],
   "source": [
    "from pprint import pprint\n",
    "records = [csw.records[rec] for rec in csw.records]\n",
    "record = records[0]\n",
    "pprint(vars(record.identification))"
   ]
  },
  {
   "cell_type": "markdown",
   "metadata": {},
   "source": [
    "#### Get record data"
   ]
  },
  {
   "cell_type": "code",
   "execution_count": 17,
   "metadata": {},
   "outputs": [
    {
     "name": "stdout",
     "output_type": "stream",
     "text": [
      "Description: Online link to the 'Bathymetric Coverage iAtlantic' description on GeoNode\n",
      "Protocol: WWW:LINK-1.0-http--link\n",
      "URL: http://www.geonode.iatlantic.eu/layers/ialtantic_geonode_data:geonode:DCDB_200320_BathyCoverage_iAtlantic\n",
      "---\n",
      "Description: Bathymetric Coverage iAtlantic (Original Dataset Format)\n",
      "Protocol: WWW:DOWNLOAD-1.0-http--download\n",
      "URL: http://www.geonode.iatlantic.eu/download/34\n",
      "---\n",
      "Description: Bathymetric Coverage iAtlantic (JPEG Format)\n",
      "Protocol: WWW:DOWNLOAD-1.0-http--download\n",
      "URL: http://www.geonode.iatlantic.eu/geoserver/ows?layers=geonode%3ADCDB_200320_BathyCoverage_iAtlantic&service=WMS&format=image%2Fjpeg&request=GetMap&height=550&width=550&bbox=-88.310417175293000%2C-63.689586639404300%2C27.772916793823200%2C76.860420227050800&srs=EPSG%3A4326\n",
      "---\n",
      "Description: Bathymetric Coverage iAtlantic (PDF Format)\n",
      "Protocol: WWW:DOWNLOAD-1.0-http--download\n",
      "URL: http://www.geonode.iatlantic.eu/geoserver/ows?layers=geonode%3ADCDB_200320_BathyCoverage_iAtlantic&service=WMS&format=application%2Fpdf&request=GetMap&height=550&width=550&bbox=-88.310417175293000%2C-63.689586639404300%2C27.772916793823200%2C76.860420227050800&srs=EPSG%3A4326\n",
      "---\n",
      "Description: Bathymetric Coverage iAtlantic (PNG Format)\n",
      "Protocol: WWW:DOWNLOAD-1.0-http--download\n",
      "URL: http://www.geonode.iatlantic.eu/geoserver/ows?layers=geonode%3ADCDB_200320_BathyCoverage_iAtlantic&service=WMS&format=image%2Fpng&request=GetMap&height=550&width=550&bbox=-88.310417175293000%2C-63.689586639404300%2C27.772916793823200%2C76.860420227050800&srs=EPSG%3A4326\n",
      "---\n",
      "Description: Bathymetric Coverage iAtlantic (Zipped Shapefile Format)\n",
      "Protocol: WWW:DOWNLOAD-1.0-http--download\n",
      "URL: http://www.geonode.iatlantic.eu/geoserver/ows?outputFormat=SHAPE-ZIP&service=WFS&srs=EPSG%3A4326&request=GetFeature&format_options=charset%3AUTF-8&typename=geonode%3ADCDB_200320_BathyCoverage_iAtlantic&version=1.0.0\n",
      "---\n",
      "Description: Bathymetric Coverage iAtlantic (GML 2.0 Format)\n",
      "Protocol: WWW:DOWNLOAD-1.0-http--download\n",
      "URL: http://www.geonode.iatlantic.eu/geoserver/ows?outputFormat=gml2&service=WFS&srs=EPSG%3A4326&request=GetFeature&typename=geonode%3ADCDB_200320_BathyCoverage_iAtlantic&version=1.0.0\n",
      "---\n",
      "Description: Bathymetric Coverage iAtlantic (GML 3.1.1 Format)\n",
      "Protocol: WWW:DOWNLOAD-1.0-http--download\n",
      "URL: http://www.geonode.iatlantic.eu/geoserver/ows?outputFormat=text%2Fxml%3B+subtype%3Dgml%2F3.1.1&service=WFS&srs=EPSG%3A4326&request=GetFeature&typename=geonode%3ADCDB_200320_BathyCoverage_iAtlantic&version=1.0.0\n",
      "---\n",
      "Description: Bathymetric Coverage iAtlantic (CSV Format)\n",
      "Protocol: WWW:DOWNLOAD-1.0-http--download\n",
      "URL: http://www.geonode.iatlantic.eu/geoserver/ows?outputFormat=csv&service=WFS&srs=EPSG%3A4326&request=GetFeature&typename=geonode%3ADCDB_200320_BathyCoverage_iAtlantic&version=1.0.0\n",
      "---\n",
      "Description: Bathymetric Coverage iAtlantic (Excel Format)\n",
      "Protocol: WWW:DOWNLOAD-1.0-http--download\n",
      "URL: http://www.geonode.iatlantic.eu/geoserver/ows?outputFormat=excel&service=WFS&srs=EPSG%3A4326&request=GetFeature&typename=geonode%3ADCDB_200320_BathyCoverage_iAtlantic&version=1.0.0\n",
      "---\n",
      "Description: Bathymetric Coverage iAtlantic (GeoJSON Format)\n",
      "Protocol: WWW:DOWNLOAD-1.0-http--download\n",
      "URL: http://www.geonode.iatlantic.eu/geoserver/ows?srsName=EPSG%3A4326&outputFormat=json&service=WFS&srs=EPSG%3A4326&request=GetFeature&typename=geonode%3ADCDB_200320_BathyCoverage_iAtlantic&version=1.0.0\n",
      "---\n",
      "Description: Bathymetric Coverage iAtlantic (Legend Format)\n",
      "Protocol: WWW:DOWNLOAD-1.0-http--download\n",
      "URL: http://www.geonode.iatlantic.eu/geoserver/ows?service=WMS&request=GetLegendGraphic&format=image/png&WIDTH=20&HEIGHT=20&LAYER=geonode:DCDB_200320_BathyCoverage_iAtlantic&STYLE=DCDB_200320_BathyCoverage_iAtlantic&legend_options=fontAntiAliasing:true;fontSize:12;forceLabels:on\n",
      "---\n",
      "Description: Bathymetric Coverage iAtlantic (Remote Thumbnail Format)\n",
      "Protocol: WWW:DOWNLOAD-1.0-http--download\n",
      "URL: http://www.geonode.iatlantic.eu/geoserver/ows?layers=geonode:DCDB_200320_BathyCoverage_iAtlantic&crs=EPSG:4326&service=WMS&format=image/png8&access_token=XsjjTSQCHRld4FzqoiBT72M9pCWSi3&request=GetMap&height=180&width=240&version=1.1.1&bbox=-88.310417175293000,-63.689586639404300,27.772916793823200,76.860420227050800\n",
      "---\n",
      "Description: Bathymetric Coverage iAtlantic (Thumbnail Format)\n",
      "Protocol: WWW:DOWNLOAD-1.0-http--download\n",
      "URL: http://www.geonode.iatlantic.eu/uploaded/thumbs/layer-6dfcd272-3958-4adc-8c1a-24b2577432ae-thumb.png\n",
      "---\n",
      "Description: geonode Service - Provides Layer: Bathymetric Coverage iAtlantic\n",
      "Protocol: OGC:WMS\n",
      "URL: http://www.geonode.iatlantic.eu/geoserver/ows\n",
      "---\n",
      "Description: geonode Service - Provides Layer: Bathymetric Coverage iAtlantic\n",
      "Protocol: OGC:WFS\n",
      "URL: http://www.geonode.iatlantic.eu/geoserver/ows\n",
      "---\n"
     ]
    }
   ],
   "source": [
    "for resource in record.distribution.online:\n",
    "    print('Description: '+resource.description)\n",
    "    print('Protocol: '+ resource.protocol)\n",
    "    print('URL: '+ resource.url)\n",
    "    print(\"---\")"
   ]
  },
  {
   "cell_type": "markdown",
   "metadata": {},
   "source": [
    "### [>> Next: Visualize data using OGC Web Mapping Service (WMS)](./2_visualize_data_with_WMS.ipynb) "
   ]
  },
  {
   "cell_type": "markdown",
   "metadata": {},
   "source": [
    "<hr>"
   ]
  },
  {
   "cell_type": "markdown",
   "metadata": {},
   "source": [
    "<a rel=\"license\" href=\"http://creativecommons.org/licenses/by/4.0/\"><img style=\"float: right\" alt=\"Creative Commons Lizenzvertrag\" style=\"border-width:0\" src=\"https://i.creativecommons.org/l/by/4.0/88x31.png\" /></a>"
   ]
  }
 ],
 "metadata": {
  "kernelspec": {
   "display_name": "Python 3",
   "language": "python",
   "name": "python3"
  },
  "language_info": {
   "codemirror_mode": {
    "name": "ipython",
    "version": 3
   },
   "file_extension": ".py",
   "mimetype": "text/x-python",
   "name": "python",
   "nbconvert_exporter": "python",
   "pygments_lexer": "ipython3",
   "version": "3.8.2"
  }
 },
 "nbformat": 4,
 "nbformat_minor": 2
}
