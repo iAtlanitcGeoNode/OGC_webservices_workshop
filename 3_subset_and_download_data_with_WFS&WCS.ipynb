{
 "cells": [
  {
   "cell_type": "markdown",
   "metadata": {},
   "source": [
    "<img src=\"./img/logo.png\" align=\"right\" width=\"50%\"></img>\n",
    "# iAtlantic GeoNode Workshop\n",
    "### Tier 2: How to use OGC webservices offered by the iAtlantic GeoNode in your data analysis"
   ]
  },
  {
   "cell_type": "markdown",
   "metadata": {},
   "source": [
    "## 3. Subset & download data using OGC Web Feature and Coverage Services (WFS/WCS)"
   ]
  },
  {
   "cell_type": "markdown",
   "metadata": {},
   "source": [
    "The OWSLib library is a python library that makes accessing data and metadata through OGC services possible. The library abstracts all of the traditional HTTP API calls into programmatic function calls. We will be using this library throughout the tutorial to interact with the iAtlantic GeoNode OGC services.\n",
    "\n",
    "The library is available from GitHub @  https://github.com/geopython/OWSLib"
   ]
  },
  {
   "cell_type": "code",
   "execution_count": 1,
   "metadata": {},
   "outputs": [],
   "source": [
    "from owslib.wfs import WebFeatureService\n",
    "from owslib.wcs import WebCoverageService\n",
    "from matplotlib import pyplot as plt\n"
   ]
  },
  {
   "cell_type": "markdown",
   "metadata": {},
   "source": [
    "### 3.1 Get vector data with WFS"
   ]
  },
  {
   "cell_type": "markdown",
   "metadata": {},
   "source": [
    "#### Create a WebFeatureService (WFS) object\n",
    "Note that we use version 1.1.0 as in OWSLib this version has support for [OGC Filter Encoding](https://www.ogc.org/standards/filter)"
   ]
  },
  {
   "cell_type": "code",
   "execution_count": 2,
   "metadata": {},
   "outputs": [],
   "source": [
    "wfs = WebFeatureService('https://www.geonode.iatlantic.eu/geoserver/ows', version = '1.1.0')"
   ]
  },
  {
   "cell_type": "markdown",
   "metadata": {},
   "source": [
    "#### Find out what the WFS has to offer. Service metadata:"
   ]
  },
  {
   "cell_type": "code",
   "execution_count": 3,
   "metadata": {},
   "outputs": [
    {
     "name": "stdout",
     "output_type": "stream",
     "text": [
      "WFS\n",
      "1.1.0\n",
      "iAtlantic WFS\n",
      "This WFS service offers vector data collected within the within the framework of the iAtlantic project.\n"
     ]
    }
   ],
   "source": [
    "print(wfs.identification.type)\n",
    "print(wfs.identification.version)\n",
    "print(wfs.identification.title)\n",
    "print(wfs.identification.abstract)"
   ]
  },
  {
   "cell_type": "markdown",
   "metadata": {},
   "source": [
    "#### See available methods"
   ]
  },
  {
   "cell_type": "code",
   "execution_count": 4,
   "metadata": {},
   "outputs": [
    {
     "data": {
      "text/plain": [
       "['GetCapabilities',\n",
       " 'DescribeFeatureType',\n",
       " 'GetFeature',\n",
       " 'GetGmlObject',\n",
       " 'LockFeature',\n",
       " 'GetFeatureWithLock',\n",
       " 'Transaction']"
      ]
     },
     "execution_count": 4,
     "metadata": {},
     "output_type": "execute_result"
    }
   ],
   "source": [
    "[operation.name for operation in wfs.operations]"
   ]
  },
  {
   "cell_type": "markdown",
   "metadata": {},
   "source": [
    "#### Get available formats"
   ]
  },
  {
   "cell_type": "code",
   "execution_count": 5,
   "metadata": {},
   "outputs": [
    {
     "data": {
      "text/plain": [
       "{'resultType': {'values': ['results', 'hits']},\n",
       " 'outputFormat': {'values': ['text/xml; subtype=gml/3.1.1',\n",
       "   'GML2',\n",
       "   'KML',\n",
       "   'SHAPE-ZIP',\n",
       "   'application/gml+xml; version=3.2',\n",
       "   'application/json',\n",
       "   'application/vnd.google-earth.kml xml',\n",
       "   'application/vnd.google-earth.kml+xml',\n",
       "   'csv',\n",
       "   'excel',\n",
       "   'excel2007',\n",
       "   'gml3',\n",
       "   'gml32',\n",
       "   'json',\n",
       "   'text/xml; subtype=gml/2.1.2',\n",
       "   'text/xml; subtype=gml/3.2']}}"
      ]
     },
     "execution_count": 5,
     "metadata": {},
     "output_type": "execute_result"
    }
   ],
   "source": [
    "wfs.getOperationByName('GetFeature').parameters"
   ]
  },
  {
   "cell_type": "markdown",
   "metadata": {},
   "source": [
    "#### Find out what vector datasets (FeatureTypes) are available\n",
    "Note that only vector datasets that are uploaded to the GeoNode and are publicly available are shown"
   ]
  },
  {
   "cell_type": "code",
   "execution_count": 6,
   "metadata": {},
   "outputs": [
    {
     "data": {
      "text/plain": [
       "['geonode:a__01_2020_12_313',\n",
       " 'geonode:a__11_2020_12_311',\n",
       " 'geonode:a__12_2020_12_311',\n",
       " 'geonode:a__02_2020_12_311',\n",
       " 'geonode:a__03_2020_12_311',\n",
       " 'geonode:a__04_2020_12_311',\n",
       " 'geonode:a__05_2021_04_141',\n",
       " 'geonode:a__06_2020_12_311',\n",
       " 'geonode:a__07_2020_12_311',\n",
       " 'geonode:a__08_2020_12_314',\n",
       " 'geonode:a__09_2020_12_311',\n",
       " 'geonode:AquaMaps_Species_Richness',\n",
       " 'geonode:AquaMaps_Species_Richness_Cetaceans',\n",
       " 'geonode:AquaMaps_Species_Richness_Elasmobranchs0',\n",
       " 'geonode:Basins',\n",
       " 'geonode:iAtlantic_StudyArea01_Shapes_MFRI_exp',\n",
       " 'geonode:iAtlantic_StudyArea01_Shapes_Merian',\n",
       " 'geonode:iAtlantic_StudyArea01_Shapes_Meteor',\n",
       " 'geonode:iAtlantic_StudyArea02_Shapes',\n",
       " 'geonode:iAtlantic_StudyArea03_Shapes',\n",
       " 'geonode:iAtlantic_StudyArea03_Shapes_External',\n",
       " 'geonode:iAtlantic_StudyArea04_Shapes',\n",
       " 'geonode:iAtlantic_StudyArea05_Shapes',\n",
       " 'geonode:iAtlantic_StudyArea06_Shapes_Merian',\n",
       " 'geonode:iAtlantic_StudyArea06_Shapes_Meteor',\n",
       " 'geonode:iAtlantic_StudyArea07_Shapes',\n",
       " 'geonode:iAtlantic_StudyArea08_Shapes',\n",
       " 'geonode:iAtlantic_StudyArea09_Shapes',\n",
       " 'geonode:iAtlantic_StudyArea10_Shapes',\n",
       " 'geonode:iAtlantic_StudyArea12_Shapes',\n",
       " 'geonode:Bottom_EMU_Cluster0',\n",
       " 'geonode:Bridges',\n",
       " 'geonode:CCAMLR',\n",
       " 'geonode:Escarpments',\n",
       " 'geonode:Fans',\n",
       " 'geonode:Fracture_Zone',\n",
       " 'geonode:GFW_FishingHours_longline_2020',\n",
       " 'geonode:GFW_FishingHours_fixed_gear_2020',\n",
       " 'geonode:GFW_FishingHours_trawlers_2020',\n",
       " 'geonode:Geographic_Area_of_Competence_of_Internationa',\n",
       " 'geonode:Geographic_Area_of_Competence_of_Internationa0',\n",
       " 'geonode:Geographic_Area_of_Competence_of_Internationa1',\n",
       " 'geonode:Glacial_troughs',\n",
       " 'geonode:Global_EBSAs_automated_final',\n",
       " 'geonode:Guyots',\n",
       " 'geonode:Large_Marine_Ecosystems',\n",
       " 'geonode:Seamount',\n",
       " 'geonode:Longhurst_Provinces',\n",
       " 'geonode:Marine_Provinces',\n",
       " 'geonode:Marine_Protected_Areas',\n",
       " 'geonode:MesoPelagic_Provinces',\n",
       " 'geonode:NAFO_Bottom_Fishing_Area',\n",
       " 'geonode:NEAFC_Bottom_Fishing_Area',\n",
       " 'geonode:Oceanic_Ridge',\n",
       " 'geonode:Plateaus',\n",
       " 'geonode:Regional_Fisheries_Management_Organziations',\n",
       " 'geonode:Ridges',\n",
       " 'geonode:Rift_valleys',\n",
       " 'geonode:Rises',\n",
       " 'geonode:Shelf_valleys',\n",
       " 'geonode:Sills',\n",
       " 'geonode:Spreading_ridges',\n",
       " 'geonode:Submarine_Canyon',\n",
       " 'geonode:Surface_EMU_Clusters',\n",
       " 'geonode:Terraces',\n",
       " 'geonode:Trenches',\n",
       " 'geonode:Troughs',\n",
       " 'geonode:iAtlantic_OceanBasin']"
      ]
     },
     "execution_count": 6,
     "metadata": {},
     "output_type": "execute_result"
    }
   ],
   "source": [
    "list(wfs.contents)"
   ]
  },
  {
   "cell_type": "code",
   "execution_count": 7,
   "metadata": {},
   "outputs": [],
   "source": [
    "dataset = 'geonode:Submarine_Canyon'"
   ]
  },
  {
   "cell_type": "markdown",
   "metadata": {},
   "source": [
    "#### Get the FeatureType metadata:"
   ]
  },
  {
   "cell_type": "code",
   "execution_count": 8,
   "metadata": {},
   "outputs": [
    {
     "name": "stdout",
     "output_type": "stream",
     "text": [
      "Submarine Canyon\n",
      "The aim of this study is to assess the global occurrence of large submarine canyons to provide context and guidance for discussions regarding canyon occurrence, distribution, geological and oceanographic significance and conservation. Based on an analysis of the ETOPO1 data set, this study has compiled the first inventory of 5849 separate large submarine canyons in the world ocean. Active continental margins contain 15% more canyons (2586, equal to 44.2% of all canyons) than passive margins (2244, equal to 38.4%) and the canyons are steeper, shorter, more dendritic and more closely spaced on active than on passive continental margins. This study confirms observations of earlier workers that a relationship exists between canyon slope and canyon spacing (increased canyon slope correlates with closer canyon spacing). The greatest canyon spacing occurs in the Arctic and the Antarctic whereas canyons are more closely spaced in the Mediterranean than in other areas. River-associated, shelf-incising canyons are more numerous on active continental margins (n = 119) than on passive margins (n = 34). They are most common on the western margins of South and North America where they comprise 11.7% and 8.6% of canyons respectively, but are absent from the margins of Australia and Antarctica. Geographic areas having relatively high rates of sediment export to continental margins, from either glacial or fluvial sources operating over geologic timescales, have greater numbers of shelf-incising canyons than geographic areas having relatively low rates of sediment export to continental margins. This observation is consistent with the origins of some canyons being related to erosive turbidity flows derived from fluvial and shelf sediment sources. Other workers have shown that benthic ecosystems in shelf-incising canyons contain greater diversity and biomass than non-incising canyons, and that ecosystems located above 1500 m water depth are more vulnerable to destructive fishing prac\n"
     ]
    }
   ],
   "source": [
    "print(wfs.contents[dataset].title)\n",
    "print(wfs.contents[dataset].abstract)"
   ]
  },
  {
   "cell_type": "markdown",
   "metadata": {},
   "source": [
    "#### Get the FeatureType’s schema via `DescribeFeatureType`.\n",
    "The dictionary returned is compatible with a [Fiona schema object](https://fiona.readthedocs.io/en/latest/fiona.html#fiona.collection.Collection.schema)."
   ]
  },
  {
   "cell_type": "code",
   "execution_count": 9,
   "metadata": {},
   "outputs": [
    {
     "data": {
      "text/plain": [
       "{'properties': {'fid': 'int',\n",
       "  'LineSegs': 'long',\n",
       "  'dend2_max': 'long',\n",
       "  'low_height': 'long',\n",
       "  'status': 'string',\n",
       "  'can_per_km': 'double',\n",
       "  'MarginType': 'string',\n",
       "  'CanyonName': 'string',\n",
       "  'Dist_bet_p': 'double',\n",
       "  'dens_LWM': 'double',\n",
       "  'sinuosity': 'double',\n",
       "  'Group': 'string',\n",
       "  'height_dif': 'double',\n",
       "  'X': 'double',\n",
       "  'class': 'long',\n",
       "  'dend2_min': 'long',\n",
       "  'slope_LWM': 'double',\n",
       "  'sed_LWM': 'double',\n",
       "  'Y': 'double',\n",
       "  'dens_MAX': 'double',\n",
       "  'slope_max': 'double',\n",
       "  'sed_max': 'double',\n",
       "  'hemisphere': 'string',\n",
       "  'dens_MIN': 'double',\n",
       "  'dend2_LWM': 'double',\n",
       "  'Slope_min': 'double',\n",
       "  'DENDper_ht': 'double',\n",
       "  'sed_min': 'double',\n",
       "  'Length_km': 'double',\n",
       "  'DENDperkm2': 'double',\n",
       "  'gt1500m': 'string',\n",
       "  'top_height': 'long'},\n",
       " 'required': ['fid'],\n",
       " 'geometry': 'MultiLineString',\n",
       " 'geometry_column': 'the_geom'}"
      ]
     },
     "execution_count": 9,
     "metadata": {},
     "output_type": "execute_result"
    }
   ],
   "source": [
    "wfs.get_schema(dataset)"
   ]
  },
  {
   "cell_type": "markdown",
   "metadata": {},
   "source": [
    "#### Subset data with a bounding box"
   ]
  },
  {
   "cell_type": "code",
   "execution_count": 10,
   "metadata": {
    "scrolled": true
   },
   "outputs": [
    {
     "data": {
      "text/html": [
       "<div>\n",
       "<style scoped>\n",
       "    .dataframe tbody tr th:only-of-type {\n",
       "        vertical-align: middle;\n",
       "    }\n",
       "\n",
       "    .dataframe tbody tr th {\n",
       "        vertical-align: top;\n",
       "    }\n",
       "\n",
       "    .dataframe thead th {\n",
       "        text-align: right;\n",
       "    }\n",
       "</style>\n",
       "<table border=\"1\" class=\"dataframe\">\n",
       "  <thead>\n",
       "    <tr style=\"text-align: right;\">\n",
       "      <th></th>\n",
       "      <th>id</th>\n",
       "      <th>fid</th>\n",
       "      <th>LineSegs</th>\n",
       "      <th>dend2_max</th>\n",
       "      <th>low_height</th>\n",
       "      <th>status</th>\n",
       "      <th>can_per_km</th>\n",
       "      <th>MarginType</th>\n",
       "      <th>CanyonName</th>\n",
       "      <th>Dist_bet_p</th>\n",
       "      <th>...</th>\n",
       "      <th>dens_MIN</th>\n",
       "      <th>dend2_LWM</th>\n",
       "      <th>Slope_min</th>\n",
       "      <th>DENDper_ht</th>\n",
       "      <th>sed_min</th>\n",
       "      <th>Length_km</th>\n",
       "      <th>DENDperkm2</th>\n",
       "      <th>gt1500m</th>\n",
       "      <th>top_height</th>\n",
       "      <th>geometry</th>\n",
       "    </tr>\n",
       "  </thead>\n",
       "  <tbody>\n",
       "    <tr>\n",
       "      <th>0</th>\n",
       "      <td>Submarine_Canyon.1</td>\n",
       "      <td>1</td>\n",
       "      <td>8</td>\n",
       "      <td>0</td>\n",
       "      <td>-1852</td>\n",
       "      <td>a</td>\n",
       "      <td>76.2651</td>\n",
       "      <td>Passive</td>\n",
       "      <td></td>\n",
       "      <td>103.5910</td>\n",
       "      <td>...</td>\n",
       "      <td>1</td>\n",
       "      <td>0.00000</td>\n",
       "      <td>0.197904</td>\n",
       "      <td>0.000000</td>\n",
       "      <td>-99999</td>\n",
       "      <td>99.602268</td>\n",
       "      <td>0.000000</td>\n",
       "      <td>part</td>\n",
       "      <td>-14</td>\n",
       "      <td>MULTILINESTRING ((10.79856 -5.76364, 11.04801 ...</td>\n",
       "    </tr>\n",
       "    <tr>\n",
       "      <th>1</th>\n",
       "      <td>Submarine_Canyon.255</td>\n",
       "      <td>255</td>\n",
       "      <td>29</td>\n",
       "      <td>3</td>\n",
       "      <td>-3687</td>\n",
       "      <td>a</td>\n",
       "      <td>53.5035</td>\n",
       "      <td>Passive</td>\n",
       "      <td></td>\n",
       "      <td>38.8417</td>\n",
       "      <td>...</td>\n",
       "      <td>3</td>\n",
       "      <td>3.00000</td>\n",
       "      <td>0.051794</td>\n",
       "      <td>2.777780</td>\n",
       "      <td>3257</td>\n",
       "      <td>130.504595</td>\n",
       "      <td>0.000028</td>\n",
       "      <td>part</td>\n",
       "      <td>-5</td>\n",
       "      <td>MULTILINESTRING ((-36.84008 -10.75541, -36.816...</td>\n",
       "    </tr>\n",
       "    <tr>\n",
       "      <th>2</th>\n",
       "      <td>Submarine_Canyon.330</td>\n",
       "      <td>330</td>\n",
       "      <td>33</td>\n",
       "      <td>9</td>\n",
       "      <td>-3299</td>\n",
       "      <td>a</td>\n",
       "      <td>21.4959</td>\n",
       "      <td>Active</td>\n",
       "      <td></td>\n",
       "      <td>42.0659</td>\n",
       "      <td>...</td>\n",
       "      <td>7</td>\n",
       "      <td>9.00000</td>\n",
       "      <td>0.049438</td>\n",
       "      <td>8.333330</td>\n",
       "      <td>923</td>\n",
       "      <td>74.606626</td>\n",
       "      <td>0.000083</td>\n",
       "      <td>part</td>\n",
       "      <td>-102</td>\n",
       "      <td>MULTILINESTRING ((-65.36658 -55.61658, -65.400...</td>\n",
       "    </tr>\n",
       "    <tr>\n",
       "      <th>3</th>\n",
       "      <td>Submarine_Canyon.331</td>\n",
       "      <td>331</td>\n",
       "      <td>8</td>\n",
       "      <td>9</td>\n",
       "      <td>-2131</td>\n",
       "      <td>b</td>\n",
       "      <td>-99999.0000</td>\n",
       "      <td>Active</td>\n",
       "      <td></td>\n",
       "      <td>-99999.0000</td>\n",
       "      <td>...</td>\n",
       "      <td>-99999</td>\n",
       "      <td>9.00000</td>\n",
       "      <td>0.024416</td>\n",
       "      <td>8.333330</td>\n",
       "      <td>1112</td>\n",
       "      <td>39.951121</td>\n",
       "      <td>0.000083</td>\n",
       "      <td>part</td>\n",
       "      <td>-80</td>\n",
       "      <td>MULTILINESTRING ((-66.33333 -55.36667, -66.283...</td>\n",
       "    </tr>\n",
       "    <tr>\n",
       "      <th>4</th>\n",
       "      <td>Submarine_Canyon.333</td>\n",
       "      <td>333</td>\n",
       "      <td>14</td>\n",
       "      <td>9</td>\n",
       "      <td>-2293</td>\n",
       "      <td>b</td>\n",
       "      <td>-99999.0000</td>\n",
       "      <td>Active</td>\n",
       "      <td></td>\n",
       "      <td>-99999.0000</td>\n",
       "      <td>...</td>\n",
       "      <td>-99999</td>\n",
       "      <td>9.00000</td>\n",
       "      <td>0.083157</td>\n",
       "      <td>8.333330</td>\n",
       "      <td>1120</td>\n",
       "      <td>57.841448</td>\n",
       "      <td>0.000083</td>\n",
       "      <td>part</td>\n",
       "      <td>-64</td>\n",
       "      <td>MULTILINESTRING ((-66.29999 -55.21667, -66.283...</td>\n",
       "    </tr>\n",
       "    <tr>\n",
       "      <th>...</th>\n",
       "      <td>...</td>\n",
       "      <td>...</td>\n",
       "      <td>...</td>\n",
       "      <td>...</td>\n",
       "      <td>...</td>\n",
       "      <td>...</td>\n",
       "      <td>...</td>\n",
       "      <td>...</td>\n",
       "      <td>...</td>\n",
       "      <td>...</td>\n",
       "      <td>...</td>\n",
       "      <td>...</td>\n",
       "      <td>...</td>\n",
       "      <td>...</td>\n",
       "      <td>...</td>\n",
       "      <td>...</td>\n",
       "      <td>...</td>\n",
       "      <td>...</td>\n",
       "      <td>...</td>\n",
       "      <td>...</td>\n",
       "      <td>...</td>\n",
       "    </tr>\n",
       "    <tr>\n",
       "      <th>367</th>\n",
       "      <td>Submarine_Canyon.8615</td>\n",
       "      <td>8615</td>\n",
       "      <td>5</td>\n",
       "      <td>1</td>\n",
       "      <td>-1981</td>\n",
       "      <td>a</td>\n",
       "      <td>21.8489</td>\n",
       "      <td>Passive</td>\n",
       "      <td></td>\n",
       "      <td>15.7037</td>\n",
       "      <td>...</td>\n",
       "      <td>9</td>\n",
       "      <td>1.00000</td>\n",
       "      <td>0.810686</td>\n",
       "      <td>0.925926</td>\n",
       "      <td>5077</td>\n",
       "      <td>36.352984</td>\n",
       "      <td>0.000009</td>\n",
       "      <td>part</td>\n",
       "      <td>-867</td>\n",
       "      <td>MULTILINESTRING ((8.68991 -2.99353, 8.74954 -2...</td>\n",
       "    </tr>\n",
       "    <tr>\n",
       "      <th>368</th>\n",
       "      <td>Submarine_Canyon.8616</td>\n",
       "      <td>8616</td>\n",
       "      <td>5</td>\n",
       "      <td>1</td>\n",
       "      <td>-3997</td>\n",
       "      <td>a</td>\n",
       "      <td>22.2222</td>\n",
       "      <td>Passive</td>\n",
       "      <td></td>\n",
       "      <td>36.4317</td>\n",
       "      <td>...</td>\n",
       "      <td>9</td>\n",
       "      <td>1.00000</td>\n",
       "      <td>0.745183</td>\n",
       "      <td>0.925926</td>\n",
       "      <td>4222</td>\n",
       "      <td>29.747356</td>\n",
       "      <td>0.000009</td>\n",
       "      <td>none</td>\n",
       "      <td>-2899</td>\n",
       "      <td>MULTILINESTRING ((8.17690 -3.15182, 8.26108 -3...</td>\n",
       "    </tr>\n",
       "    <tr>\n",
       "      <th>369</th>\n",
       "      <td>Submarine_Canyon.8626</td>\n",
       "      <td>8626</td>\n",
       "      <td>7</td>\n",
       "      <td>2</td>\n",
       "      <td>-3839</td>\n",
       "      <td>a</td>\n",
       "      <td>23.6452</td>\n",
       "      <td>Passive</td>\n",
       "      <td></td>\n",
       "      <td>12.9005</td>\n",
       "      <td>...</td>\n",
       "      <td>6</td>\n",
       "      <td>1.74563</td>\n",
       "      <td>0.609348</td>\n",
       "      <td>1.616320</td>\n",
       "      <td>5141</td>\n",
       "      <td>68.948230</td>\n",
       "      <td>0.000016</td>\n",
       "      <td>none</td>\n",
       "      <td>-1853</td>\n",
       "      <td>MULTILINESTRING ((8.82145 -3.95160, 8.81619 -3...</td>\n",
       "    </tr>\n",
       "    <tr>\n",
       "      <th>370</th>\n",
       "      <td>Submarine_Canyon.8627</td>\n",
       "      <td>8627</td>\n",
       "      <td>6</td>\n",
       "      <td>1</td>\n",
       "      <td>-3344</td>\n",
       "      <td>a</td>\n",
       "      <td>23.5451</td>\n",
       "      <td>Passive</td>\n",
       "      <td></td>\n",
       "      <td>12.9005</td>\n",
       "      <td>...</td>\n",
       "      <td>6</td>\n",
       "      <td>1.00000</td>\n",
       "      <td>0.475002</td>\n",
       "      <td>0.925926</td>\n",
       "      <td>5668</td>\n",
       "      <td>55.230857</td>\n",
       "      <td>0.000009</td>\n",
       "      <td>none</td>\n",
       "      <td>-1561</td>\n",
       "      <td>MULTILINESTRING ((8.97930 -3.88320, 9.05297 -3...</td>\n",
       "    </tr>\n",
       "    <tr>\n",
       "      <th>371</th>\n",
       "      <td>Submarine_Canyon.8630</td>\n",
       "      <td>8630</td>\n",
       "      <td>4</td>\n",
       "      <td>1</td>\n",
       "      <td>-4003</td>\n",
       "      <td>a</td>\n",
       "      <td>24.5177</td>\n",
       "      <td>Passive</td>\n",
       "      <td></td>\n",
       "      <td>35.6310</td>\n",
       "      <td>...</td>\n",
       "      <td>8</td>\n",
       "      <td>1.00000</td>\n",
       "      <td>0.038605</td>\n",
       "      <td>0.925926</td>\n",
       "      <td>3955</td>\n",
       "      <td>44.271296</td>\n",
       "      <td>0.000009</td>\n",
       "      <td>none</td>\n",
       "      <td>-2809</td>\n",
       "      <td>MULTILINESTRING ((8.04936 -3.00831, 8.13139 -2...</td>\n",
       "    </tr>\n",
       "  </tbody>\n",
       "</table>\n",
       "<p>372 rows × 34 columns</p>\n",
       "</div>"
      ],
      "text/plain": [
       "                        id   fid  LineSegs  dend2_max  low_height status  \\\n",
       "0       Submarine_Canyon.1     1         8          0       -1852      a   \n",
       "1     Submarine_Canyon.255   255        29          3       -3687      a   \n",
       "2     Submarine_Canyon.330   330        33          9       -3299      a   \n",
       "3     Submarine_Canyon.331   331         8          9       -2131      b   \n",
       "4     Submarine_Canyon.333   333        14          9       -2293      b   \n",
       "..                     ...   ...       ...        ...         ...    ...   \n",
       "367  Submarine_Canyon.8615  8615         5          1       -1981      a   \n",
       "368  Submarine_Canyon.8616  8616         5          1       -3997      a   \n",
       "369  Submarine_Canyon.8626  8626         7          2       -3839      a   \n",
       "370  Submarine_Canyon.8627  8627         6          1       -3344      a   \n",
       "371  Submarine_Canyon.8630  8630         4          1       -4003      a   \n",
       "\n",
       "     can_per_km MarginType CanyonName  Dist_bet_p  ...  dens_MIN  dend2_LWM  \\\n",
       "0       76.2651    Passive               103.5910  ...         1    0.00000   \n",
       "1       53.5035    Passive                38.8417  ...         3    3.00000   \n",
       "2       21.4959     Active                42.0659  ...         7    9.00000   \n",
       "3   -99999.0000     Active            -99999.0000  ...    -99999    9.00000   \n",
       "4   -99999.0000     Active            -99999.0000  ...    -99999    9.00000   \n",
       "..          ...        ...        ...         ...  ...       ...        ...   \n",
       "367     21.8489    Passive                15.7037  ...         9    1.00000   \n",
       "368     22.2222    Passive                36.4317  ...         9    1.00000   \n",
       "369     23.6452    Passive                12.9005  ...         6    1.74563   \n",
       "370     23.5451    Passive                12.9005  ...         6    1.00000   \n",
       "371     24.5177    Passive                35.6310  ...         8    1.00000   \n",
       "\n",
       "    Slope_min  DENDper_ht  sed_min   Length_km  DENDperkm2  gt1500m  \\\n",
       "0    0.197904    0.000000   -99999   99.602268    0.000000     part   \n",
       "1    0.051794    2.777780     3257  130.504595    0.000028     part   \n",
       "2    0.049438    8.333330      923   74.606626    0.000083     part   \n",
       "3    0.024416    8.333330     1112   39.951121    0.000083     part   \n",
       "4    0.083157    8.333330     1120   57.841448    0.000083     part   \n",
       "..        ...         ...      ...         ...         ...      ...   \n",
       "367  0.810686    0.925926     5077   36.352984    0.000009     part   \n",
       "368  0.745183    0.925926     4222   29.747356    0.000009     none   \n",
       "369  0.609348    1.616320     5141   68.948230    0.000016     none   \n",
       "370  0.475002    0.925926     5668   55.230857    0.000009     none   \n",
       "371  0.038605    0.925926     3955   44.271296    0.000009     none   \n",
       "\n",
       "     top_height                                           geometry  \n",
       "0           -14  MULTILINESTRING ((10.79856 -5.76364, 11.04801 ...  \n",
       "1            -5  MULTILINESTRING ((-36.84008 -10.75541, -36.816...  \n",
       "2          -102  MULTILINESTRING ((-65.36658 -55.61658, -65.400...  \n",
       "3           -80  MULTILINESTRING ((-66.33333 -55.36667, -66.283...  \n",
       "4           -64  MULTILINESTRING ((-66.29999 -55.21667, -66.283...  \n",
       "..          ...                                                ...  \n",
       "367        -867  MULTILINESTRING ((8.68991 -2.99353, 8.74954 -2...  \n",
       "368       -2899  MULTILINESTRING ((8.17690 -3.15182, 8.26108 -3...  \n",
       "369       -1853  MULTILINESTRING ((8.82145 -3.95160, 8.81619 -3...  \n",
       "370       -1561  MULTILINESTRING ((8.97930 -3.88320, 9.05297 -3...  \n",
       "371       -2809  MULTILINESTRING ((8.04936 -3.00831, 8.13139 -2...  \n",
       "\n",
       "[372 rows x 34 columns]"
      ]
     },
     "execution_count": 10,
     "metadata": {},
     "output_type": "execute_result"
    }
   ],
   "source": [
    "# subset data with a bounding box\n",
    "response = wfs.getfeature(typename=dataset,\n",
    "                          bbox=(-69,-60,20,0), #subset to the south Atlantic\n",
    "                          outputFormat='application/json')\n",
    "# write it to a GeoJson file\n",
    "with open(f'data/{dataset.replace(\":\",\"_\")}.json', 'wb') as outfile:\n",
    "    outfile.write(response.read())\n",
    "response.close()\n",
    "# read the GeoJson file using GeoPandas\n",
    "import geopandas as gpd\n",
    "gdf = gpd.read_file(f'data/{dataset.replace(\":\",\"_\")}.json')\n",
    "gdf"
   ]
  },
  {
   "cell_type": "code",
   "execution_count": 11,
   "metadata": {},
   "outputs": [
    {
     "data": {
      "text/plain": [
       "(-60.0, 0.0)"
      ]
     },
     "execution_count": 11,
     "metadata": {},
     "output_type": "execute_result"
    },
    {
     "data": {
      "image/png": "[encoded data removed]",
      "text/plain": [
       "<Figure size 648x576 with 2 Axes>"
      ]
     },
     "metadata": {
      "needs_background": "light"
     },
     "output_type": "display_data"
    }
   ],
   "source": [
    "# get shapefile of world outline\n",
    "world = gpd.read_file(gpd.datasets.get_path('naturalearth_lowres'))\n",
    "fig, ax = plt.subplots(1, figsize=(9,8))\n",
    "world.plot(ax=ax) # add world base layer\n",
    "gdf.plot(column='slope_max',\n",
    "         categorical=False,\n",
    "         cmap='Spectral',\n",
    "         legend= True,\n",
    "         alpha = 0.5,\n",
    "         ax=ax) # add study areas colord by study region number\n",
    "ax.set_title('Submarine Canyons in the South Atlantic',fontsize=20)\n",
    "ax.set_xlim(-69,20)\n",
    "ax.set_ylim(-60,0)"
   ]
  },
  {
   "cell_type": "markdown",
   "metadata": {},
   "source": [
    "#### Subset data by attributes using [OGC Filter Encoding](https://www.ogc.org/standards/filter)"
   ]
  },
  {
   "cell_type": "code",
   "execution_count": 12,
   "metadata": {},
   "outputs": [
    {
     "data": {
      "text/html": [
       "<div>\n",
       "<style scoped>\n",
       "    .dataframe tbody tr th:only-of-type {\n",
       "        vertical-align: middle;\n",
       "    }\n",
       "\n",
       "    .dataframe tbody tr th {\n",
       "        vertical-align: top;\n",
       "    }\n",
       "\n",
       "    .dataframe thead th {\n",
       "        text-align: right;\n",
       "    }\n",
       "</style>\n",
       "<table border=\"1\" class=\"dataframe\">\n",
       "  <thead>\n",
       "    <tr style=\"text-align: right;\">\n",
       "      <th></th>\n",
       "      <th>id</th>\n",
       "      <th>fid</th>\n",
       "      <th>LineSegs</th>\n",
       "      <th>dend2_max</th>\n",
       "      <th>low_height</th>\n",
       "      <th>status</th>\n",
       "      <th>can_per_km</th>\n",
       "      <th>MarginType</th>\n",
       "      <th>CanyonName</th>\n",
       "      <th>Dist_bet_p</th>\n",
       "      <th>...</th>\n",
       "      <th>dens_MIN</th>\n",
       "      <th>dend2_LWM</th>\n",
       "      <th>Slope_min</th>\n",
       "      <th>DENDper_ht</th>\n",
       "      <th>sed_min</th>\n",
       "      <th>Length_km</th>\n",
       "      <th>DENDperkm2</th>\n",
       "      <th>gt1500m</th>\n",
       "      <th>top_height</th>\n",
       "      <th>geometry</th>\n",
       "    </tr>\n",
       "  </thead>\n",
       "  <tbody>\n",
       "    <tr>\n",
       "      <th>0</th>\n",
       "      <td>Submarine_Canyon.8</td>\n",
       "      <td>8</td>\n",
       "      <td>27</td>\n",
       "      <td>42</td>\n",
       "      <td>-3462</td>\n",
       "      <td>b</td>\n",
       "      <td>-99999.0000</td>\n",
       "      <td>Passive</td>\n",
       "      <td></td>\n",
       "      <td>-99999.000</td>\n",
       "      <td>...</td>\n",
       "      <td>-99999</td>\n",
       "      <td>40.8272</td>\n",
       "      <td>0.397456</td>\n",
       "      <td>37.803000</td>\n",
       "      <td>7221</td>\n",
       "      <td>100.032451</td>\n",
       "      <td>0.000378</td>\n",
       "      <td>part</td>\n",
       "      <td>-1111</td>\n",
       "      <td>MULTILINESTRING ((-56.53333 43.73333, -56.5333...</td>\n",
       "    </tr>\n",
       "    <tr>\n",
       "      <th>1</th>\n",
       "      <td>Submarine_Canyon.9</td>\n",
       "      <td>9</td>\n",
       "      <td>5</td>\n",
       "      <td>41</td>\n",
       "      <td>-3328</td>\n",
       "      <td>b</td>\n",
       "      <td>-99999.0000</td>\n",
       "      <td>Passive</td>\n",
       "      <td></td>\n",
       "      <td>-99999.000</td>\n",
       "      <td>...</td>\n",
       "      <td>-99999</td>\n",
       "      <td>39.4187</td>\n",
       "      <td>1.033030</td>\n",
       "      <td>36.498800</td>\n",
       "      <td>7221</td>\n",
       "      <td>13.644248</td>\n",
       "      <td>0.000365</td>\n",
       "      <td>none</td>\n",
       "      <td>-2990</td>\n",
       "      <td>MULTILINESTRING ((-56.50000 43.81667, -56.4833...</td>\n",
       "    </tr>\n",
       "    <tr>\n",
       "      <th>2</th>\n",
       "      <td>Submarine_Canyon.10</td>\n",
       "      <td>10</td>\n",
       "      <td>7</td>\n",
       "      <td>40</td>\n",
       "      <td>-3268</td>\n",
       "      <td>b</td>\n",
       "      <td>-99999.0000</td>\n",
       "      <td>Passive</td>\n",
       "      <td></td>\n",
       "      <td>-99999.000</td>\n",
       "      <td>...</td>\n",
       "      <td>-99999</td>\n",
       "      <td>38.6947</td>\n",
       "      <td>0.379031</td>\n",
       "      <td>35.828400</td>\n",
       "      <td>8435</td>\n",
       "      <td>26.850513</td>\n",
       "      <td>0.000358</td>\n",
       "      <td>none</td>\n",
       "      <td>-2631</td>\n",
       "      <td>MULTILINESTRING ((-56.76667 44.06667, -56.7666...</td>\n",
       "    </tr>\n",
       "    <tr>\n",
       "      <th>3</th>\n",
       "      <td>Submarine_Canyon.11</td>\n",
       "      <td>11</td>\n",
       "      <td>7</td>\n",
       "      <td>42</td>\n",
       "      <td>-2840</td>\n",
       "      <td>d</td>\n",
       "      <td>-99999.0000</td>\n",
       "      <td>Passive</td>\n",
       "      <td></td>\n",
       "      <td>-99999.000</td>\n",
       "      <td>...</td>\n",
       "      <td>-99999</td>\n",
       "      <td>41.0296</td>\n",
       "      <td>0.259428</td>\n",
       "      <td>37.990400</td>\n",
       "      <td>9228</td>\n",
       "      <td>24.724500</td>\n",
       "      <td>0.000380</td>\n",
       "      <td>none</td>\n",
       "      <td>-2126</td>\n",
       "      <td>MULTILINESTRING ((-56.73333 44.26667, -56.7333...</td>\n",
       "    </tr>\n",
       "    <tr>\n",
       "      <th>4</th>\n",
       "      <td>Submarine_Canyon.12</td>\n",
       "      <td>12</td>\n",
       "      <td>26</td>\n",
       "      <td>42</td>\n",
       "      <td>-3338</td>\n",
       "      <td>c</td>\n",
       "      <td>-99999.0000</td>\n",
       "      <td>Passive</td>\n",
       "      <td></td>\n",
       "      <td>-99999.000</td>\n",
       "      <td>...</td>\n",
       "      <td>-99999</td>\n",
       "      <td>41.2419</td>\n",
       "      <td>0.302695</td>\n",
       "      <td>38.186900</td>\n",
       "      <td>7838</td>\n",
       "      <td>74.818271</td>\n",
       "      <td>0.000382</td>\n",
       "      <td>part</td>\n",
       "      <td>-1461</td>\n",
       "      <td>MULTILINESTRING ((-56.60000 44.50000, -56.6000...</td>\n",
       "    </tr>\n",
       "    <tr>\n",
       "      <th>...</th>\n",
       "      <td>...</td>\n",
       "      <td>...</td>\n",
       "      <td>...</td>\n",
       "      <td>...</td>\n",
       "      <td>...</td>\n",
       "      <td>...</td>\n",
       "      <td>...</td>\n",
       "      <td>...</td>\n",
       "      <td>...</td>\n",
       "      <td>...</td>\n",
       "      <td>...</td>\n",
       "      <td>...</td>\n",
       "      <td>...</td>\n",
       "      <td>...</td>\n",
       "      <td>...</td>\n",
       "      <td>...</td>\n",
       "      <td>...</td>\n",
       "      <td>...</td>\n",
       "      <td>...</td>\n",
       "      <td>...</td>\n",
       "      <td>...</td>\n",
       "    </tr>\n",
       "    <tr>\n",
       "      <th>1432</th>\n",
       "      <td>Submarine_Canyon.8628</td>\n",
       "      <td>8628</td>\n",
       "      <td>5</td>\n",
       "      <td>4</td>\n",
       "      <td>-3333</td>\n",
       "      <td>b</td>\n",
       "      <td>-99999.0000</td>\n",
       "      <td>Passive</td>\n",
       "      <td></td>\n",
       "      <td>-99999.000</td>\n",
       "      <td>...</td>\n",
       "      <td>-99999</td>\n",
       "      <td>4.0000</td>\n",
       "      <td>0.183752</td>\n",
       "      <td>3.703700</td>\n",
       "      <td>893</td>\n",
       "      <td>55.117789</td>\n",
       "      <td>0.000037</td>\n",
       "      <td>none</td>\n",
       "      <td>-2349</td>\n",
       "      <td>MULTILINESTRING ((-75.66320 -67.71309, -75.579...</td>\n",
       "    </tr>\n",
       "    <tr>\n",
       "      <th>1433</th>\n",
       "      <td>Submarine_Canyon.8629</td>\n",
       "      <td>8629</td>\n",
       "      <td>3</td>\n",
       "      <td>3</td>\n",
       "      <td>-2796</td>\n",
       "      <td>c</td>\n",
       "      <td>-99999.0000</td>\n",
       "      <td>Passive</td>\n",
       "      <td></td>\n",
       "      <td>-99999.000</td>\n",
       "      <td>...</td>\n",
       "      <td>-99999</td>\n",
       "      <td>3.0000</td>\n",
       "      <td>2.116820</td>\n",
       "      <td>2.777780</td>\n",
       "      <td>-99999</td>\n",
       "      <td>18.927188</td>\n",
       "      <td>0.000028</td>\n",
       "      <td>none</td>\n",
       "      <td>-1888</td>\n",
       "      <td>MULTILINESTRING ((-174.53949 -72.33557, -174.5...</td>\n",
       "    </tr>\n",
       "    <tr>\n",
       "      <th>1434</th>\n",
       "      <td>Submarine_Canyon.8630</td>\n",
       "      <td>8630</td>\n",
       "      <td>4</td>\n",
       "      <td>1</td>\n",
       "      <td>-4003</td>\n",
       "      <td>a</td>\n",
       "      <td>24.5177</td>\n",
       "      <td>Passive</td>\n",
       "      <td></td>\n",
       "      <td>35.631</td>\n",
       "      <td>...</td>\n",
       "      <td>8</td>\n",
       "      <td>1.0000</td>\n",
       "      <td>0.038605</td>\n",
       "      <td>0.925926</td>\n",
       "      <td>3955</td>\n",
       "      <td>44.271296</td>\n",
       "      <td>0.000009</td>\n",
       "      <td>none</td>\n",
       "      <td>-2809</td>\n",
       "      <td>MULTILINESTRING ((8.04936 -3.00831, 8.13139 -2...</td>\n",
       "    </tr>\n",
       "    <tr>\n",
       "      <th>1435</th>\n",
       "      <td>Submarine_Canyon.8631</td>\n",
       "      <td>8631</td>\n",
       "      <td>7</td>\n",
       "      <td>4</td>\n",
       "      <td>-2880</td>\n",
       "      <td>b</td>\n",
       "      <td>-99999.0000</td>\n",
       "      <td>Passive</td>\n",
       "      <td></td>\n",
       "      <td>-99999.000</td>\n",
       "      <td>...</td>\n",
       "      <td>-99999</td>\n",
       "      <td>4.0000</td>\n",
       "      <td>2.543960</td>\n",
       "      <td>3.703700</td>\n",
       "      <td>-99999</td>\n",
       "      <td>25.181166</td>\n",
       "      <td>0.000037</td>\n",
       "      <td>part</td>\n",
       "      <td>-1105</td>\n",
       "      <td>MULTILINESTRING ((-24.36959 -73.67328, -24.323...</td>\n",
       "    </tr>\n",
       "    <tr>\n",
       "      <th>1436</th>\n",
       "      <td>Submarine_Canyon.8632</td>\n",
       "      <td>8632</td>\n",
       "      <td>6</td>\n",
       "      <td>7</td>\n",
       "      <td>-2912</td>\n",
       "      <td>b</td>\n",
       "      <td>-99999.0000</td>\n",
       "      <td>Passive</td>\n",
       "      <td></td>\n",
       "      <td>-99999.000</td>\n",
       "      <td>...</td>\n",
       "      <td>-99999</td>\n",
       "      <td>7.0000</td>\n",
       "      <td>0.554310</td>\n",
       "      <td>6.481480</td>\n",
       "      <td>-99999</td>\n",
       "      <td>23.630284</td>\n",
       "      <td>0.000065</td>\n",
       "      <td>none</td>\n",
       "      <td>-1766</td>\n",
       "      <td>MULTILINESTRING ((-22.57174 -73.26102, -22.485...</td>\n",
       "    </tr>\n",
       "  </tbody>\n",
       "</table>\n",
       "<p>1437 rows × 34 columns</p>\n",
       "</div>"
      ],
      "text/plain": [
       "                         id   fid  LineSegs  dend2_max  low_height status  \\\n",
       "0        Submarine_Canyon.8     8        27         42       -3462      b   \n",
       "1        Submarine_Canyon.9     9         5         41       -3328      b   \n",
       "2       Submarine_Canyon.10    10         7         40       -3268      b   \n",
       "3       Submarine_Canyon.11    11         7         42       -2840      d   \n",
       "4       Submarine_Canyon.12    12        26         42       -3338      c   \n",
       "...                     ...   ...       ...        ...         ...    ...   \n",
       "1432  Submarine_Canyon.8628  8628         5          4       -3333      b   \n",
       "1433  Submarine_Canyon.8629  8629         3          3       -2796      c   \n",
       "1434  Submarine_Canyon.8630  8630         4          1       -4003      a   \n",
       "1435  Submarine_Canyon.8631  8631         7          4       -2880      b   \n",
       "1436  Submarine_Canyon.8632  8632         6          7       -2912      b   \n",
       "\n",
       "      can_per_km MarginType CanyonName  Dist_bet_p  ...  dens_MIN  dend2_LWM  \\\n",
       "0    -99999.0000    Passive             -99999.000  ...    -99999    40.8272   \n",
       "1    -99999.0000    Passive             -99999.000  ...    -99999    39.4187   \n",
       "2    -99999.0000    Passive             -99999.000  ...    -99999    38.6947   \n",
       "3    -99999.0000    Passive             -99999.000  ...    -99999    41.0296   \n",
       "4    -99999.0000    Passive             -99999.000  ...    -99999    41.2419   \n",
       "...          ...        ...        ...         ...  ...       ...        ...   \n",
       "1432 -99999.0000    Passive             -99999.000  ...    -99999     4.0000   \n",
       "1433 -99999.0000    Passive             -99999.000  ...    -99999     3.0000   \n",
       "1434     24.5177    Passive                 35.631  ...         8     1.0000   \n",
       "1435 -99999.0000    Passive             -99999.000  ...    -99999     4.0000   \n",
       "1436 -99999.0000    Passive             -99999.000  ...    -99999     7.0000   \n",
       "\n",
       "     Slope_min  DENDper_ht  sed_min   Length_km  DENDperkm2  gt1500m  \\\n",
       "0     0.397456   37.803000     7221  100.032451    0.000378     part   \n",
       "1     1.033030   36.498800     7221   13.644248    0.000365     none   \n",
       "2     0.379031   35.828400     8435   26.850513    0.000358     none   \n",
       "3     0.259428   37.990400     9228   24.724500    0.000380     none   \n",
       "4     0.302695   38.186900     7838   74.818271    0.000382     part   \n",
       "...        ...         ...      ...         ...         ...      ...   \n",
       "1432  0.183752    3.703700      893   55.117789    0.000037     none   \n",
       "1433  2.116820    2.777780   -99999   18.927188    0.000028     none   \n",
       "1434  0.038605    0.925926     3955   44.271296    0.000009     none   \n",
       "1435  2.543960    3.703700   -99999   25.181166    0.000037     part   \n",
       "1436  0.554310    6.481480   -99999   23.630284    0.000065     none   \n",
       "\n",
       "      top_height                                           geometry  \n",
       "0          -1111  MULTILINESTRING ((-56.53333 43.73333, -56.5333...  \n",
       "1          -2990  MULTILINESTRING ((-56.50000 43.81667, -56.4833...  \n",
       "2          -2631  MULTILINESTRING ((-56.76667 44.06667, -56.7666...  \n",
       "3          -2126  MULTILINESTRING ((-56.73333 44.26667, -56.7333...  \n",
       "4          -1461  MULTILINESTRING ((-56.60000 44.50000, -56.6000...  \n",
       "...          ...                                                ...  \n",
       "1432       -2349  MULTILINESTRING ((-75.66320 -67.71309, -75.579...  \n",
       "1433       -1888  MULTILINESTRING ((-174.53949 -72.33557, -174.5...  \n",
       "1434       -2809  MULTILINESTRING ((8.04936 -3.00831, 8.13139 -2...  \n",
       "1435       -1105  MULTILINESTRING ((-24.36959 -73.67328, -24.323...  \n",
       "1436       -1766  MULTILINESTRING ((-22.57174 -73.26102, -22.485...  \n",
       "\n",
       "[1437 rows x 34 columns]"
      ]
     },
     "execution_count": 12,
     "metadata": {},
     "output_type": "execute_result"
    }
   ],
   "source": [
    "import owslib.fes as fes #Filter encodin standard\n",
    "from owslib.etree import etree\n",
    "# build a filter\n",
    "sa_filter = fes.PropertyIsEqualTo(propertyname='MarginType', literal='Passive') # Passive Margin Canyons\n",
    "fid_filter = fes.PropertyIsBetween(propertyname='top_height', lower = -5000, upper= -1000) # filter to fid between 0 and 4\n",
    "filter = fes.And([sa_filter,fid_filter]) # combine using And\n",
    "# get an xml representation of the filter\n",
    "filterxml = etree.tostring(filter.toXML()).decode(\"utf-8\")\n",
    "# pass it to getFeature\n",
    "response = wfs.getfeature(typename=dataset,\n",
    "                        outputFormat='application/json',\n",
    "                        filter=filterxml)\n",
    "# write it to a GeoJson file\n",
    "with open(f'data/{dataset.replace(\":\",\"_\")}_filtered.json', 'wb') as outfile:\n",
    "    outfile.write(response.read())\n",
    "response.close()\n",
    "# read the GeoJson file using GeoPandas\n",
    "gdf = gpd.read_file(f'data/{dataset.replace(\":\",\"_\")}_filtered.json')\n",
    "gdf"
   ]
  },
  {
   "cell_type": "code",
   "execution_count": 13,
   "metadata": {},
   "outputs": [
    {
     "data": {
      "text/plain": [
       "(-60.0, 0.0)"
      ]
     },
     "execution_count": 13,
     "metadata": {},
     "output_type": "execute_result"
    },
    {
     "data": {
      "image/png": "[encoded data removed]",
      "text/plain": [
       "<Figure size 648x576 with 2 Axes>"
      ]
     },
     "metadata": {
      "needs_background": "light"
     },
     "output_type": "display_data"
    }
   ],
   "source": [
    "fig, ax = plt.subplots(1, figsize=(9,8))\n",
    "world.plot(ax=ax) # add world base layer\n",
    "gdf.plot(column='slope_max',\n",
    "         categorical=False,\n",
    "         cmap='Spectral',\n",
    "         legend= True,\n",
    "         alpha = 0.5,\n",
    "         ax=ax)\n",
    "ax.set_title('Passive margin Submarine Canyons in\\nthe South Atlantic below 1000 m',fontsize=20)\n",
    "ax.set_xlim(-69,20)\n",
    "ax.set_ylim(-60,0)"
   ]
  },
  {
   "cell_type": "markdown",
   "metadata": {},
   "source": [
    "We will download the outline of the iAtlantic Study Area: Vitória-Trindade Seamount Chain off Brazil as we will use it for the rest of this tutorial"
   ]
  },
  {
   "cell_type": "code",
   "execution_count": 14,
   "metadata": {},
   "outputs": [
    {
     "name": "stdout",
     "output_type": "stream",
     "text": [
      "11. Vitória-Trindade Seamount Chain off Brazil\n",
      "The Vitória-Trindade Chain of seamounts extends some 1200 km from the eastern continental shelf of Brazil out to the oceanic islands of Trindade and Martin Vaz. These 17 seamounts rise up around 2,500 m from the seafloor, topping out at between 50-110 m below the sea surface, and are home to reef ecosystems and associated fish communities. Seamounts are generally known to be hotspots of biological diversity, but relatively little is known about the marine life around these undersea mountains. iAltantic’s iCorsage expedition, planned for 2021, will undertake extensive geological and biological surveys of these seamounts to better understand their ecology and dynamics.\n"
     ]
    },
    {
     "data": {
      "text/plain": [
       "<matplotlib.axes._subplots.AxesSubplot at 0x1b6086b0040>"
      ]
     },
     "execution_count": 14,
     "metadata": {},
     "output_type": "execute_result"
    },
    {
     "data": {
      "image/png": "[encoded data removed]",
      "text/plain": [
       "<Figure size 432x288 with 1 Axes>"
      ]
     },
     "metadata": {
      "needs_background": "light"
     },
     "output_type": "display_data"
    }
   ],
   "source": [
    "dataset = 'geonode:a__11_2020_12_311'\n",
    "print(wfs.contents[dataset].title)\n",
    "print(wfs.contents[dataset].abstract)\n",
    "response = wfs.getfeature(typename=dataset,\n",
    "                            outputFormat='application/json')\n",
    "# write it to a GeoJson file\n",
    "with open(f'data/study_area.json', 'wb') as outfile:\n",
    "    outfile.write(response.read())\n",
    "response.close()\n",
    "# read it into geopandas\n",
    "study_area = gpd.read_file('data/study_area.json')\n",
    "study_area.plot()"
   ]
  },
  {
   "cell_type": "markdown",
   "metadata": {},
   "source": [
    "### 3.2 Get raster data with WCS"
   ]
  },
  {
   "cell_type": "markdown",
   "metadata": {},
   "source": [
    "#### <i>Create a WebCoverageService (WCS) object</i>"
   ]
  },
  {
   "cell_type": "code",
   "execution_count": 15,
   "metadata": {},
   "outputs": [],
   "source": [
    "wcs = WebCoverageService('https://www.geonode.iatlantic.eu/geoserver/ows', version = '1.0.0')"
   ]
  },
  {
   "cell_type": "markdown",
   "metadata": {},
   "source": [
    "#### <i>Get a list of available coverages</i>"
   ]
  },
  {
   "cell_type": "code",
   "execution_count": 16,
   "metadata": {},
   "outputs": [
    {
     "name": "stdout",
     "output_type": "stream",
     "text": [
      "geonode:Alcyoniina_Habitat_Suitability\n",
      "geonode:Bathymetry_of_Espirito_Santo_and_Campos_basins_SW_Atlantic1\n",
      "geonode:MOMARETO_LuckyStrike_50cm_BATHY\n",
      "geonode:Calcaxonia_Habitat_Suitability\n",
      "geonode:a__2018_st_All_avg\n",
      "geonode:Enallopsammia_rostrata_Habitat_Suitability\n",
      "geonode:Antipatharia_Habitat_Suitability\n",
      "geonode:Goniocorella_dumosa_Habitat_Suitability\n",
      "geonode:Holaxonia_Habitat_Suitability\n",
      "geonode:Lophelia_pertusa_Habitat_Suitability\n",
      "geonode:Madrepora_oculata_Habitat_Suitability\n",
      "geonode:seascape_pelagic_habitat_2019_class\n",
      "geonode:Octocoral_Habitat_Suitability_Consensus\n",
      "geonode:CE19008_MoCha_SCan_60m_UTM28\n",
      "geonode:MSM96_WA1_PAP_100m\n",
      "geonode:Scleractinia_Habitat_Suitability\n",
      "geonode:Scleraxonia_Habitat_Suitability\n",
      "geonode:Sessiliflorae_Habitat_Suitability\n",
      "geonode:Solenosmilia_variabilis_Habitat_Suitability\n",
      "geonode:Stolonifera_Habitat_Suitability\n",
      "geonode:Subselliflorae_Habitat_Suitability\n"
     ]
    }
   ],
   "source": [
    "for coverage_name in wcs.contents.keys():\n",
    "    print(coverage_name)"
   ]
  },
  {
   "cell_type": "code",
   "execution_count": 17,
   "metadata": {},
   "outputs": [],
   "source": [
    "dataset = 'geonode:Lophelia_pertusa_Habitat_Suitability'"
   ]
  },
  {
   "cell_type": "markdown",
   "metadata": {},
   "source": [
    "#### <i>Retrieve a list of available properties of a coverage</i>"
   ]
  },
  {
   "cell_type": "code",
   "execution_count": 18,
   "metadata": {},
   "outputs": [
    {
     "name": "stdout",
     "output_type": "stream",
     "text": [
      "abstract\n",
      "axisDescriptions\n",
      "boundingBox\n",
      "boundingBoxWGS84\n",
      "boundingboxes\n",
      "crsOptions\n",
      "defaulttimeposition\n",
      "grid\n",
      "id\n",
      "keywords\n",
      "styles\n",
      "supportedCRS\n",
      "supportedFormats\n",
      "timelimits\n",
      "timepositions\n",
      "title\n"
     ]
    }
   ],
   "source": [
    "for item in dir(wcs.contents[dataset]):\n",
    "    if \"_\" not in item:\n",
    "        print(item)"
   ]
  },
  {
   "cell_type": "markdown",
   "metadata": {},
   "source": [
    "#### <i>Retrieve grid property information</i>"
   ]
  },
  {
   "cell_type": "code",
   "execution_count": 19,
   "metadata": {},
   "outputs": [
    {
     "name": "stdout",
     "output_type": "stream",
     "text": [
      "axislabels: ['x', 'y']\n",
      "dimension: 2\n",
      "highlimits: ['43199', '17289']\n",
      "lowlimits: ['0', '0']\n",
      "offsetvectors: [['0.008333333333', '0.0'], ['0.0', '-0.008333333333']]\n",
      "origin: ['-179.9958333333335', '81.78721769034304']\n"
     ]
    }
   ],
   "source": [
    "for item in dir(wcs.contents[dataset].grid):\n",
    "    if \"_\" not in item:\n",
    "        print(item + \": \" + str(wcs.contents[dataset].grid.__dict__[item]))"
   ]
  },
  {
   "cell_type": "markdown",
   "metadata": {},
   "source": [
    "#### Get geo-bounding boxes and native CRS"
   ]
  },
  {
   "cell_type": "code",
   "execution_count": 20,
   "metadata": {},
   "outputs": [
    {
     "data": {
      "text/plain": [
       "[{'nativeSrs': 'EPSG:4326',\n",
       "  'bbox': (-180.0, -62.29194897056044, 179.99999998559997, 81.79138435700955)}]"
      ]
     },
     "execution_count": 20,
     "metadata": {},
     "output_type": "execute_result"
    }
   ],
   "source": [
    "wcs.contents[dataset].boundingboxes"
   ]
  },
  {
   "cell_type": "markdown",
   "metadata": {},
   "source": [
    "#### Retrieve supported formats"
   ]
  },
  {
   "cell_type": "code",
   "execution_count": 21,
   "metadata": {},
   "outputs": [
    {
     "data": {
      "text/plain": [
       "['ArcGrid',\n",
       " 'GeoTIFF',\n",
       " 'GIF',\n",
       " 'GeoPackage (mosaic)',\n",
       " 'ImageMosaic',\n",
       " 'JPEG',\n",
       " 'PNG',\n",
       " 'TIFF']"
      ]
     },
     "execution_count": 21,
     "metadata": {},
     "output_type": "execute_result"
    }
   ],
   "source": [
    "wcs.contents[dataset].supportedFormats"
   ]
  },
  {
   "cell_type": "markdown",
   "metadata": {},
   "source": [
    "#### Subset and download raster data using a GetCoverage request"
   ]
  },
  {
   "cell_type": "code",
   "execution_count": 22,
   "metadata": {},
   "outputs": [],
   "source": [
    "# get parameters for grid\n",
    "bbox = study_area.bounds.values[0].tolist() # get bbox for iAtlantic study area \n",
    "crs = study_area.crs.srs # get crs of the Study Area file"
   ]
  },
  {
   "cell_type": "code",
   "execution_count": 23,
   "metadata": {},
   "outputs": [
    {
     "name": "stdout",
     "output_type": "stream",
     "text": [
      "https://www.geonode.iatlantic.eu/geoserver/wcs?version=1.0.0&request=GetCoverage&service=WCS&Coverage=geonode%3ALophelia_pertusa_Habitat_Suitability&BBox=-41.18060303%2C-23.72198486%2C-28.31951904%2C-18.640625&crs=epsg%3A4326&format=GeoTIFF&resx=0.00833333&resy=0.00833333&interpolation=bicubic\n"
     ]
    }
   ],
   "source": [
    "# GetCoverage request\n",
    "response = wcs.getCoverage(identifier=dataset,\n",
    "                           format='GeoTIFF',\n",
    "                           bbox=bbox,\n",
    "                           crs=crs,\n",
    "                           resx=0.00833333,resy=0.00833333,\n",
    "                           interpolation='bicubic')\n",
    "print(response.geturl())\n",
    "with open(f'data/{dataset.replace(\":\",\"_\")}.tif','wb') as outfile:\n",
    "    outfile.write(response.read())"
   ]
  },
  {
   "cell_type": "markdown",
   "metadata": {},
   "source": [
    "#### Open rasterdata in an xarray object using the rasterio library"
   ]
  },
  {
   "cell_type": "code",
   "execution_count": 24,
   "metadata": {},
   "outputs": [
    {
     "data": {
      "text/html": [
       "<div><svg style=\"position: absolute; width: 0; height: 0; overflow: hidden\">\n",
       "<defs>\n",
       "<symbol id=\"icon-database\" viewBox=\"0 0 32 32\">\n",
       "<title>Show/Hide data repr</title>\n",
       "<path d=\"M16 0c-8.837 0-16 2.239-16 5v4c0 2.761 7.163 5 16 5s16-2.239 16-5v-4c0-2.761-7.163-5-16-5z\"></path>\n",
       "<path d=\"M16 17c-8.837 0-16-2.239-16-5v6c0 2.761 7.163 5 16 5s16-2.239 16-5v-6c0 2.761-7.163 5-16 5z\"></path>\n",
       "<path d=\"M16 26c-8.837 0-16-2.239-16-5v6c0 2.761 7.163 5 16 5s16-2.239 16-5v-6c0 2.761-7.163 5-16 5z\"></path>\n",
       "</symbol>\n",
       "<symbol id=\"icon-file-text2\" viewBox=\"0 0 32 32\">\n",
       "<title>Show/Hide attributes</title>\n",
       "<path d=\"M28.681 7.159c-0.694-0.947-1.662-2.053-2.724-3.116s-2.169-2.030-3.116-2.724c-1.612-1.182-2.393-1.319-2.841-1.319h-15.5c-1.378 0-2.5 1.121-2.5 2.5v27c0 1.378 1.122 2.5 2.5 2.5h23c1.378 0 2.5-1.122 2.5-2.5v-19.5c0-0.448-0.137-1.23-1.319-2.841zM24.543 5.457c0.959 0.959 1.712 1.825 2.268 2.543h-4.811v-4.811c0.718 0.556 1.584 1.309 2.543 2.268zM28 29.5c0 0.271-0.229 0.5-0.5 0.5h-23c-0.271 0-0.5-0.229-0.5-0.5v-27c0-0.271 0.229-0.5 0.5-0.5 0 0 15.499-0 15.5 0v7c0 0.552 0.448 1 1 1h7v19.5z\"></path>\n",
       "<path d=\"M23 26h-14c-0.552 0-1-0.448-1-1s0.448-1 1-1h14c0.552 0 1 0.448 1 1s-0.448 1-1 1z\"></path>\n",
       "<path d=\"M23 22h-14c-0.552 0-1-0.448-1-1s0.448-1 1-1h14c0.552 0 1 0.448 1 1s-0.448 1-1 1z\"></path>\n",
       "<path d=\"M23 18h-14c-0.552 0-1-0.448-1-1s0.448-1 1-1h14c0.552 0 1 0.448 1 1s-0.448 1-1 1z\"></path>\n",
       "</symbol>\n",
       "</defs>\n",
       "</svg>\n",
       "<style>/* CSS stylesheet for displaying xarray objects in jupyterlab.\n",
       " *\n",
       " */\n",
       "\n",
       ":root {\n",
       "  --xr-font-color0: var(--jp-content-font-color0, rgba(0, 0, 0, 1));\n",
       "  --xr-font-color2: var(--jp-content-font-color2, rgba(0, 0, 0, 0.54));\n",
       "  --xr-font-color3: var(--jp-content-font-color3, rgba(0, 0, 0, 0.38));\n",
       "  --xr-border-color: var(--jp-border-color2, #e0e0e0);\n",
       "  --xr-disabled-color: var(--jp-layout-color3, #bdbdbd);\n",
       "  --xr-background-color: var(--jp-layout-color0, white);\n",
       "  --xr-background-color-row-even: var(--jp-layout-color1, white);\n",
       "  --xr-background-color-row-odd: var(--jp-layout-color2, #eeeeee);\n",
       "}\n",
       "\n",
       ".xr-wrap {\n",
       "  min-width: 300px;\n",
       "  max-width: 700px;\n",
       "}\n",
       "\n",
       ".xr-header {\n",
       "  padding-top: 6px;\n",
       "  padding-bottom: 6px;\n",
       "  margin-bottom: 4px;\n",
       "  border-bottom: solid 1px var(--xr-border-color);\n",
       "}\n",
       "\n",
       ".xr-header > div,\n",
       ".xr-header > ul {\n",
       "  display: inline;\n",
       "  margin-top: 0;\n",
       "  margin-bottom: 0;\n",
       "}\n",
       "\n",
       ".xr-obj-type,\n",
       ".xr-array-name {\n",
       "  margin-left: 2px;\n",
       "  margin-right: 10px;\n",
       "}\n",
       "\n",
       ".xr-obj-type {\n",
       "  color: var(--xr-font-color2);\n",
       "}\n",
       "\n",
       ".xr-sections {\n",
       "  padding-left: 0 !important;\n",
       "  display: grid;\n",
       "  grid-template-columns: 150px auto auto 1fr 20px 20px;\n",
       "}\n",
       "\n",
       ".xr-section-item {\n",
       "  display: contents;\n",
       "}\n",
       "\n",
       ".xr-section-item input {\n",
       "  display: none;\n",
       "}\n",
       "\n",
       ".xr-section-item input + label {\n",
       "  color: var(--xr-disabled-color);\n",
       "}\n",
       "\n",
       ".xr-section-item input:enabled + label {\n",
       "  cursor: pointer;\n",
       "  color: var(--xr-font-color2);\n",
       "}\n",
       "\n",
       ".xr-section-item input:enabled + label:hover {\n",
       "  color: var(--xr-font-color0);\n",
       "}\n",
       "\n",
       ".xr-section-summary {\n",
       "  grid-column: 1;\n",
       "  color: var(--xr-font-color2);\n",
       "  font-weight: 500;\n",
       "}\n",
       "\n",
       ".xr-section-summary > span {\n",
       "  display: inline-block;\n",
       "  padding-left: 0.5em;\n",
       "}\n",
       "\n",
       ".xr-section-summary-in:disabled + label {\n",
       "  color: var(--xr-font-color2);\n",
       "}\n",
       "\n",
       ".xr-section-summary-in + label:before {\n",
       "  display: inline-block;\n",
       "  content: '►';\n",
       "  font-size: 11px;\n",
       "  width: 15px;\n",
       "  text-align: center;\n",
       "}\n",
       "\n",
       ".xr-section-summary-in:disabled + label:before {\n",
       "  color: var(--xr-disabled-color);\n",
       "}\n",
       "\n",
       ".xr-section-summary-in:checked + label:before {\n",
       "  content: '▼';\n",
       "}\n",
       "\n",
       ".xr-section-summary-in:checked + label > span {\n",
       "  display: none;\n",
       "}\n",
       "\n",
       ".xr-section-summary,\n",
       ".xr-section-inline-details {\n",
       "  padding-top: 4px;\n",
       "  padding-bottom: 4px;\n",
       "}\n",
       "\n",
       ".xr-section-inline-details {\n",
       "  grid-column: 2 / -1;\n",
       "}\n",
       "\n",
       ".xr-section-details {\n",
       "  display: none;\n",
       "  grid-column: 1 / -1;\n",
       "  margin-bottom: 5px;\n",
       "}\n",
       "\n",
       ".xr-section-summary-in:checked ~ .xr-section-details {\n",
       "  display: contents;\n",
       "}\n",
       "\n",
       ".xr-array-wrap {\n",
       "  grid-column: 1 / -1;\n",
       "  display: grid;\n",
       "  grid-template-columns: 20px auto;\n",
       "}\n",
       "\n",
       ".xr-array-wrap > label {\n",
       "  grid-column: 1;\n",
       "  vertical-align: top;\n",
       "}\n",
       "\n",
       ".xr-preview {\n",
       "  color: var(--xr-font-color3);\n",
       "}\n",
       "\n",
       ".xr-array-preview,\n",
       ".xr-array-data {\n",
       "  padding: 0 5px !important;\n",
       "  grid-column: 2;\n",
       "}\n",
       "\n",
       ".xr-array-data,\n",
       ".xr-array-in:checked ~ .xr-array-preview {\n",
       "  display: none;\n",
       "}\n",
       "\n",
       ".xr-array-in:checked ~ .xr-array-data,\n",
       ".xr-array-preview {\n",
       "  display: inline-block;\n",
       "}\n",
       "\n",
       ".xr-dim-list {\n",
       "  display: inline-block !important;\n",
       "  list-style: none;\n",
       "  padding: 0 !important;\n",
       "  margin: 0;\n",
       "}\n",
       "\n",
       ".xr-dim-list li {\n",
       "  display: inline-block;\n",
       "  padding: 0;\n",
       "  margin: 0;\n",
       "}\n",
       "\n",
       ".xr-dim-list:before {\n",
       "  content: '(';\n",
       "}\n",
       "\n",
       ".xr-dim-list:after {\n",
       "  content: ')';\n",
       "}\n",
       "\n",
       ".xr-dim-list li:not(:last-child):after {\n",
       "  content: ',';\n",
       "  padding-right: 5px;\n",
       "}\n",
       "\n",
       ".xr-has-index {\n",
       "  font-weight: bold;\n",
       "}\n",
       "\n",
       ".xr-var-list,\n",
       ".xr-var-item {\n",
       "  display: contents;\n",
       "}\n",
       "\n",
       ".xr-var-item > div,\n",
       ".xr-var-item label,\n",
       ".xr-var-item > .xr-var-name span {\n",
       "  background-color: var(--xr-background-color-row-even);\n",
       "  margin-bottom: 0;\n",
       "}\n",
       "\n",
       ".xr-var-item > .xr-var-name:hover span {\n",
       "  padding-right: 5px;\n",
       "}\n",
       "\n",
       ".xr-var-list > li:nth-child(odd) > div,\n",
       ".xr-var-list > li:nth-child(odd) > label,\n",
       ".xr-var-list > li:nth-child(odd) > .xr-var-name span {\n",
       "  background-color: var(--xr-background-color-row-odd);\n",
       "}\n",
       "\n",
       ".xr-var-name {\n",
       "  grid-column: 1;\n",
       "}\n",
       "\n",
       ".xr-var-dims {\n",
       "  grid-column: 2;\n",
       "}\n",
       "\n",
       ".xr-var-dtype {\n",
       "  grid-column: 3;\n",
       "  text-align: right;\n",
       "  color: var(--xr-font-color2);\n",
       "}\n",
       "\n",
       ".xr-var-preview {\n",
       "  grid-column: 4;\n",
       "}\n",
       "\n",
       ".xr-var-name,\n",
       ".xr-var-dims,\n",
       ".xr-var-dtype,\n",
       ".xr-preview,\n",
       ".xr-attrs dt {\n",
       "  white-space: nowrap;\n",
       "  overflow: hidden;\n",
       "  text-overflow: ellipsis;\n",
       "  padding-right: 10px;\n",
       "}\n",
       "\n",
       ".xr-var-name:hover,\n",
       ".xr-var-dims:hover,\n",
       ".xr-var-dtype:hover,\n",
       ".xr-attrs dt:hover {\n",
       "  overflow: visible;\n",
       "  width: auto;\n",
       "  z-index: 1;\n",
       "}\n",
       "\n",
       ".xr-var-attrs,\n",
       ".xr-var-data {\n",
       "  display: none;\n",
       "  background-color: var(--xr-background-color) !important;\n",
       "  padding-bottom: 5px !important;\n",
       "}\n",
       "\n",
       ".xr-var-attrs-in:checked ~ .xr-var-attrs,\n",
       ".xr-var-data-in:checked ~ .xr-var-data {\n",
       "  display: block;\n",
       "}\n",
       "\n",
       ".xr-var-data > table {\n",
       "  float: right;\n",
       "}\n",
       "\n",
       ".xr-var-name span,\n",
       ".xr-var-data,\n",
       ".xr-attrs {\n",
       "  padding-left: 25px !important;\n",
       "}\n",
       "\n",
       ".xr-attrs,\n",
       ".xr-var-attrs,\n",
       ".xr-var-data {\n",
       "  grid-column: 1 / -1;\n",
       "}\n",
       "\n",
       "dl.xr-attrs {\n",
       "  padding: 0;\n",
       "  margin: 0;\n",
       "  display: grid;\n",
       "  grid-template-columns: 125px auto;\n",
       "}\n",
       "\n",
       ".xr-attrs dt, dd {\n",
       "  padding: 0;\n",
       "  margin: 0;\n",
       "  float: left;\n",
       "  padding-right: 10px;\n",
       "  width: auto;\n",
       "}\n",
       "\n",
       ".xr-attrs dt {\n",
       "  font-weight: normal;\n",
       "  grid-column: 1;\n",
       "}\n",
       "\n",
       ".xr-attrs dt:hover span {\n",
       "  display: inline-block;\n",
       "  background: var(--xr-background-color);\n",
       "  padding-right: 10px;\n",
       "}\n",
       "\n",
       ".xr-attrs dd {\n",
       "  grid-column: 2;\n",
       "  white-space: pre-wrap;\n",
       "  word-break: break-all;\n",
       "}\n",
       "\n",
       ".xr-icon-database,\n",
       ".xr-icon-file-text2 {\n",
       "  display: inline-block;\n",
       "  vertical-align: middle;\n",
       "  width: 1em;\n",
       "  height: 1.5em !important;\n",
       "  stroke-width: 0;\n",
       "  stroke: currentColor;\n",
       "  fill: currentColor;\n",
       "}\n",
       "</style><div class='xr-wrap'><div class='xr-header'><div class='xr-obj-type'>xarray.DataArray</div><div class='xr-array-name'></div><ul class='xr-dim-list'><li><span class='xr-has-index'>band</span>: 1</li><li><span class='xr-has-index'>y</span>: 610</li><li><span class='xr-has-index'>x</span>: 1543</li></ul></div><ul class='xr-sections'><li class='xr-section-item'><div class='xr-array-wrap'><input id='section-7bf23673-8582-47d7-961c-9ba0cffff69a' class='xr-array-in' type='checkbox' ><label for='section-7bf23673-8582-47d7-961c-9ba0cffff69a' title='Show/hide data repr'><svg class='icon xr-icon-database'><use xlink:href='#icon-database'></use></svg></label><div class='xr-array-preview xr-preview'><span>...</span></div><pre class='xr-array-data'>[941230 values with dtype=int16]</pre></div></li><li class='xr-section-item'><input id='section-e4ea57bb-ed7c-41ac-8ea9-1ac87f2a19a7' class='xr-section-summary-in' type='checkbox'  checked><label for='section-e4ea57bb-ed7c-41ac-8ea9-1ac87f2a19a7' class='xr-section-summary' >Coordinates: <span>(4)</span></label><div class='xr-section-inline-details'></div><div class='xr-section-details'><ul class='xr-var-list'><li class='xr-var-item'><div class='xr-var-name'><span class='xr-has-index'>band</span></div><div class='xr-var-dims'>(band)</div><div class='xr-var-dtype'>int32</div><div class='xr-var-preview xr-preview'>1</div><input id='attrs-4ffdc716-ac28-4e9e-91ac-26503c9193fd' class='xr-var-attrs-in' type='checkbox' disabled><label for='attrs-4ffdc716-ac28-4e9e-91ac-26503c9193fd' title='Show/Hide attributes'><svg class='icon xr-icon-file-text2'><use xlink:href='#icon-file-text2'></use></svg></label><input id='data-126187d7-b15e-45a0-a06c-f285040f7cde' class='xr-var-data-in' type='checkbox'><label for='data-126187d7-b15e-45a0-a06c-f285040f7cde' title='Show/Hide data repr'><svg class='icon xr-icon-database'><use xlink:href='#icon-database'></use></svg></label><div class='xr-var-attrs'><dl class='xr-attrs'></dl></div><pre class='xr-var-data'>array([1])</pre></li><li class='xr-var-item'><div class='xr-var-name'><span class='xr-has-index'>y</span></div><div class='xr-var-dims'>(y)</div><div class='xr-var-dtype'>float64</div><div class='xr-var-preview xr-preview'>-18.64 -18.65 ... -23.71 -23.72</div><input id='attrs-cdf46ca3-5e7d-413c-b4a7-c59e0f2e1d83' class='xr-var-attrs-in' type='checkbox' disabled><label for='attrs-cdf46ca3-5e7d-413c-b4a7-c59e0f2e1d83' title='Show/Hide attributes'><svg class='icon xr-icon-file-text2'><use xlink:href='#icon-file-text2'></use></svg></label><input id='data-c7624df1-93fd-4be5-a4ef-db80e51410f8' class='xr-var-data-in' type='checkbox'><label for='data-c7624df1-93fd-4be5-a4ef-db80e51410f8' title='Show/Hide data repr'><svg class='icon xr-icon-database'><use xlink:href='#icon-database'></use></svg></label><div class='xr-var-attrs'><dl class='xr-attrs'></dl></div><pre class='xr-var-data'>array([-18.64479, -18.65312, -18.66145, ..., -23.70116, -23.70949, -23.71782])</pre></li><li class='xr-var-item'><div class='xr-var-name'><span class='xr-has-index'>x</span></div><div class='xr-var-dims'>(x)</div><div class='xr-var-dtype'>float64</div><div class='xr-var-preview xr-preview'>-41.18 -41.17 ... -28.33 -28.32</div><input id='attrs-6d1e203a-b2a6-4a52-970f-6709b9d7f74e' class='xr-var-attrs-in' type='checkbox' disabled><label for='attrs-6d1e203a-b2a6-4a52-970f-6709b9d7f74e' title='Show/Hide attributes'><svg class='icon xr-icon-file-text2'><use xlink:href='#icon-file-text2'></use></svg></label><input id='data-e6aa98a8-bfff-45fc-9cb3-fc43983f9ca6' class='xr-var-data-in' type='checkbox'><label for='data-e6aa98a8-bfff-45fc-9cb3-fc43983f9ca6' title='Show/Hide data repr'><svg class='icon xr-icon-database'><use xlink:href='#icon-database'></use></svg></label><div class='xr-var-attrs'><dl class='xr-attrs'></dl></div><pre class='xr-var-data'>array([-41.176435, -41.1681  , -41.159765, ..., -28.340357, -28.332022,\n",
       "       -28.323687])</pre></li><li class='xr-var-item'><div class='xr-var-name'><span>spatial_ref</span></div><div class='xr-var-dims'>()</div><div class='xr-var-dtype'>int32</div><div class='xr-var-preview xr-preview'>0</div><input id='attrs-4140369b-54fb-4c90-afdc-5e4ab0a90a86' class='xr-var-attrs-in' type='checkbox' ><label for='attrs-4140369b-54fb-4c90-afdc-5e4ab0a90a86' title='Show/Hide attributes'><svg class='icon xr-icon-file-text2'><use xlink:href='#icon-file-text2'></use></svg></label><input id='data-030351b3-72ac-49a7-8685-5c8ccc3c3460' class='xr-var-data-in' type='checkbox'><label for='data-030351b3-72ac-49a7-8685-5c8ccc3c3460' title='Show/Hide data repr'><svg class='icon xr-icon-database'><use xlink:href='#icon-database'></use></svg></label><div class='xr-var-attrs'><dl class='xr-attrs'><dt><span>spatial_ref :</span></dt><dd>GEOGCRS[&quot;WGS 84&quot;,DATUM[&quot;World Geodetic System 1984&quot;,ELLIPSOID[&quot;WGS 84&quot;,6378137,298.257223563,LENGTHUNIT[&quot;metre&quot;,1]]],PRIMEM[&quot;Greenwich&quot;,0,ANGLEUNIT[&quot;degree&quot;,0.0174532925199433]],CS[ellipsoidal,2],AXIS[&quot;geodetic latitude (Lat)&quot;,north,ORDER[1],ANGLEUNIT[&quot;degree&quot;,0.0174532925199433]],AXIS[&quot;geodetic longitude (Lon)&quot;,east,ORDER[2],ANGLEUNIT[&quot;degree&quot;,0.0174532925199433]],ID[&quot;EPSG&quot;,4326]]</dd><dt><span>crs_wkt :</span></dt><dd>GEOGCRS[&quot;WGS 84&quot;,DATUM[&quot;World Geodetic System 1984&quot;,ELLIPSOID[&quot;WGS 84&quot;,6378137,298.257223563,LENGTHUNIT[&quot;metre&quot;,1]]],PRIMEM[&quot;Greenwich&quot;,0,ANGLEUNIT[&quot;degree&quot;,0.0174532925199433]],CS[ellipsoidal,2],AXIS[&quot;geodetic latitude (Lat)&quot;,north,ORDER[1],ANGLEUNIT[&quot;degree&quot;,0.0174532925199433]],AXIS[&quot;geodetic longitude (Lon)&quot;,east,ORDER[2],ANGLEUNIT[&quot;degree&quot;,0.0174532925199433]],ID[&quot;EPSG&quot;,4326]]</dd></dl></div><pre class='xr-var-data'>array(0)</pre></li></ul></div></li><li class='xr-section-item'><input id='section-6972c8d1-e186-491c-8a8e-ebb152179d97' class='xr-section-summary-in' type='checkbox'  checked><label for='section-6972c8d1-e186-491c-8a8e-ebb152179d97' class='xr-section-summary' >Attributes: <span>(5)</span></label><div class='xr-section-inline-details'></div><div class='xr-section-details'><dl class='xr-attrs'><dt><span>transform :</span></dt><dd>(0.008335116001296178, 0.0, -41.18060303, 0.0, -0.00833009813114754, -18.640625)</dd><dt><span>_FillValue :</span></dt><dd>-32768.0</dd><dt><span>scale_factor :</span></dt><dd>1.0</dd><dt><span>add_offset :</span></dt><dd>0.0</dd><dt><span>grid_mapping :</span></dt><dd>spatial_ref</dd></dl></div></li></ul></div></div>"
      ],
      "text/plain": [
       "<xarray.DataArray (band: 1, y: 610, x: 1543)>\n",
       "[941230 values with dtype=int16]\n",
       "Coordinates:\n",
       "  * band         (band) int32 1\n",
       "  * y            (y) float64 -18.64 -18.65 -18.66 -18.67 ... -23.7 -23.71 -23.72\n",
       "  * x            (x) float64 -41.18 -41.17 -41.16 ... -28.34 -28.33 -28.32\n",
       "    spatial_ref  int32 0\n",
       "Attributes:\n",
       "    transform:     (0.008335116001296178, 0.0, -41.18060303, 0.0, -0.00833009...\n",
       "    _FillValue:    -32768.0\n",
       "    scale_factor:  1.0\n",
       "    add_offset:    0.0\n",
       "    grid_mapping:  spatial_ref"
      ]
     },
     "execution_count": 24,
     "metadata": {},
     "output_type": "execute_result"
    }
   ],
   "source": [
    "import rioxarray\n",
    "rasterdata = rioxarray.open_rasterio(f'data/{dataset.replace(\":\",\"_\")}.tif')\n",
    "rasterdata"
   ]
  },
  {
   "cell_type": "markdown",
   "metadata": {},
   "source": [
    "#### Plot a map of the rasterdata overlaid with the study area"
   ]
  },
  {
   "cell_type": "code",
   "execution_count": 25,
   "metadata": {},
   "outputs": [
    {
     "data": {
      "text/plain": [
       "Text(0.5, 1.0, 'Lophelia pertusa Habitat suitability in the study area')"
      ]
     },
     "execution_count": 25,
     "metadata": {},
     "output_type": "execute_result"
    },
    {
     "data": {
      "image/png": "[encoded data removed]",
      "text/plain": [
       "<Figure size 1152x576 with 2 Axes>"
      ]
     },
     "metadata": {
      "needs_background": "light"
     },
     "output_type": "display_data"
    }
   ],
   "source": [
    "# mask with the nodata value\n",
    "masked_rasterdata = rasterdata.where(rasterdata != rasterdata._FillValue)\n",
    "fig = plt.figure(figsize=(16,8))\n",
    "ax = fig.add_subplot(111)\n",
    "masked_rasterdata.plot(ax = ax,cbar_kwargs={'orientation': 'horizontal','label':'Habitat Suitability Index'} ) # plot raster data\n",
    "study_area.boundary.plot(ax=ax, color=None, edgecolor = 'red', label = 'Study Area') # plot study areas\n",
    "ax.legend()\n",
    "ax.set_title('Lophelia pertusa Habitat suitability in the study area')"
   ]
  },
  {
   "cell_type": "markdown",
   "metadata": {},
   "source": [
    "### [>> Next: Use OGC services from common GIS software](./4_OGC_services_from_common_GIS_software.ipynb)"
   ]
  },
  {
   "cell_type": "markdown",
   "metadata": {},
   "source": [
    "<hr>"
   ]
  },
  {
   "cell_type": "markdown",
   "metadata": {},
   "source": [
    "<a rel=\"license\" href=\"http://creativecommons.org/licenses/by/4.0/\"><img style=\"float: right\" alt=\"Creative Commons Lizenzvertrag\" style=\"border-width:0\" src=\"https://i.creativecommons.org/l/by/4.0/88x31.png\" /></a>"
   ]
  }
 ],
 "metadata": {
  "kernelspec": {
   "display_name": "Python 3.8.2 ('ogc_workshop')",
   "language": "python",
   "name": "python3"
  },
  "language_info": {
   "codemirror_mode": {
    "name": "ipython",
    "version": 3
   },
   "file_extension": ".py",
   "mimetype": "text/x-python",
   "name": "python",
   "nbconvert_exporter": "python",
   "pygments_lexer": "ipython3",
   "version": "3.8.2"
  },
  "vscode": {
   "interpreter": {
    "hash": "eff9972986547b43e8de2d0d9f5b6451d0fad2027d94a3b8017c28da4e1a2a89"
   }
  }
 },
 "nbformat": 4,
 "nbformat_minor": 2
}
