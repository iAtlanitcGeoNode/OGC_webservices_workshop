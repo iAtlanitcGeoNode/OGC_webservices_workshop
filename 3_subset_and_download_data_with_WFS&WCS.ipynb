{
 "cells": [
  {
   "cell_type": "markdown",
   "metadata": {},
   "source": [
    "<img src=\"./img/logo.png\" align=\"right\" width=\"50%\"></img>\n",
    "# iAtlantic GeoNode Workshop\n",
    "### Tier 2: How to use OGC webservices offered by the iAtlantic GeoNode in your data analysis"
   ]
  },
  {
   "cell_type": "markdown",
   "metadata": {},
   "source": [
    "## 3. Subset & download data using OGC Web Feature and Coverage Services (WFS/WCS)"
   ]
  },
  {
   "cell_type": "markdown",
   "metadata": {},
   "source": [
    "The OWSLib library is a python library that makes accessing data and metadata through OGC services possible. The library abstracts all of the traditional HTTP API calls into programmatic function calls. We will be using this library throughout the tutorial to interact with the iAtlantic GeoNode OGC services.\n",
    "\n",
    "The library is available from GitHub @  https://github.com/geopython/OWSLib"
   ]
  },
  {
   "cell_type": "code",
   "execution_count": 1,
   "metadata": {},
   "outputs": [],
   "source": [
    "from owslib.wfs import WebFeatureService\n",
    "from owslib.wcs import WebCoverageService"
   ]
  },
  {
   "cell_type": "markdown",
   "metadata": {},
   "source": [
    "### 3.1 Get vector data with WFS"
   ]
  },
  {
   "cell_type": "markdown",
   "metadata": {},
   "source": [
    "#### Create a WebFeatureService (WFS) object\n",
    "Note that we use version 1.1.0 as in OWSLib this version has support for [OGC Filter Encoding](https://www.ogc.org/standards/filter)"
   ]
  },
  {
   "cell_type": "code",
   "execution_count": 2,
   "metadata": {},
   "outputs": [],
   "source": [
    "wfs = WebFeatureService('https://www.geonode.iatlantic.eu/geoserver/ows', version = '1.1.0')"
   ]
  },
  {
   "cell_type": "markdown",
   "metadata": {},
   "source": [
    "#### Find out what the WFS has to offer. Service metadata:"
   ]
  },
  {
   "cell_type": "code",
   "execution_count": 3,
   "metadata": {},
   "outputs": [
    {
     "name": "stdout",
     "output_type": "stream",
     "text": [
      "WFS\n",
      "1.1.0\n",
      "iAtlantic WFS\n",
      "This WFS service offers vector data collected within the within the framework of the iAtlantic project.\n"
     ]
    }
   ],
   "source": [
    "print(wfs.identification.type)\n",
    "print(wfs.identification.version)\n",
    "print(wfs.identification.title)\n",
    "print(wfs.identification.abstract)"
   ]
  },
  {
   "cell_type": "markdown",
   "metadata": {},
   "source": [
    "#### See available methods"
   ]
  },
  {
   "cell_type": "code",
   "execution_count": 4,
   "metadata": {},
   "outputs": [
    {
     "data": {
      "text/plain": [
       "['GetCapabilities',\n",
       " 'DescribeFeatureType',\n",
       " 'GetFeature',\n",
       " 'GetGmlObject',\n",
       " 'LockFeature',\n",
       " 'GetFeatureWithLock',\n",
       " 'Transaction']"
      ]
     },
     "execution_count": 4,
     "metadata": {},
     "output_type": "execute_result"
    }
   ],
   "source": [
    "[operation.name for operation in wfs.operations]"
   ]
  },
  {
   "cell_type": "markdown",
   "metadata": {},
   "source": [
    "#### Get available formats"
   ]
  },
  {
   "cell_type": "code",
   "execution_count": 5,
   "metadata": {},
   "outputs": [
    {
     "data": {
      "text/plain": [
       "{'resultType': {'values': ['results', 'hits']},\n",
       " 'outputFormat': {'values': ['text/xml; subtype=gml/3.1.1',\n",
       "   'GML2',\n",
       "   'KML',\n",
       "   'SHAPE-ZIP',\n",
       "   'application/gml+xml; version=3.2',\n",
       "   'application/json',\n",
       "   'application/vnd.google-earth.kml xml',\n",
       "   'application/vnd.google-earth.kml+xml',\n",
       "   'csv',\n",
       "   'excel',\n",
       "   'excel2007',\n",
       "   'gml3',\n",
       "   'gml32',\n",
       "   'json',\n",
       "   'text/xml; subtype=gml/2.1.2',\n",
       "   'text/xml; subtype=gml/3.2']}}"
      ]
     },
     "execution_count": 5,
     "metadata": {},
     "output_type": "execute_result"
    }
   ],
   "source": [
    "wfs.getOperationByName('GetFeature').parameters"
   ]
  },
  {
   "cell_type": "markdown",
   "metadata": {},
   "source": [
    "#### Find out what vector datasets (FeatureTypes) are available\n",
    "Note that only vector datasets that are uploaded to the GeoNode and are publicly available are shown"
   ]
  },
  {
   "cell_type": "code",
   "execution_count": 6,
   "metadata": {},
   "outputs": [
    {
     "data": {
      "text/plain": [
       "['geonode:iAtlantic_Research_Areas_merged']"
      ]
     },
     "execution_count": 6,
     "metadata": {},
     "output_type": "execute_result"
    }
   ],
   "source": [
    "list(wfs.contents)"
   ]
  },
  {
   "cell_type": "markdown",
   "metadata": {},
   "source": [
    "#### Get the FeatureType metadata:"
   ]
  },
  {
   "cell_type": "code",
   "execution_count": 7,
   "metadata": {},
   "outputs": [
    {
     "name": "stdout",
     "output_type": "stream",
     "text": [
      "iAtlantic Research Areas\n",
      "iAtlantic targets 12 large marine regions in the deep sea and open-ocean, chosen because they are: directly impacted by major circulation pathways, in proximity to ocean arrays for monitoring, of international conservation significance (e.g., to the CBD EBSA process) and of interest to Blue Economy and Blue Growth sectors. iAtlantic will assess ecosystem status and work directly with these sectors to provide the data and tools needed for sustainable management. These regions and ecosystems span the Arctic to Southern Ocean: (1) subpolar Mid-Atlantic Ridge open-ocean ecosystem off Iceland; (2) abyssal plain and deep-sea coral banks from the Rockall Trough to the Porcupine Abyssal Plain (PAP); (3) deep-sea coral and hydrothermal vent ecosystems of the central Mid-Atlantic Ridge; (4) deep-sea canyons and open-ocean ecosystem in the northwest Atlantic; (5) subtropical open-ocean ecosystem of the Sargasso Sea; (6) the tropical open-ocean off equatorial Africa; (7) equatorial open-ocean and deep-sea fracture zones; (8) the continental slope, margin and cold seep ecosystems from Angola to the Congo Lobe; (9) the abyssal plains and deep-sea ridge ecosystems of the Benguela Current from the Walvis Ridge to South Africa; (10) the deep-sea continental slope, banks and cold seep ecosystems off Brazil; (11) the Vitória-Trindade Seamount Chain off Brazil; (12) deep-sea coral banks in the Malvinas Upwelling Current off Argentina.\n"
     ]
    }
   ],
   "source": [
    "print(wfs.contents['geonode:iAtlantic_Research_Areas_merged'].title)\n",
    "print(wfs.contents['geonode:iAtlantic_Research_Areas_merged'].abstract)"
   ]
  },
  {
   "cell_type": "markdown",
   "metadata": {},
   "source": [
    "#### Get the FeatureType’s schema via `DescribeFeatureType`.\n",
    "The dictionary returned is compatible with a [Fiona schema object](https://fiona.readthedocs.io/en/latest/fiona.html#fiona.collection.Collection.schema)."
   ]
  },
  {
   "cell_type": "code",
   "execution_count": 8,
   "metadata": {},
   "outputs": [
    {
     "data": {
      "text/plain": [
       "{'properties': {'fid': 'int', 'Id': 'int', 'sa': 'long'},\n",
       " 'required': ['fid'],\n",
       " 'geometry': '3D MultiPolygon',\n",
       " 'geometry_column': 'the_geom'}"
      ]
     },
     "execution_count": 8,
     "metadata": {},
     "output_type": "execute_result"
    }
   ],
   "source": [
    "wfs.get_schema('geonode:iAtlantic_Research_Areas_merged')"
   ]
  },
  {
   "cell_type": "markdown",
   "metadata": {},
   "source": [
    "#### Subset data with a bounding box"
   ]
  },
  {
   "cell_type": "code",
   "execution_count": 9,
   "metadata": {
    "scrolled": true
   },
   "outputs": [
    {
     "data": {
      "text/html": [
       "<div>\n",
       "<style scoped>\n",
       "    .dataframe tbody tr th:only-of-type {\n",
       "        vertical-align: middle;\n",
       "    }\n",
       "\n",
       "    .dataframe tbody tr th {\n",
       "        vertical-align: top;\n",
       "    }\n",
       "\n",
       "    .dataframe thead th {\n",
       "        text-align: right;\n",
       "    }\n",
       "</style>\n",
       "<table border=\"1\" class=\"dataframe\">\n",
       "  <thead>\n",
       "    <tr style=\"text-align: right;\">\n",
       "      <th></th>\n",
       "      <th>id</th>\n",
       "      <th>fid</th>\n",
       "      <th>Id</th>\n",
       "      <th>sa</th>\n",
       "      <th>geometry</th>\n",
       "    </tr>\n",
       "  </thead>\n",
       "  <tbody>\n",
       "    <tr>\n",
       "      <th>0</th>\n",
       "      <td>iAtlantic_Research_Areas_merged.1</td>\n",
       "      <td>1</td>\n",
       "      <td>0</td>\n",
       "      <td>8</td>\n",
       "      <td>MULTIPOLYGON (((5.00000 -4.50000, 10.00000 -4....</td>\n",
       "    </tr>\n",
       "    <tr>\n",
       "      <th>1</th>\n",
       "      <td>iAtlantic_Research_Areas_merged.8</td>\n",
       "      <td>8</td>\n",
       "      <td>0</td>\n",
       "      <td>7</td>\n",
       "      <td>MULTIPOLYGON (((-23.28960 1.79618, -21.54000 2...</td>\n",
       "    </tr>\n",
       "    <tr>\n",
       "      <th>2</th>\n",
       "      <td>iAtlantic_Research_Areas_merged.9</td>\n",
       "      <td>9</td>\n",
       "      <td>0</td>\n",
       "      <td>9</td>\n",
       "      <td>MULTIPOLYGON (((11.62075 -19.72093, 12.91688 -...</td>\n",
       "    </tr>\n",
       "    <tr>\n",
       "      <th>3</th>\n",
       "      <td>iAtlantic_Research_Areas_merged.10</td>\n",
       "      <td>10</td>\n",
       "      <td>0</td>\n",
       "      <td>10</td>\n",
       "      <td>MULTIPOLYGON (((-39.83194 -20.69933, -37.20178...</td>\n",
       "    </tr>\n",
       "    <tr>\n",
       "      <th>4</th>\n",
       "      <td>iAtlantic_Research_Areas_merged.11</td>\n",
       "      <td>11</td>\n",
       "      <td>0</td>\n",
       "      <td>11</td>\n",
       "      <td>MULTIPOLYGON (((-38.55458 -20.46184, -38.28848...</td>\n",
       "    </tr>\n",
       "    <tr>\n",
       "      <th>5</th>\n",
       "      <td>iAtlantic_Research_Areas_merged.12</td>\n",
       "      <td>12</td>\n",
       "      <td>0</td>\n",
       "      <td>12</td>\n",
       "      <td>MULTIPOLYGON (((-56.68701 -38.05359, -55.46951...</td>\n",
       "    </tr>\n",
       "  </tbody>\n",
       "</table>\n",
       "</div>"
      ],
      "text/plain": [
       "                                   id  fid  Id  sa  \\\n",
       "0   iAtlantic_Research_Areas_merged.1    1   0   8   \n",
       "1   iAtlantic_Research_Areas_merged.8    8   0   7   \n",
       "2   iAtlantic_Research_Areas_merged.9    9   0   9   \n",
       "3  iAtlantic_Research_Areas_merged.10   10   0  10   \n",
       "4  iAtlantic_Research_Areas_merged.11   11   0  11   \n",
       "5  iAtlantic_Research_Areas_merged.12   12   0  12   \n",
       "\n",
       "                                            geometry  \n",
       "0  MULTIPOLYGON (((5.00000 -4.50000, 10.00000 -4....  \n",
       "1  MULTIPOLYGON (((-23.28960 1.79618, -21.54000 2...  \n",
       "2  MULTIPOLYGON (((11.62075 -19.72093, 12.91688 -...  \n",
       "3  MULTIPOLYGON (((-39.83194 -20.69933, -37.20178...  \n",
       "4  MULTIPOLYGON (((-38.55458 -20.46184, -38.28848...  \n",
       "5  MULTIPOLYGON (((-56.68701 -38.05359, -55.46951...  "
      ]
     },
     "execution_count": 9,
     "metadata": {},
     "output_type": "execute_result"
    }
   ],
   "source": [
    "# subset data with a bounding box\n",
    "response = wfs.getfeature(typename='geonode:iAtlantic_Research_Areas_merged',\n",
    "                          bbox=(-70,-60,20,0), #subset to the south atlantic\n",
    "                          outputFormat='application/json')\n",
    "# write it to a GeoJson file\n",
    "with open('data/study_areas.json', 'wb') as outfile:\n",
    "    outfile.write(response.read())\n",
    "response.close()\n",
    "# read the GeoJson file using GeoPandas\n",
    "import geopandas as gpd\n",
    "gdf = gpd.read_file('data/study_areas.json')\n",
    "gdf"
   ]
  },
  {
   "cell_type": "code",
   "execution_count": 10,
   "metadata": {},
   "outputs": [
    {
     "data": {
      "image/png": "[encoded data removed]",
      "text/plain": [
       "<Figure size 648x576 with 1 Axes>"
      ]
     },
     "metadata": {
      "needs_background": "light"
     },
     "output_type": "display_data"
    }
   ],
   "source": [
    "%matplotlib inline\n",
    "from matplotlib import pyplot as plt\n",
    "# get shapefile of world outline\n",
    "world = gpd.read_file(gpd.datasets.get_path('naturalearth_lowres'))\n",
    "fig, ax = plt.subplots(1, figsize=(9,8))\n",
    "world.plot(ax=ax) # add world base layer\n",
    "gdf.plot(column='sa',\n",
    "         categorical=True,\n",
    "         cmap='Spectral',\n",
    "         legend=True,\n",
    "         ax=ax) # add study areas colord by study region number\n",
    "ax.set_title('iAtlantic Study areas in the South Atlantic',fontsize=20)\n",
    "ax.set_xlim(-100,30)\n",
    "ax.set_ylim(-80,80)\n",
    "plt.tight_layout()"
   ]
  },
  {
   "cell_type": "markdown",
   "metadata": {},
   "source": [
    "#### Subset data by attributes using [OGC Filter Encoding](https://www.ogc.org/standards/filter)"
   ]
  },
  {
   "cell_type": "code",
   "execution_count": 11,
   "metadata": {},
   "outputs": [
    {
     "data": {
      "text/html": [
       "<div>\n",
       "<style scoped>\n",
       "    .dataframe tbody tr th:only-of-type {\n",
       "        vertical-align: middle;\n",
       "    }\n",
       "\n",
       "    .dataframe tbody tr th {\n",
       "        vertical-align: top;\n",
       "    }\n",
       "\n",
       "    .dataframe thead th {\n",
       "        text-align: right;\n",
       "    }\n",
       "</style>\n",
       "<table border=\"1\" class=\"dataframe\">\n",
       "  <thead>\n",
       "    <tr style=\"text-align: right;\">\n",
       "      <th></th>\n",
       "      <th>id</th>\n",
       "      <th>fid</th>\n",
       "      <th>Id</th>\n",
       "      <th>sa</th>\n",
       "      <th>geometry</th>\n",
       "    </tr>\n",
       "  </thead>\n",
       "  <tbody>\n",
       "    <tr>\n",
       "      <th>0</th>\n",
       "      <td>iAtlantic_Research_Areas_merged.1</td>\n",
       "      <td>1</td>\n",
       "      <td>0</td>\n",
       "      <td>8</td>\n",
       "      <td>MULTIPOLYGON (((5.00000 -4.50000, 10.00000 -4....</td>\n",
       "    </tr>\n",
       "    <tr>\n",
       "      <th>1</th>\n",
       "      <td>iAtlantic_Research_Areas_merged.2</td>\n",
       "      <td>2</td>\n",
       "      <td>0</td>\n",
       "      <td>1</td>\n",
       "      <td>MULTIPOLYGON (((-20.55172 69.48363, -18.87755 ...</td>\n",
       "    </tr>\n",
       "    <tr>\n",
       "      <th>2</th>\n",
       "      <td>iAtlantic_Research_Areas_merged.3</td>\n",
       "      <td>3</td>\n",
       "      <td>0</td>\n",
       "      <td>2</td>\n",
       "      <td>MULTIPOLYGON (((-13.01780 59.94755, -11.81203 ...</td>\n",
       "    </tr>\n",
       "    <tr>\n",
       "      <th>3</th>\n",
       "      <td>iAtlantic_Research_Areas_merged.4</td>\n",
       "      <td>4</td>\n",
       "      <td>0</td>\n",
       "      <td>3</td>\n",
       "      <td>MULTIPOLYGON (((-26.68523 42.27528, -25.50542 ...</td>\n",
       "    </tr>\n",
       "  </tbody>\n",
       "</table>\n",
       "</div>"
      ],
      "text/plain": [
       "                                  id  fid  Id  sa  \\\n",
       "0  iAtlantic_Research_Areas_merged.1    1   0   8   \n",
       "1  iAtlantic_Research_Areas_merged.2    2   0   1   \n",
       "2  iAtlantic_Research_Areas_merged.3    3   0   2   \n",
       "3  iAtlantic_Research_Areas_merged.4    4   0   3   \n",
       "\n",
       "                                            geometry  \n",
       "0  MULTIPOLYGON (((5.00000 -4.50000, 10.00000 -4....  \n",
       "1  MULTIPOLYGON (((-20.55172 69.48363, -18.87755 ...  \n",
       "2  MULTIPOLYGON (((-13.01780 59.94755, -11.81203 ...  \n",
       "3  MULTIPOLYGON (((-26.68523 42.27528, -25.50542 ...  "
      ]
     },
     "execution_count": 11,
     "metadata": {},
     "output_type": "execute_result"
    }
   ],
   "source": [
    "import owslib.fes as fes #Filter encodin standard\n",
    "from owslib.etree import etree\n",
    "# build a filter\n",
    "sa_filter = fes.PropertyIsEqualTo(propertyname='sa', literal='1') #filter to study area 1\n",
    "fid_filter = fes.PropertyIsBetween(propertyname='fid', lower = 0, upper= 4) # filter to fid between 0 and 4\n",
    "filter = fes.Or([sa_filter,fid_filter]) # combine using or\n",
    "# get an xml representation of the filter\n",
    "filterxml = etree.tostring(filter.toXML()).decode(\"utf-8\")\n",
    "# pass it to getFeature\n",
    "response = wfs.getfeature(typename='geonode:iAtlantic_Research_Areas_merged',outputFormat='application/json',filter=filterxml)\n",
    "# write it to a GeoJson file\n",
    "with open('data/study_areas.json', 'wb') as outfile:\n",
    "    outfile.write(response.read())\n",
    "response.close()\n",
    "# read the GeoJson file using GeoPandas\n",
    "gdf = gpd.read_file('data/study_areas.json')\n",
    "gdf"
   ]
  },
  {
   "cell_type": "markdown",
   "metadata": {},
   "source": [
    "### 3.2 Get raster data with WCS"
   ]
  },
  {
   "cell_type": "markdown",
   "metadata": {},
   "source": [
    "#### <i>Create a WebCoverageService (WCS) object</i>"
   ]
  },
  {
   "cell_type": "code",
   "execution_count": 12,
   "metadata": {},
   "outputs": [],
   "source": [
    "wcs = WebCoverageService('https://www.geonode.iatlantic.eu/geoserver/ows', version = '1.0.0')"
   ]
  },
  {
   "cell_type": "markdown",
   "metadata": {},
   "source": [
    "#### <i>Get a list of available coverages</i>"
   ]
  },
  {
   "cell_type": "code",
   "execution_count": 13,
   "metadata": {},
   "outputs": [
    {
     "name": "stdout",
     "output_type": "stream",
     "text": [
      "geonode:a__2018_st_All_avg\n"
     ]
    }
   ],
   "source": [
    "for coverage_name in wcs.contents.keys():\n",
    "    print(coverage_name)"
   ]
  },
  {
   "cell_type": "markdown",
   "metadata": {},
   "source": [
    "#### <i>Retrieve a list of available properties of a coverage</i>"
   ]
  },
  {
   "cell_type": "code",
   "execution_count": 14,
   "metadata": {},
   "outputs": [
    {
     "name": "stdout",
     "output_type": "stream",
     "text": [
      "abstract\n",
      "axisDescriptions\n",
      "boundingBox\n",
      "boundingBoxWGS84\n",
      "boundingboxes\n",
      "crsOptions\n",
      "defaulttimeposition\n",
      "grid\n",
      "id\n",
      "keywords\n",
      "styles\n",
      "supportedCRS\n",
      "supportedFormats\n",
      "timelimits\n",
      "timepositions\n",
      "title\n"
     ]
    }
   ],
   "source": [
    "for item in dir(wcs.contents['geonode:a__2018_st_All_avg']):\n",
    "    if \"_\" not in item:\n",
    "        print(item)"
   ]
  },
  {
   "cell_type": "markdown",
   "metadata": {},
   "source": [
    "#### <i>Retrieve grid property information</i>"
   ]
  },
  {
   "cell_type": "code",
   "execution_count": 15,
   "metadata": {},
   "outputs": [
    {
     "name": "stdout",
     "output_type": "stream",
     "text": [
      "axislabels: ['X', 'Y']\n",
      "dimension: 2\n",
      "highlimits: ['7507', '6430']\n",
      "lowlimits: ['0', '0']\n",
      "offsetvectors: [['1000.0', '0.0'], ['0.0', '-1000.0']]\n",
      "origin: ['-622500.0', '7034500.0']\n"
     ]
    }
   ],
   "source": [
    "for item in dir(wcs.contents['geonode:a__2018_st_All_avg'].grid):\n",
    "    if \"_\" not in item:\n",
    "        print(item + \": \" + str(wcs.contents['geonode:a__2018_st_All_avg'].grid.__dict__[item]))"
   ]
  },
  {
   "cell_type": "markdown",
   "metadata": {},
   "source": [
    "#### Get geo-bounding boxes and native CRS"
   ]
  },
  {
   "cell_type": "code",
   "execution_count": 16,
   "metadata": {},
   "outputs": [
    {
     "data": {
      "text/plain": [
       "[{'nativeSrs': 'EPSG:3035',\n",
       "  'bbox': (-623000.0, 604000.0, 6885000.0, 7035000.0)}]"
      ]
     },
     "execution_count": 16,
     "metadata": {},
     "output_type": "execute_result"
    }
   ],
   "source": [
    "wcs.contents['geonode:a__2018_st_All_avg'].boundingboxes"
   ]
  },
  {
   "cell_type": "markdown",
   "metadata": {},
   "source": [
    "#### Retrieve supported formats"
   ]
  },
  {
   "cell_type": "code",
   "execution_count": 17,
   "metadata": {},
   "outputs": [
    {
     "data": {
      "text/plain": [
       "['ArcGrid',\n",
       " 'GeoTIFF',\n",
       " 'GIF',\n",
       " 'GeoPackage (mosaic)',\n",
       " 'ImageMosaic',\n",
       " 'JPEG',\n",
       " 'PNG',\n",
       " 'TIFF']"
      ]
     },
     "execution_count": 17,
     "metadata": {},
     "output_type": "execute_result"
    }
   ],
   "source": [
    "wcs.contents['geonode:a__2018_st_All_avg'].supportedFormats"
   ]
  },
  {
   "cell_type": "markdown",
   "metadata": {},
   "source": [
    "#### Subset and download raster data using a GetCoverage request"
   ]
  },
  {
   "cell_type": "code",
   "execution_count": 18,
   "metadata": {},
   "outputs": [],
   "source": [
    "# get parameters for grid\n",
    "bbox = gdf[gdf.sa == 2].bounds.values[0].tolist() # get bbox for iAtlantic study area 2\n",
    "crs = gdf.crs.srs # get crs of the Study Area file"
   ]
  },
  {
   "cell_type": "code",
   "execution_count": 19,
   "metadata": {},
   "outputs": [
    {
     "name": "stdout",
     "output_type": "stream",
     "text": [
      "http://www.geonode.iatlantic.eu/geoserver/wcs?version=1.0.0&request=GetCoverage&service=WCS&Coverage=geonode%3Aa__2018_st_All_avg&BBox=-20.69131479%2C46.85633841%2C-5.71059932%2C60.37745518&crs=epsg%3A4326&format=GeoTIFF&resx=0.00833333&resy=0.00833333&interpolation=nearest+neighbor\n"
     ]
    }
   ],
   "source": [
    "# GetCoverage request\n",
    "response = wcs.getCoverage(identifier='geonode:a__2018_st_All_avg',\n",
    "                           format='GeoTIFF',\n",
    "                           bbox=bbox,\n",
    "                           crs=crs,\n",
    "                           resx=0.00833333,resy=0.00833333,\n",
    "                           interpolation='nearest neighbor')\n",
    "print(response.geturl())\n",
    "with open('data/vessel_density.tif','wb') as outfile:\n",
    "    outfile.write(response.read())"
   ]
  },
  {
   "cell_type": "markdown",
   "metadata": {},
   "source": [
    "#### Open rasterdata in an xarray object using the rasterio library"
   ]
  },
  {
   "cell_type": "code",
   "execution_count": 20,
   "metadata": {},
   "outputs": [
    {
     "data": {
      "text/html": [
       "<div><svg style=\"position: absolute; width: 0; height: 0; overflow: hidden\">\n",
       "<defs>\n",
       "<symbol id=\"icon-database\" viewBox=\"0 0 32 32\">\n",
       "<title>Show/Hide data repr</title>\n",
       "<path d=\"M16 0c-8.837 0-16 2.239-16 5v4c0 2.761 7.163 5 16 5s16-2.239 16-5v-4c0-2.761-7.163-5-16-5z\"></path>\n",
       "<path d=\"M16 17c-8.837 0-16-2.239-16-5v6c0 2.761 7.163 5 16 5s16-2.239 16-5v-6c0 2.761-7.163 5-16 5z\"></path>\n",
       "<path d=\"M16 26c-8.837 0-16-2.239-16-5v6c0 2.761 7.163 5 16 5s16-2.239 16-5v-6c0 2.761-7.163 5-16 5z\"></path>\n",
       "</symbol>\n",
       "<symbol id=\"icon-file-text2\" viewBox=\"0 0 32 32\">\n",
       "<title>Show/Hide attributes</title>\n",
       "<path d=\"M28.681 7.159c-0.694-0.947-1.662-2.053-2.724-3.116s-2.169-2.030-3.116-2.724c-1.612-1.182-2.393-1.319-2.841-1.319h-15.5c-1.378 0-2.5 1.121-2.5 2.5v27c0 1.378 1.122 2.5 2.5 2.5h23c1.378 0 2.5-1.122 2.5-2.5v-19.5c0-0.448-0.137-1.23-1.319-2.841zM24.543 5.457c0.959 0.959 1.712 1.825 2.268 2.543h-4.811v-4.811c0.718 0.556 1.584 1.309 2.543 2.268zM28 29.5c0 0.271-0.229 0.5-0.5 0.5h-23c-0.271 0-0.5-0.229-0.5-0.5v-27c0-0.271 0.229-0.5 0.5-0.5 0 0 15.499-0 15.5 0v7c0 0.552 0.448 1 1 1h7v19.5z\"></path>\n",
       "<path d=\"M23 26h-14c-0.552 0-1-0.448-1-1s0.448-1 1-1h14c0.552 0 1 0.448 1 1s-0.448 1-1 1z\"></path>\n",
       "<path d=\"M23 22h-14c-0.552 0-1-0.448-1-1s0.448-1 1-1h14c0.552 0 1 0.448 1 1s-0.448 1-1 1z\"></path>\n",
       "<path d=\"M23 18h-14c-0.552 0-1-0.448-1-1s0.448-1 1-1h14c0.552 0 1 0.448 1 1s-0.448 1-1 1z\"></path>\n",
       "</symbol>\n",
       "</defs>\n",
       "</svg>\n",
       "<style>/* CSS stylesheet for displaying xarray objects in jupyterlab.\n",
       " *\n",
       " */\n",
       "\n",
       ":root {\n",
       "  --xr-font-color0: var(--jp-content-font-color0, rgba(0, 0, 0, 1));\n",
       "  --xr-font-color2: var(--jp-content-font-color2, rgba(0, 0, 0, 0.54));\n",
       "  --xr-font-color3: var(--jp-content-font-color3, rgba(0, 0, 0, 0.38));\n",
       "  --xr-border-color: var(--jp-border-color2, #e0e0e0);\n",
       "  --xr-disabled-color: var(--jp-layout-color3, #bdbdbd);\n",
       "  --xr-background-color: var(--jp-layout-color0, white);\n",
       "  --xr-background-color-row-even: var(--jp-layout-color1, white);\n",
       "  --xr-background-color-row-odd: var(--jp-layout-color2, #eeeeee);\n",
       "}\n",
       "\n",
       ".xr-wrap {\n",
       "  min-width: 300px;\n",
       "  max-width: 700px;\n",
       "}\n",
       "\n",
       ".xr-header {\n",
       "  padding-top: 6px;\n",
       "  padding-bottom: 6px;\n",
       "  margin-bottom: 4px;\n",
       "  border-bottom: solid 1px var(--xr-border-color);\n",
       "}\n",
       "\n",
       ".xr-header > div,\n",
       ".xr-header > ul {\n",
       "  display: inline;\n",
       "  margin-top: 0;\n",
       "  margin-bottom: 0;\n",
       "}\n",
       "\n",
       ".xr-obj-type,\n",
       ".xr-array-name {\n",
       "  margin-left: 2px;\n",
       "  margin-right: 10px;\n",
       "}\n",
       "\n",
       ".xr-obj-type {\n",
       "  color: var(--xr-font-color2);\n",
       "}\n",
       "\n",
       ".xr-sections {\n",
       "  padding-left: 0 !important;\n",
       "  display: grid;\n",
       "  grid-template-columns: 150px auto auto 1fr 20px 20px;\n",
       "}\n",
       "\n",
       ".xr-section-item {\n",
       "  display: contents;\n",
       "}\n",
       "\n",
       ".xr-section-item input {\n",
       "  display: none;\n",
       "}\n",
       "\n",
       ".xr-section-item input + label {\n",
       "  color: var(--xr-disabled-color);\n",
       "}\n",
       "\n",
       ".xr-section-item input:enabled + label {\n",
       "  cursor: pointer;\n",
       "  color: var(--xr-font-color2);\n",
       "}\n",
       "\n",
       ".xr-section-item input:enabled + label:hover {\n",
       "  color: var(--xr-font-color0);\n",
       "}\n",
       "\n",
       ".xr-section-summary {\n",
       "  grid-column: 1;\n",
       "  color: var(--xr-font-color2);\n",
       "  font-weight: 500;\n",
       "}\n",
       "\n",
       ".xr-section-summary > span {\n",
       "  display: inline-block;\n",
       "  padding-left: 0.5em;\n",
       "}\n",
       "\n",
       ".xr-section-summary-in:disabled + label {\n",
       "  color: var(--xr-font-color2);\n",
       "}\n",
       "\n",
       ".xr-section-summary-in + label:before {\n",
       "  display: inline-block;\n",
       "  content: '►';\n",
       "  font-size: 11px;\n",
       "  width: 15px;\n",
       "  text-align: center;\n",
       "}\n",
       "\n",
       ".xr-section-summary-in:disabled + label:before {\n",
       "  color: var(--xr-disabled-color);\n",
       "}\n",
       "\n",
       ".xr-section-summary-in:checked + label:before {\n",
       "  content: '▼';\n",
       "}\n",
       "\n",
       ".xr-section-summary-in:checked + label > span {\n",
       "  display: none;\n",
       "}\n",
       "\n",
       ".xr-section-summary,\n",
       ".xr-section-inline-details {\n",
       "  padding-top: 4px;\n",
       "  padding-bottom: 4px;\n",
       "}\n",
       "\n",
       ".xr-section-inline-details {\n",
       "  grid-column: 2 / -1;\n",
       "}\n",
       "\n",
       ".xr-section-details {\n",
       "  display: none;\n",
       "  grid-column: 1 / -1;\n",
       "  margin-bottom: 5px;\n",
       "}\n",
       "\n",
       ".xr-section-summary-in:checked ~ .xr-section-details {\n",
       "  display: contents;\n",
       "}\n",
       "\n",
       ".xr-array-wrap {\n",
       "  grid-column: 1 / -1;\n",
       "  display: grid;\n",
       "  grid-template-columns: 20px auto;\n",
       "}\n",
       "\n",
       ".xr-array-wrap > label {\n",
       "  grid-column: 1;\n",
       "  vertical-align: top;\n",
       "}\n",
       "\n",
       ".xr-preview {\n",
       "  color: var(--xr-font-color3);\n",
       "}\n",
       "\n",
       ".xr-array-preview,\n",
       ".xr-array-data {\n",
       "  padding: 0 5px !important;\n",
       "  grid-column: 2;\n",
       "}\n",
       "\n",
       ".xr-array-data,\n",
       ".xr-array-in:checked ~ .xr-array-preview {\n",
       "  display: none;\n",
       "}\n",
       "\n",
       ".xr-array-in:checked ~ .xr-array-data,\n",
       ".xr-array-preview {\n",
       "  display: inline-block;\n",
       "}\n",
       "\n",
       ".xr-dim-list {\n",
       "  display: inline-block !important;\n",
       "  list-style: none;\n",
       "  padding: 0 !important;\n",
       "  margin: 0;\n",
       "}\n",
       "\n",
       ".xr-dim-list li {\n",
       "  display: inline-block;\n",
       "  padding: 0;\n",
       "  margin: 0;\n",
       "}\n",
       "\n",
       ".xr-dim-list:before {\n",
       "  content: '(';\n",
       "}\n",
       "\n",
       ".xr-dim-list:after {\n",
       "  content: ')';\n",
       "}\n",
       "\n",
       ".xr-dim-list li:not(:last-child):after {\n",
       "  content: ',';\n",
       "  padding-right: 5px;\n",
       "}\n",
       "\n",
       ".xr-has-index {\n",
       "  font-weight: bold;\n",
       "}\n",
       "\n",
       ".xr-var-list,\n",
       ".xr-var-item {\n",
       "  display: contents;\n",
       "}\n",
       "\n",
       ".xr-var-item > div,\n",
       ".xr-var-item label,\n",
       ".xr-var-item > .xr-var-name span {\n",
       "  background-color: var(--xr-background-color-row-even);\n",
       "  margin-bottom: 0;\n",
       "}\n",
       "\n",
       ".xr-var-item > .xr-var-name:hover span {\n",
       "  padding-right: 5px;\n",
       "}\n",
       "\n",
       ".xr-var-list > li:nth-child(odd) > div,\n",
       ".xr-var-list > li:nth-child(odd) > label,\n",
       ".xr-var-list > li:nth-child(odd) > .xr-var-name span {\n",
       "  background-color: var(--xr-background-color-row-odd);\n",
       "}\n",
       "\n",
       ".xr-var-name {\n",
       "  grid-column: 1;\n",
       "}\n",
       "\n",
       ".xr-var-dims {\n",
       "  grid-column: 2;\n",
       "}\n",
       "\n",
       ".xr-var-dtype {\n",
       "  grid-column: 3;\n",
       "  text-align: right;\n",
       "  color: var(--xr-font-color2);\n",
       "}\n",
       "\n",
       ".xr-var-preview {\n",
       "  grid-column: 4;\n",
       "}\n",
       "\n",
       ".xr-var-name,\n",
       ".xr-var-dims,\n",
       ".xr-var-dtype,\n",
       ".xr-preview,\n",
       ".xr-attrs dt {\n",
       "  white-space: nowrap;\n",
       "  overflow: hidden;\n",
       "  text-overflow: ellipsis;\n",
       "  padding-right: 10px;\n",
       "}\n",
       "\n",
       ".xr-var-name:hover,\n",
       ".xr-var-dims:hover,\n",
       ".xr-var-dtype:hover,\n",
       ".xr-attrs dt:hover {\n",
       "  overflow: visible;\n",
       "  width: auto;\n",
       "  z-index: 1;\n",
       "}\n",
       "\n",
       ".xr-var-attrs,\n",
       ".xr-var-data {\n",
       "  display: none;\n",
       "  background-color: var(--xr-background-color) !important;\n",
       "  padding-bottom: 5px !important;\n",
       "}\n",
       "\n",
       ".xr-var-attrs-in:checked ~ .xr-var-attrs,\n",
       ".xr-var-data-in:checked ~ .xr-var-data {\n",
       "  display: block;\n",
       "}\n",
       "\n",
       ".xr-var-data > table {\n",
       "  float: right;\n",
       "}\n",
       "\n",
       ".xr-var-name span,\n",
       ".xr-var-data,\n",
       ".xr-attrs {\n",
       "  padding-left: 25px !important;\n",
       "}\n",
       "\n",
       ".xr-attrs,\n",
       ".xr-var-attrs,\n",
       ".xr-var-data {\n",
       "  grid-column: 1 / -1;\n",
       "}\n",
       "\n",
       "dl.xr-attrs {\n",
       "  padding: 0;\n",
       "  margin: 0;\n",
       "  display: grid;\n",
       "  grid-template-columns: 125px auto;\n",
       "}\n",
       "\n",
       ".xr-attrs dt, dd {\n",
       "  padding: 0;\n",
       "  margin: 0;\n",
       "  float: left;\n",
       "  padding-right: 10px;\n",
       "  width: auto;\n",
       "}\n",
       "\n",
       ".xr-attrs dt {\n",
       "  font-weight: normal;\n",
       "  grid-column: 1;\n",
       "}\n",
       "\n",
       ".xr-attrs dt:hover span {\n",
       "  display: inline-block;\n",
       "  background: var(--xr-background-color);\n",
       "  padding-right: 10px;\n",
       "}\n",
       "\n",
       ".xr-attrs dd {\n",
       "  grid-column: 2;\n",
       "  white-space: pre-wrap;\n",
       "  word-break: break-all;\n",
       "}\n",
       "\n",
       ".xr-icon-database,\n",
       ".xr-icon-file-text2 {\n",
       "  display: inline-block;\n",
       "  vertical-align: middle;\n",
       "  width: 1em;\n",
       "  height: 1.5em !important;\n",
       "  stroke-width: 0;\n",
       "  stroke: currentColor;\n",
       "  fill: currentColor;\n",
       "}\n",
       "</style><div class='xr-wrap'><div class='xr-header'><div class='xr-obj-type'>xarray.DataArray</div><div class='xr-array-name'></div><ul class='xr-dim-list'><li><span class='xr-has-index'>band</span>: 1</li><li><span class='xr-has-index'>y</span>: 2249</li><li><span class='xr-has-index'>x</span>: 3473</li></ul></div><ul class='xr-sections'><li class='xr-section-item'><div class='xr-array-wrap'><input id='section-141f7a3a-2c34-4f5c-a392-aaedd9650f4c' class='xr-array-in' type='checkbox' ><label for='section-141f7a3a-2c34-4f5c-a392-aaedd9650f4c' title='Show/hide data repr'><svg class='icon xr-icon-database'><use xlink:href='#icon-database'></use></svg></label><div class='xr-array-preview xr-preview'><span>...</span></div><pre class='xr-array-data'>[7810777 values with dtype=float32]</pre></div></li><li class='xr-section-item'><input id='section-77938196-9619-4f15-98c7-0f4e4b8e0efe' class='xr-section-summary-in' type='checkbox'  checked><label for='section-77938196-9619-4f15-98c7-0f4e4b8e0efe' class='xr-section-summary' >Coordinates: <span>(4)</span></label><div class='xr-section-inline-details'></div><div class='xr-section-details'><ul class='xr-var-list'><li class='xr-var-item'><div class='xr-var-name'><span class='xr-has-index'>band</span></div><div class='xr-var-dims'>(band)</div><div class='xr-var-dtype'>int32</div><div class='xr-var-preview xr-preview'>1</div><input id='attrs-226b2cb9-8a11-46c8-b4c6-f04063427c1a' class='xr-var-attrs-in' type='checkbox' disabled><label for='attrs-226b2cb9-8a11-46c8-b4c6-f04063427c1a' title='Show/Hide attributes'><svg class='icon xr-icon-file-text2'><use xlink:href='#icon-file-text2'></use></svg></label><input id='data-495055b4-b95b-42f5-bbcd-0f37f7c9afbd' class='xr-var-data-in' type='checkbox'><label for='data-495055b4-b95b-42f5-bbcd-0f37f7c9afbd' title='Show/Hide data repr'><svg class='icon xr-icon-database'><use xlink:href='#icon-database'></use></svg></label><div class='xr-var-attrs'><dl class='xr-attrs'></dl></div><pre class='xr-var-data'>array([1])</pre></li><li class='xr-var-item'><div class='xr-var-name'><span class='xr-has-index'>y</span></div><div class='xr-var-dims'>(y)</div><div class='xr-var-dtype'>float64</div><div class='xr-var-preview xr-preview'>62.7 62.69 62.69 ... 43.98 43.97</div><input id='attrs-75caa313-2d7e-471c-8d18-cf35e3ee3ce0' class='xr-var-attrs-in' type='checkbox' disabled><label for='attrs-75caa313-2d7e-471c-8d18-cf35e3ee3ce0' title='Show/Hide attributes'><svg class='icon xr-icon-file-text2'><use xlink:href='#icon-file-text2'></use></svg></label><input id='data-f42d7972-acf4-4226-a786-b1f6ad6e71b1' class='xr-var-data-in' type='checkbox'><label for='data-f42d7972-acf4-4226-a786-b1f6ad6e71b1' title='Show/Hide data repr'><svg class='icon xr-icon-database'><use xlink:href='#icon-database'></use></svg></label><div class='xr-var-attrs'><dl class='xr-attrs'></dl></div><pre class='xr-var-data'>array([62.702084, 62.69375 , 62.685416, ..., 43.983449, 43.975115, 43.966781])</pre></li><li class='xr-var-item'><div class='xr-var-name'><span class='xr-has-index'>x</span></div><div class='xr-var-dims'>(x)</div><div class='xr-var-dtype'>float64</div><div class='xr-var-preview xr-preview'>-30.39 -30.38 ... -1.458 -1.45</div><input id='attrs-3987cde5-c5fe-4900-9829-ad991035473a' class='xr-var-attrs-in' type='checkbox' disabled><label for='attrs-3987cde5-c5fe-4900-9829-ad991035473a' title='Show/Hide attributes'><svg class='icon xr-icon-file-text2'><use xlink:href='#icon-file-text2'></use></svg></label><input id='data-872e3c88-3336-452f-a787-fd9dca787455' class='xr-var-data-in' type='checkbox'><label for='data-872e3c88-3336-452f-a787-fd9dca787455' title='Show/Hide data repr'><svg class='icon xr-icon-database'><use xlink:href='#icon-database'></use></svg></label><div class='xr-var-attrs'><dl class='xr-attrs'></dl></div><pre class='xr-var-data'>array([-30.387352, -30.379017, -30.370683, ...,  -1.466393,  -1.458058,\n",
       "        -1.449723])</pre></li><li class='xr-var-item'><div class='xr-var-name'><span>spatial_ref</span></div><div class='xr-var-dims'>()</div><div class='xr-var-dtype'>int32</div><div class='xr-var-preview xr-preview'>0</div><input id='attrs-0a13c235-e2c0-4c8f-9e54-a62d11cb7390' class='xr-var-attrs-in' type='checkbox' ><label for='attrs-0a13c235-e2c0-4c8f-9e54-a62d11cb7390' title='Show/Hide attributes'><svg class='icon xr-icon-file-text2'><use xlink:href='#icon-file-text2'></use></svg></label><input id='data-7ecbbdde-fe0c-4616-b638-adc2bc98cb0e' class='xr-var-data-in' type='checkbox'><label for='data-7ecbbdde-fe0c-4616-b638-adc2bc98cb0e' title='Show/Hide data repr'><svg class='icon xr-icon-database'><use xlink:href='#icon-database'></use></svg></label><div class='xr-var-attrs'><dl class='xr-attrs'><dt><span>spatial_ref :</span></dt><dd>GEOGCRS[&quot;WGS 84&quot;,DATUM[&quot;World Geodetic System 1984&quot;,ELLIPSOID[&quot;WGS 84&quot;,6378137,298.257223563,LENGTHUNIT[&quot;metre&quot;,1]]],PRIMEM[&quot;Greenwich&quot;,0,ANGLEUNIT[&quot;degree&quot;,0.0174532925199433]],CS[ellipsoidal,2],AXIS[&quot;geodetic latitude (Lat)&quot;,north,ORDER[1],ANGLEUNIT[&quot;degree&quot;,0.0174532925199433]],AXIS[&quot;geodetic longitude (Lon)&quot;,east,ORDER[2],ANGLEUNIT[&quot;degree&quot;,0.0174532925199433]],ID[&quot;EPSG&quot;,4326]]</dd><dt><span>crs_wkt :</span></dt><dd>GEOGCRS[&quot;WGS 84&quot;,DATUM[&quot;World Geodetic System 1984&quot;,ELLIPSOID[&quot;WGS 84&quot;,6378137,298.257223563,LENGTHUNIT[&quot;metre&quot;,1]]],PRIMEM[&quot;Greenwich&quot;,0,ANGLEUNIT[&quot;degree&quot;,0.0174532925199433]],CS[ellipsoidal,2],AXIS[&quot;geodetic latitude (Lat)&quot;,north,ORDER[1],ANGLEUNIT[&quot;degree&quot;,0.0174532925199433]],AXIS[&quot;geodetic longitude (Lon)&quot;,east,ORDER[2],ANGLEUNIT[&quot;degree&quot;,0.0174532925199433]],ID[&quot;EPSG&quot;,4326]]</dd></dl></div><pre class='xr-var-data'>array(0)</pre></li></ul></div></li><li class='xr-section-item'><input id='section-2a70cb66-a14b-4654-876d-1264f10964e0' class='xr-section-summary-in' type='checkbox'  checked><label for='section-2a70cb66-a14b-4654-876d-1264f10964e0' class='xr-section-summary' >Attributes: <span>(5)</span></label><div class='xr-section-inline-details'></div><div class='xr-section-details'><dl class='xr-attrs'><dt><span>transform :</span></dt><dd>(0.008334570404300499, 0.0, -30.391519169661805, 0.0, -0.008334209820334913, 62.70625143260642)</dd><dt><span>_FillValue :</span></dt><dd>-3.4028234663852886e+38</dd><dt><span>scale_factor :</span></dt><dd>1.0</dd><dt><span>add_offset :</span></dt><dd>0.0</dd><dt><span>grid_mapping :</span></dt><dd>spatial_ref</dd></dl></div></li></ul></div></div>"
      ],
      "text/plain": [
       "<xarray.DataArray (band: 1, y: 2249, x: 3473)>\n",
       "[7810777 values with dtype=float32]\n",
       "Coordinates:\n",
       "  * band         (band) int32 1\n",
       "  * y            (y) float64 62.7 62.69 62.69 62.68 ... 43.99 43.98 43.98 43.97\n",
       "  * x            (x) float64 -30.39 -30.38 -30.37 -30.36 ... -1.466 -1.458 -1.45\n",
       "    spatial_ref  int32 0\n",
       "Attributes:\n",
       "    transform:     (0.008334570404300499, 0.0, -30.391519169661805, 0.0, -0.0...\n",
       "    _FillValue:    -3.4028234663852886e+38\n",
       "    scale_factor:  1.0\n",
       "    add_offset:    0.0\n",
       "    grid_mapping:  spatial_ref"
      ]
     },
     "execution_count": 20,
     "metadata": {},
     "output_type": "execute_result"
    }
   ],
   "source": [
    "import rioxarray\n",
    "rds = rioxarray.open_rasterio('data/vessel_density.tif')\n",
    "rds"
   ]
  },
  {
   "cell_type": "markdown",
   "metadata": {},
   "source": [
    "#### Plot a map of the rasterdata overlaid with "
   ]
  },
  {
   "cell_type": "code",
   "execution_count": 22,
   "metadata": {},
   "outputs": [
    {
     "data": {
      "text/plain": [
       "<matplotlib.axes._subplots.AxesSubplot at 0x238e33516d0>"
      ]
     },
     "execution_count": 22,
     "metadata": {},
     "output_type": "execute_result"
    },
    {
     "data": {
      "image/png": "[encoded data removed]",
      "text/plain": [
       "<Figure size 1152x576 with 2 Axes>"
      ]
     },
     "metadata": {
      "needs_background": "light"
     },
     "output_type": "display_data"
    }
   ],
   "source": [
    "%matplotlib inline\n",
    "from matplotlib import pyplot as plt\n",
    "# mask with the nodata value\n",
    "masked_rds = rds.where(rds != rds._FillValue)\n",
    "fig = plt.figure(figsize=(16,8))\n",
    "ax = fig.add_subplot(111)\n",
    "masked_rds.plot(ax = ax, levels = [0,0.5,2,10,20,100]) # plot raster data\n",
    "gdf[gdf.sa == 2].boundary.plot(ax=ax, color=None, edgecolor = 'red') # plot study areas"
   ]
  },
  {
   "cell_type": "markdown",
   "metadata": {},
   "source": [
    "### [>> Next: Use OGC services from common GIS software](./4_OGC_services_from_common_GIS_software.ipynb)"
   ]
  },
  {
   "cell_type": "markdown",
   "metadata": {},
   "source": [
    "<hr>"
   ]
  },
  {
   "cell_type": "markdown",
   "metadata": {},
   "source": [
    "<a rel=\"license\" href=\"http://creativecommons.org/licenses/by/4.0/\"><img style=\"float: right\" alt=\"Creative Commons Lizenzvertrag\" style=\"border-width:0\" src=\"https://i.creativecommons.org/l/by/4.0/88x31.png\" /></a>"
   ]
  }
 ],
 "metadata": {
  "kernelspec": {
   "display_name": "Python 3.8.3 64-bit",
   "language": "python",
   "name": "python3"
  },
  "language_info": {
   "codemirror_mode": {
    "name": "ipython",
    "version": 3
   },
   "file_extension": ".py",
   "mimetype": "text/x-python",
   "name": "python",
   "nbconvert_exporter": "python",
   "pygments_lexer": "ipython3",
   "version": "3.8.3"
  },
  "vscode": {
   "interpreter": {
    "hash": "9650cb4e16cdd4a8e8e2d128bf38d875813998db22a3c986335f89e0cb4d7bb2"
   }
  }
 },
 "nbformat": 4,
 "nbformat_minor": 2
}
