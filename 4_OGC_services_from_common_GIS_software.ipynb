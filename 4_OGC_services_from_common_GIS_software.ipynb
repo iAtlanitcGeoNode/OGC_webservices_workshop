{
 "cells": [
  {
   "cell_type": "markdown",
   "metadata": {
    "slideshow": {
     "slide_type": "slide"
    }
   },
   "source": [
    "<img src=\"./img/logo.png\" align=\"right\" width=\"50%\"></img>\n",
    "# iAtlantic GeoNode Workshop\n",
    "### Tier 2: How to use OGC webservices offered by the iAtlantic GeoNode in your data analysis"
   ]
  },
  {
   "cell_type": "markdown",
   "metadata": {
    "slideshow": {
     "slide_type": "slide"
    }
   },
   "source": [
    "## 4. Use OGC services with common GIS software"
   ]
  },
  {
   "cell_type": "markdown",
   "metadata": {},
   "source": [
    "### 4.1 OGC services in ArcMap"
   ]
  },
  {
   "cell_type": "markdown",
   "metadata": {},
   "source": [
    "ESRI Arcmap has support for OGC services so you can connect directly with the iAtlantic GeoNode. We are providing a few screenshots walking you through the process below. A Walkthough is also provided by the [ESRI documentation](https://desktop.arcgis.com/en/arcmap/10.3/map/web-maps-and-services/about-using-ogc-service-layers.htm)."
   ]
  },
  {
   "cell_type": "markdown",
   "metadata": {},
   "source": [
    "#### Connect to the iAtlantic GeoNode WMS\n",
    "ArcMap has native support for working with WMS.\n",
    "\n",
    "> 1) Add a WMS server (throught he catalog window)\n",
    "\n",
    "> <img src=\"./img/add_wms.jpg\" align=\"center\" width=\"30%\"></img>\n",
    "\n",
    "> 2) Enter `URL: https://www.geonode.iatlantic.eu/geoserver/ows` and press `Add layers` to see the available layers, then click OK\n",
    "\n",
    "> <img src=\"./img/add_wms_2.jpg\" align=\"center\" width=\"60%\"></img>\n",
    "\n",
    "> 3) Access available layers from the iAtlantic WMS connection in your Catalog\n",
    "\n",
    "> <img src=\"./img/add_wms_3.jpg\" align=\"center\" width=\"30%\"></img>\n",
    "\n",
    "> 4) Drag a layer to your Table of Contents to add an **image of the data**, styled as on the GeoNode, to your ArcMap project. To work with the data, you will have to add it through WFS (vector type) or WCS (raster type) as documented below.\n",
    "\n",
    "> <img src=\"./img/add_wms_4.jpg\" align=\"center\" width=\"100%\"></img>\n"
   ]
  },
  {
   "cell_type": "markdown",
   "metadata": {},
   "source": [
    "#### Connect to the iAtlantic GeoNode WFS\n",
    "Adding a WFS server connection to ArcMap requires the [Data Interoperability license](https://www.esri.com/en-us/arcgis/products/arcgis-data-interoperability/buy) and works similar to adding WMS and WCS connections. In case you do not have this license, you can still save vector datasets from the iAtlantic GeoNode in your own geodatabase using the Conversion Toolbox. A walkthough for this workflow is given below.\n",
    "\n",
    "> 1) Open the `ArcToolBox` > `Converion Tools` > `From WFS` > `WFS To Feature Class` tool\n",
    "\n",
    "> <img src=\"./img/add_wfs.jpg\" align=\"center\" width=\"30%\"></img>\n",
    "\n",
    "> 2) Enter WFS server as `https://www.geonode.iatlantic.eu/geoserver/ows` select desired Feature Type (dataset), specify the output location in your local environment and optionally provide a customized name, then click ok.\n",
    "\n",
    "> <img src=\"./img/add_wfs_2.jpg\" align=\"center\" width=\"60%\"></img>\n",
    "\n",
    "> 3) Add the layer, now saved in your local environment, into your ArcMap project\n",
    "\n",
    "> <img src=\"./img/add_wfs_3.jpg\" align=\"center\" width=\"100%\"></img>"
   ]
  },
  {
   "cell_type": "markdown",
   "metadata": {},
   "source": [
    "#### Connect to the iAtlantic GeoNode WCS\n",
    "ArcMap has native support for working with WCS.\n",
    "\n",
    "> 1) Add a WCS server (throught he catalog window)\n",
    "\n",
    "> <img src=\"./img/add_wcs.jpg\" align=\"center\" width=\"30%\"></img>\n",
    "\n",
    "> 2) Enter `URL: https://www.geonode.iatlantic.eu/geoserver/ows` and press `Get Coverages` to see the available layers, then click OK\n",
    "\n",
    "> <img src=\"./img/add_wcs_2.jpg\" align=\"center\" width=\"60%\"></img>\n",
    "\n",
    "> 3) Access available layers from the iAtlantic WCS connection in your Catalog\n",
    "\n",
    "> <img src=\"./img/add_wcs_3.jpg\" align=\"center\" width=\"30%\"></img>\n",
    "\n",
    "> 4) Drag a coverage to your Table of Contents to add the raster data to your ArcMap project. In this case, you are loading the raw raster data, so you will have to style the layer yourself (tip: the NoData values by default is -99999). <br/>\n",
    "**Limitation:** Some raster datasets are quite large and ArcMap may not be able to handle loading the full coverage. In this case you can use the \"Make WCS Layer\" tool from the Data Managemnt toolbox to download a subset of the coverage to your area of interest.\n",
    "\n",
    "> <img src=\"./img/add_wcs_4.jpg\" align=\"center\" width=\"100%\"></img>"
   ]
  },
  {
   "cell_type": "markdown",
   "metadata": {},
   "source": [
    "### 4.2 OGC services in QGIS"
   ]
  },
  {
   "cell_type": "markdown",
   "metadata": {},
   "source": [
    "As an open source software, [QGIS supports all OGC services](https://docs.qgis.org/3.4/en/docs/user_manual/working_with_ogc/ogc_client_support.html) out of the box. It even has specific support for GeoNode instances."
   ]
  },
  {
   "cell_type": "markdown",
   "metadata": {},
   "source": [
    "#### Setup an iAtlantic GeoNode connection for WMS and WFS\n",
    "QGIS allows you to set up a \"GeoNode\" connection with the iAtlantic GeoNode, from which you access images through WMS, vector data through WFS and raster data through WCS. Alternatively, you can create separate WMS, WFS and WCS connections to `https://www.geonode.iatlantic.eu/geoserver/ows`, however, the GeoNode connection automatically provides connections to all of the remote services that have been coupled to the GeoNode. Below we give a walkthrough of how you can set up an iAtlantic GeoNode connections from within QGIS.\n",
    "\n",
    "> 1) Right click the GeoNode connection in the browser (open via `View`>`Panels`>`Browse`) and select `New Connection`\n",
    "\n",
    "> <img src=\"./img/QGIS_1.jpg\" align=\"center\" width=\"30%\"></img>\n",
    "\n",
    "> 2) Add a name and the iAtlantic GeoNode URL `https://www.geonode.iatlantic.eu`, then click ok.\n",
    "\n",
    "> <img src=\"./img/QGIS_2.jpg\" align=\"center\" width=\"60%\"></img>\n",
    "\n",
    "> 3) From the GeoNode connection, you can browse through:\n",
    "> * the raster data available for download on the iAtlantic GeoNode in the WCS folder\n",
    "> * the vector data available for download on the iAtlantic GeoNode under the WFS folder\n",
    "> * data visualisation of (raster & vector) datasets available on both the iAtlantic GeoNode and external remote services linked to the GeoNode (e.g. EMODnet, CMEMS, Ifremer, PANGAEA) \n",
    "\n",
    "> <img src=\"./img/QGIS_3.jpg\" align=\"center\" width=\"40%\"></img>\n",
    "\n",
    "> 4) You can add WMS map images, WFS vector data and WCS raster data by simply double-clicking on them. Below is an example map created by combining an image of the Alcyoniina Habitat Suitability on the iAtlantic GeoNode WMS, an image of the telecommunication cables from EMODnet Human activities WMS and a dataset of the world ocean seamounts downloaded from the iAtlantic GeoNode WFS.\n",
    ">\n",
    "> **Limitation**: By default you will only have access to the publicly available layers on the GeoNode. In order to access restricted layers (to which your GeoNode account has access to on the web platform), you will have to set up OAuth authentication on your QGIS application. If you require this, please contact tim.collart@seascapeebelgium.be\n",
    "\n",
    "> <img src=\"./img/QGIS_4.jpg\" align=\"center\" width=\"100%\"></img>"
   ]
  },
  {
   "cell_type": "markdown",
   "metadata": {},
   "source": [
    "<hr>"
   ]
  },
  {
   "cell_type": "markdown",
   "metadata": {},
   "source": [
    "<a rel=\"license\" href=\"http://creativecommons.org/licenses/by/4.0/\"><img style=\"float: right\" alt=\"Creative Commons Lizenzvertrag\" style=\"border-width:0\" src=\"https://i.creativecommons.org/l/by/4.0/88x31.png\" /></a>"
   ]
  }
 ],
 "metadata": {
  "kernelspec": {
   "display_name": "Python 3.8.3 64-bit",
   "language": "python",
   "name": "python3"
  },
  "language_info": {
   "codemirror_mode": {
    "name": "ipython",
    "version": 3
   },
   "file_extension": ".py",
   "mimetype": "text/x-python",
   "name": "python",
   "nbconvert_exporter": "python",
   "pygments_lexer": "ipython3",
   "version": "3.8.3"
  },
  "vscode": {
   "interpreter": {
    "hash": "9650cb4e16cdd4a8e8e2d128bf38d875813998db22a3c986335f89e0cb4d7bb2"
   }
  }
 },
 "nbformat": 4,
 "nbformat_minor": 2
}
