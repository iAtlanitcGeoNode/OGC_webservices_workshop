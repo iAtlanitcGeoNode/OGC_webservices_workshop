{
 "cells": [
  {
   "cell_type": "markdown",
   "metadata": {
    "slideshow": {
     "slide_type": "slide"
    }
   },
   "source": [
    "<img src=\"./img/logo.png\" align=\"right\" width=\"50%\"></img>\n",
    "# iAtlantic GeoNode 101\n",
    "### Tier 2: How to use OGC webservices offered by the iAtlantic GeoNode in your data analysis"
   ]
  },
  {
   "cell_type": "markdown",
   "metadata": {
    "slideshow": {
     "slide_type": "slide"
    }
   },
   "source": [
    "## 4. Use OGC services with common GIS software"
   ]
  },
  {
   "cell_type": "markdown",
   "metadata": {},
   "source": [
    "### 4.1 OGC services on ArcMap"
   ]
  },
  {
   "cell_type": "markdown",
   "metadata": {},
   "source": [
    "ESRI Arcmap has support for OGC services so you can connect directly with the iAtlantic GeoNode. We are providing a few screenshots walking you through the process below. A Walkthough is also provided by the [ESRI documentation](https://desktop.arcgis.com/en/arcmap/10.3/map/web-maps-and-services/about-using-ogc-service-layers.htm)."
   ]
  },
  {
   "cell_type": "markdown",
   "metadata": {},
   "source": [
    "### WMS\n",
    "ArcMap has native support for working with WMS.\n",
    "\n",
    "> 1) Add a WMS server (throught he catalog window)\n",
    "\n",
    "> <img src=\"./img/add_wms.jpg\" align=\"center\" width=\"30%\"></img>\n",
    "\n",
    "> 2) Enter `URL: http://www.geonode.iatlantic.eu/geoserver/ows` and press `Add layers` to see the available layers, then click OK\n",
    "\n",
    "> <img src=\"./img/add_wms_2.jpg\" align=\"center\" width=\"60%\"></img>\n",
    "\n",
    "> 3) Access available layers from the iAtlantic WMS connection in your Catalog\n",
    "\n",
    "> <img src=\"./img/add_wms_3.jpg\" align=\"center\" width=\"30%\"></img>"
   ]
  },
  {
   "cell_type": "markdown",
   "metadata": {},
   "source": [
    "### WFS\n",
    "Adding a WFS server connection to ArcMap requires the [Data Interoperability license](https://www.esri.com/en-us/arcgis/products/arcgis-data-interoperability/buy) and works similar to adding WMS and WCS connections. In case you do not have this license, you can still save vector datasets from the iAtlantic GeoNode in you own geodatabase using the Coverion Toolbox. A walkthough for this workflow is given below.\n",
    "\n",
    "> 1) Open the `ArcToolBox` > `Converion Tools` > `From WFS` > `WFS To Feature Class` tool\n",
    "\n",
    "> <img src=\"./img/add_wfs.jpg\" align=\"center\" width=\"30%\"></img>\n",
    "\n",
    "> 2) Enter WFS server as `http://www.geonode.iatlantic.eu/geoserver/ows` select desired Feature Type (dataset), specify the output location and optionally provide a customized name, then click ok.\n",
    "\n",
    "> <img src=\"./img/add_wfs_2.jpg\" align=\"center\" width=\"60%\"></img>"
   ]
  },
  {
   "cell_type": "markdown",
   "metadata": {},
   "source": [
    "### WCS\n",
    "ArcMap has native support for working with WCS.\n",
    "\n",
    "> 1) Add a WCS server (throught he catalog window)\n",
    "\n",
    "> <img src=\"./img/add_wcs.jpg\" align=\"center\" width=\"30%\"></img>\n",
    "\n",
    "> 2) Enter `URL: http://www.geonode.iatlantic.eu/geoserver/ows`, select `Version: 1.0.0` and press `Get Coverages` to see the available layers, then click OK\n",
    "\n",
    "> <img src=\"./img/add_wcs_2.jpg\" align=\"center\" width=\"60%\"></img>\n",
    "\n",
    "> 3) Access available layers from the iAtlantic WMS connection in your Catalog\n",
    "\n",
    "> <img src=\"./img/add_wcs_3.jpg\" align=\"center\" width=\"30%\"></img>"
   ]
  },
  {
   "cell_type": "code",
   "execution_count": null,
   "metadata": {},
   "outputs": [],
   "source": []
  }
 ],
 "metadata": {
  "kernelspec": {
   "display_name": "Python 3",
   "language": "python",
   "name": "python3"
  },
  "language_info": {
   "codemirror_mode": {
    "name": "ipython",
    "version": 3
   },
   "file_extension": ".py",
   "mimetype": "text/x-python",
   "name": "python",
   "nbconvert_exporter": "python",
   "pygments_lexer": "ipython3",
   "version": "3.8.2"
  }
 },
 "nbformat": 4,
 "nbformat_minor": 2
}
