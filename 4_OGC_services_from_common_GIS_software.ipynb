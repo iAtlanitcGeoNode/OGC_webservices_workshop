{
 "cells": [
  {
   "cell_type": "markdown",
   "metadata": {
    "slideshow": {
     "slide_type": "slide"
    }
   },
   "source": [
    "<img src=\"./img/logo.png\" align=\"right\" width=\"50%\"></img>\n",
    "# iAtlantic GeoNode 101\n",
    "### Tier 2: How to use OGC webservices offered by the iAtlantic GeoNode in your data analysis"
   ]
  },
  {
   "cell_type": "markdown",
   "metadata": {
    "slideshow": {
     "slide_type": "slide"
    }
   },
   "source": [
    "## 4. Use OGC services with common GIS software"
   ]
  },
  {
   "cell_type": "markdown",
   "metadata": {},
   "source": [
    "### 4.1 OGC services in ArcMap"
   ]
  },
  {
   "cell_type": "markdown",
   "metadata": {},
   "source": [
    "ESRI Arcmap has support for OGC services so you can connect directly with the iAtlantic GeoNode. We are providing a few screenshots walking you through the process below. A Walkthough is also provided by the [ESRI documentation](https://desktop.arcgis.com/en/arcmap/10.3/map/web-maps-and-services/about-using-ogc-service-layers.htm)."
   ]
  },
  {
   "cell_type": "markdown",
   "metadata": {},
   "source": [
    "### Connect to the iAtlantic GeoNode WMS\n",
    "ArcMap has native support for working with WMS.\n",
    "\n",
    "> 1) Add a WMS server (throught he catalog window)\n",
    "\n",
    "> <img src=\"./img/add_wms.jpg\" align=\"center\" width=\"30%\"></img>\n",
    "\n",
    "> 2) Enter `URL: http://www.geonode.iatlantic.eu/geoserver/ows` and press `Add layers` to see the available layers, then click OK\n",
    "\n",
    "> <img src=\"./img/add_wms_2.jpg\" align=\"center\" width=\"60%\"></img>\n",
    "\n",
    "> 3) Access available layers from the iAtlantic WMS connection in your Catalog\n",
    "\n",
    "> <img src=\"./img/add_wms_3.jpg\" align=\"center\" width=\"30%\"></img>"
   ]
  },
  {
   "cell_type": "markdown",
   "metadata": {},
   "source": [
    "### Connect to the iAtlantic GeoNode WFS\n",
    "Adding a WFS server connection to ArcMap requires the [Data Interoperability license](https://www.esri.com/en-us/arcgis/products/arcgis-data-interoperability/buy) and works similar to adding WMS and WCS connections. In case you do not have this license, you can still save vector datasets from the iAtlantic GeoNode in you own geodatabase using the Coverion Toolbox. A walkthough for this workflow is given below.\n",
    "\n",
    "> 1) Open the `ArcToolBox` > `Converion Tools` > `From WFS` > `WFS To Feature Class` tool\n",
    "\n",
    "> <img src=\"./img/add_wfs.jpg\" align=\"center\" width=\"30%\"></img>\n",
    "\n",
    "> 2) Enter WFS server as `http://www.geonode.iatlantic.eu/geoserver/ows` select desired Feature Type (dataset), specify the output location and optionally provide a customized name, then click ok.\n",
    "\n",
    "> <img src=\"./img/add_wfs_2.jpg\" align=\"center\" width=\"60%\"></img>"
   ]
  },
  {
   "cell_type": "markdown",
   "metadata": {},
   "source": [
    "### Connect to the iAtlantic GeoNode WCS\n",
    "ArcMap has native support for working with WCS.\n",
    "\n",
    "> 1) Add a WCS server (throught he catalog window)\n",
    "\n",
    "> <img src=\"./img/add_wcs.jpg\" align=\"center\" width=\"30%\"></img>\n",
    "\n",
    "> 2) Enter `URL: http://www.geonode.iatlantic.eu/geoserver/ows`, select `Version: 1.0.0` and press `Get Coverages` to see the available layers, then click OK\n",
    "\n",
    "> <img src=\"./img/add_wcs_2.jpg\" align=\"center\" width=\"60%\"></img>\n",
    "\n",
    "> 3) Access available layers from the iAtlantic WMS connection in your Catalog\n",
    "\n",
    "> <img src=\"./img/add_wcs_3.jpg\" align=\"center\" width=\"30%\"></img>"
   ]
  },
  {
   "cell_type": "markdown",
   "metadata": {},
   "source": [
    "### 4.1 OGC services in QGIS"
   ]
  },
  {
   "cell_type": "markdown",
   "metadata": {},
   "source": [
    "As an open source software, [QGIS supports all OGC services](https://docs.qgis.org/3.4/en/docs/user_manual/working_with_ogc/ogc_client_support.html) out of the box. It even has specific support for GeoNode instances."
   ]
  },
  {
   "cell_type": "markdown",
   "metadata": {},
   "source": [
    "### Setup an iAtlantic GeoNode connection for WMS and WFS\n",
    "QGIS allows you to set up a connection with the iAtlantic GeoNode, from which you access images through WMS and vector data through WFS. Alternatively, you can create separate WMS and WFS connections to `http://www.geonode.iatlantic.eu/geoserver/ows`, however, the GeoNode connection automatically provides connections to all of the remote services that have been coupled to GeoNode. Below we give a walkthrough of how you can set up an iAtlantic GeoNode connections from within QGIS.\n",
    "\n",
    "> 1) Right click the GeoNode connection in the browser (open via `View`>`Panels`>`Browse`) and select `New Connection`\n",
    "\n",
    "> <img src=\"./img/QGIS_1.jpg\" align=\"center\" width=\"30%\"></img>\n",
    "\n",
    "> 2) Add a name and the iAtlantic GeoNode URL `http://www.geonode.iatlantic.eu`, then click ok.\n",
    "\n",
    "> <img src=\"./img/QGIS_2.jpg\" align=\"center\" width=\"60%\"></img>\n",
    "\n",
    "> 3) From the GeoNode connection, access vector data on the iAtlantic GeoNode though WFS and visualize data on the iAtlantic GeoNode and external servers, linked to the GeoNode as Remote Services \n",
    "\n",
    "> <img src=\"./img/QGIS_3.jpg\" align=\"center\" width=\"40%\"></img>"
   ]
  },
  {
   "cell_type": "markdown",
   "metadata": {},
   "source": [
    "### Connect to the iAtlantic GeoNode WCS\n",
    "In order to access raster data from the iAtlantic GeoNode within QGIS, you need to set up a WCS connection.\n",
    "\n",
    "> 1) Right click the WCS connection in the browser (open via `View`>`Panels`>`Browse`) and select `New Connection`\n",
    "\n",
    "> <img src=\"./img/QGIS_4.jpg\" align=\"center\" width=\"30%\"></img>\n",
    "\n",
    "> 2) Add a name and the URL `http://www.geonode.iatlantic.eu/geoserver/ows`, then click ok.\n",
    "\n",
    "> <img src=\"./img/QGIS_5.jpg\" align=\"center\" width=\"60%\"></img>\n",
    "\n",
    "> 3) From the WCS connection, access raster data on the iAtlantic GeoNode \n",
    "\n",
    "> <img src=\"./img/QGIS_6.jpg\" align=\"center\" width=\"40%\"></img>"
   ]
  },
  {
   "cell_type": "markdown",
   "metadata": {},
   "source": [
    "<hr>"
   ]
  },
  {
   "cell_type": "markdown",
   "metadata": {},
   "source": [
    "<a rel=\"license\" href=\"http://creativecommons.org/licenses/by/4.0/\"><img style=\"float: right\" alt=\"Creative Commons Lizenzvertrag\" style=\"border-width:0\" src=\"https://i.creativecommons.org/l/by/4.0/88x31.png\" /></a>"
   ]
  }
 ],
 "metadata": {
  "kernelspec": {
   "display_name": "Python 3",
   "language": "python",
   "name": "python3"
  },
  "language_info": {
   "codemirror_mode": {
    "name": "ipython",
    "version": 3
   },
   "file_extension": ".py",
   "mimetype": "text/x-python",
   "name": "python",
   "nbconvert_exporter": "python",
   "pygments_lexer": "ipython3",
   "version": "3.8.2"
  }
 },
 "nbformat": 4,
 "nbformat_minor": 2
}
