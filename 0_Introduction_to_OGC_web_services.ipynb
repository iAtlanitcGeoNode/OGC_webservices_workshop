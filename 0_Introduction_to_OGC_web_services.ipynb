{
 "cells": [
  {
   "cell_type": "markdown",
   "metadata": {},
   "source": [
    "<img src=\"./img/logo.png\" align=\"right\" width=\"50%\"></img>\n",
    "# iAtlantic GeoNode Workshop\n",
    "## Tier 2: How to use OGC webservices offered by the iAtlantic GeoNode in your data analysis"
   ]
  },
  {
   "cell_type": "markdown",
   "metadata": {},
   "source": [
    "## 0. Introduction to OGC web services"
   ]
  },
  {
   "cell_type": "markdown",
   "metadata": {},
   "source": [
    "In case you are familiar with OGC web services, you can continue in the next sections of the workshop:\n",
    "- [Search through metadata using the OGC Catalogue Service (CSW)](./1_search_metadata_with_CSW.ipynb) \n",
    "- [Visualize data using OGC Web Mapping Service (WMS)](./2_visualize_data_with_WMS.ipynb) \n",
    "- [Subset and download data using OGC Web Feature and Coverage Services (WFS/WCS)](./3_subset_and_download_data_with_WFS&WCS.ipynb)\n",
    "- [Use OGC services from common GIS software](./4_OGC_services_from_common_GIS_software.ipynb)"
   ]
  },
  {
   "cell_type": "markdown",
   "metadata": {},
   "source": [
    "### What are OGC web services?\n",
    "\n",
    "Web services offer a variety of standard protocols that use the internet to view, access and retrieve data and metadata. The Open Geospatial Consortium (OGC) has defined various different protocols for geospatial data and metadata.\n",
    "\n",
    "\n",
    "<br>\n",
    "<img src=\"./img/ogc_standards.jpg\" align=\"centre\" width=\"70%\"></img>\n",
    "<br>\n"
   ]
  },
  {
   "cell_type": "markdown",
   "metadata": {},
   "source": [
    "### CSW requests\n",
    "A Catalogue Service for the Web (CSW) is a widely used OGC standard to search collections of metadata for data, services and related information objects and export the metadata in a range of formats.\n",
    "The CSW core supports three main HTTP requests (operations), which are submitted in the form of a URL:\n",
    "> The ***GetCapabilities*** allows CSW clients to retrieve service metadata from a server\n",
    ">> Example:<br>\n",
    "[https://www.geonode.iatlantic.eu/catalogue/csw?<br>\n",
    "service=CSW&<br>\n",
    "version=2.0.2&<br>\n",
    "request=GetCapabilities](https://www.geonode.iatlantic.eu/catalogue/csw?service=CSW&version=2.0.2&request=GetCapabilities)\n",
    "\n",
    "> The ***GetRecords*** request allows to search for records, returning record IDs\n",
    ">> Example: Return a summary of the metadata for all records on the iAtlantic GeoNode. This can be filtered dwon further using the `constraints` parameter<br>\n",
    "[httpss://www.geonode.iatlantic.eu/catalogue/csw?<br>\n",
    "    service=CSW&<br>\n",
    "    version=2.0.2&<br>\n",
    "    request=GetRecords&<br>\n",
    "    elementSetName=summary&<br>\n",
    "    typenames=gmd:MD_Metadata&<br>\n",
    "    resulttype=results&<br>\n",
    "    maxrecords=15](https://www.geonode.iatlantic.eu/catalogue/csw?service=CSW&version=2.0.2&request=GetRecords&ElementSetName=summary&typenames=gmd:MD_Metadata&RESULTTYPE=results&maxrecords=15)\n",
    "\n",
    "> The ***GetRecordById*** request retrieves the default representation of catalogue records using their identifier\n",
    ">> Example: return a record of the Scleraxonia Habitat Suitability<br>\n",
    "[https://www.geonode.iatlantic.eu/catalogue/csw?<br>\n",
    "service=CSW&<br>\n",
    "version=2.0.2&<br>\n",
    "request=GetRecordById&<br>\n",
    "id=a69a3ec6-d3fd-11eb-a512-0242c0a82008](https://www.geonode.iatlantic.eu/catalogue/csw?service=CSW&version=2.0.2&request=GetRecordById&id=a69a3ec6-d3fd-11eb-a512-0242c0a82008)\n"
   ]
  },
  {
   "cell_type": "markdown",
   "metadata": {},
   "source": [
    "### WMS requests\n",
    "A Web Mapping Service (WMS) is a widely-used OGC standard for geospatial datasets that returns spatial data as an 'image' or 'static map'.\n",
    "The WMS core supports two HTTP requests (operations), which are submitted in the form of a URL:\n",
    "> the ***GetCapabilities*** request returns an XML document with information to the service and data provider and an overview of all the maps available on the web server\n",
    "\n",
    ">> Example:<br>\n",
    "[https://www.geonode.iatlantic.eu/geoserver/ows?<br>\n",
    "            service=WMS&<br>\n",
    "            version=1.3.0&<br>\n",
    "            request=GetCapabilities](https://www.geonode.iatlantic.eu/geoserver/ows?service=WMS&version=1.3.0&request=GetCapabilities)\n",
    "\n",
    "> the ***GetMap*** request returns a static map / image\n",
    ">> Example: retrieve an image of the Scleraxonia Habitat Suitability<br>\n",
    "[https://www.geonode.iatlantic.eu/geoserver/ows?<br>\n",
    "service=WMS&<br>\n",
    "version=1.3.0&<br>\n",
    "request=GetMap&<br>\n",
    "layers=geonode:Scleraxonia_Habitat_Suitability&<br>\n",
    "width=920&height=1080&<br>\n",
    "format=image/png&\n",
    "transparent=True&<br>\n",
    "srs=epsg:4326&<br>\n",
    "bbox=-180,-90,180,90](https://www.geonode.iatlantic.eu/geoserver/ows?service=WMS&version=1.3.0&request=GetMap&layers=geonode:Scleraxonia_Habitat_Suitability&width=920&height=1080&FORMAT=image/png&transparent=True&SRS=epsg:4326&BBOX=-180,-90,180,90)\n",
    "\n"
   ]
  },
  {
   "cell_type": "markdown",
   "metadata": {},
   "source": [
    "### WFS requests\n",
    "A Web Feature Service is a data-access protocol that defines and enables the web-based retrieval of vector type geospatial datasets.  \n",
    "The WFS core supports three main HTTP requests (operations), which are submitted in the form of a URL:\n",
    "> the ***GetCapabilities*** request returns an XML document with information to the service and data provider and an overview of all the feature types (vector datasets) available on the web server\n",
    "\n",
    ">> Example:<br>\n",
    "[https://www.geonode.iatlantic.eu/geoserver/ows?<br>\n",
    "            service=WFS&<br>\n",
    "            version=1.1.0&<br>\n",
    "            request=GetCapabilities](https://www.geonode.iatlantic.eu/geoserver/ows?service=WFS&version=1.1.0&request=GetCapabilities)\n",
    "\n",
    "> the ***DescribeFeatureType*** request returns an XML document with metadata information of one specific feature type (attribute fields)\n",
    ">> Example: get information about the Large Marine Ecosystems of the World<br>\n",
    " [https://www.geonode.iatlantic.eu/geoserver/ows?<br>\n",
    "            service=WFS&<br>\n",
    "            version=1.1.0&<br>\n",
    "            request=DescribeFeatureType&<br>\n",
    "            typename=geonode:Large_Marine_Ecosystems](https://www.geonode.iatlantic.eu/geoserver/ows?service=WFS&version=1.1.0&request=DescribeFeatureType&typename=geonode:Large_Marine_Ecosystems)\n",
    "\n",
    "> the ***GetFeature*** request returns a vector type geospatial dataset encoded in a specified format (e.g ESRI Shapefile, GML, GeoJson), specified spatial reference system (srs) and optionally filltered, by time, area or attribute field.\n",
    ">> Example: retrieve a shapefile of the Large Marine Ecosystems of the World in the WGS84 srs [EPSG:4326](https://spatialreference.org/ref/epsg/wgs-84/)<br>\n",
    " [https://www.geonode.iatlantic.eu/geoserver/ows?<br>\n",
    "            service=WFS&<br>\n",
    "            version=1.1.0&<br>\n",
    "            request=GetFeature&<br>\n",
    "            typename=geonode:Large_Marine_Ecosystems&<br>\n",
    "            outputFormat=SHAPE-ZIP&<br>\n",
    "            srs=EPSG:4326](https://www.geonode.iatlantic.eu/geoserver/ows?service=WFS&version=1.1.0&request=GetFeature&typename=geonode:Large_Marine_Ecosystems&version=1.1.0&outputFormat=SHAPE-ZIP&srs=EPSG:4326)"
   ]
  },
  {
   "cell_type": "markdown",
   "metadata": {},
   "source": [
    "### WCS requests\n",
    "A Web Coverage Service is a data-access protocol that defines and enables the web-based retrieval of multi-dimensional raster type geospatial datasets.  \n",
    "The WCS core supports three main HTTP requests (operations), which are submitted in the form of a URL:\n",
    "> the ***GetCapabilities*** request returns an XML document with information to the service and data provider and an overview of all the coverages (raster dataset) available on the web server\n",
    "\n",
    ">> Example:<br>\n",
    "[https://www.geonode.iatlantic.eu/geoserver/ows?<br>\n",
    "    service=WCS&<br>\n",
    "    version=1.0.0&<br>\n",
    "    request=GetCapabilities](https://www.geonode.iatlantic.eu/geoserver/ows?service=WCS&version=1.0.0&request=GetCapabilities)\n",
    "\n",
    "> the ***DescribeCoverage*** request returns an XML document with metadata information of one specific coverage\n",
    ">> Example: get information about the Scleraxonia Habitat Suitability dataset<br>\n",
    "[https://www.geonode.iatlantic.eu/geoserver/ows?<br>\n",
    "    service=WCS&<br>\n",
    "    version=1.0.0&<br>\n",
    "    request=DescribeCoverage&<br>\n",
    "    coverage=geonode:Scleraxonia_Habitat_Suitability](https://www.geonode.iatlantic.eu/geoserver/ows?service=WCS&version=1.0.0&request=DescribeCoverage&coverage=geonode:Scleraxonia_Habitat_Suitability)\n",
    "\n",
    "> the ***GetCoverage*** request returns a full coverage encoded in a specified format, e.g GeoTiff, XML or netCDF (to be implemented)\n",
    ">> Example: get Scleraxonia Habitat Suitability dataset off the coast of Florianopolis with the WGS84 srs [EPSG:4326](https://spatialreference.org/ref/epsg/wgs-84/) and in GeoTIFF format<br>\n",
    "[https://www.geonode.iatlantic.eu/geoserver/ows?<br>\n",
    "    service=WCS&<br>\n",
    "    version=1.0.0&<br>\n",
    "    request=GetCoverage&<br>\n",
    "    coverage=geonode:Scleraxonia_Habitat_Suitability&<br>\n",
    "    bbox=-49,-29,-46,-26&<br>\n",
    "    crs=epsg:4326&<br>\n",
    "    format=GeoTIFF&<br>\n",
    "    resx=0.0833333&resy=0.083333](https://www.geonode.iatlantic.eu/geoserver/wcs?version=1.0.0&request=GetCoverage&service=WCS&Coverage=geonode:Scleraxonia_Habitat_Suitability&bbox=-49,-29,-46,-26&crs=epsg:4326&format=GeoTIFF&resx=0.0833333&resy=0.0833333)"
   ]
  },
  {
   "cell_type": "markdown",
   "metadata": {},
   "source": [
    "### [>> Next: Search through metadata using the OGC Catalogue Service (CSW)](./1_search_metadata_with_CSW.ipynb)"
   ]
  },
  {
   "cell_type": "markdown",
   "metadata": {},
   "source": [
    "<hr>"
   ]
  },
  {
   "cell_type": "markdown",
   "metadata": {},
   "source": [
    "This workshop was adapted from the [Pydata 2017 workshop of Julia Wagemann](https://github.com/jwagemann/2017_pydata_tutorial) <a rel=\"license\" href=\"https://creativecommons.org/licenses/by/4.0/\"><img style=\"float: right\" alt=\"Creative Commons Lizenzvertrag\" style=\"border-width:0\" src=\"https://i.creativecommons.org/l/by/4.0/88x31.png\" /></a>"
   ]
  }
 ],
 "metadata": {
  "kernelspec": {
   "display_name": "Python 3.8.3 64-bit",
   "language": "python",
   "name": "python3"
  },
  "language_info": {
   "codemirror_mode": {
    "name": "ipython",
    "version": 3
   },
   "file_extension": ".py",
   "mimetype": "text/x-python",
   "name": "python",
   "nbconvert_exporter": "python",
   "pygments_lexer": "ipython3",
   "version": "3.8.3"
  },
  "vscode": {
   "interpreter": {
    "hash": "9650cb4e16cdd4a8e8e2d128bf38d875813998db22a3c986335f89e0cb4d7bb2"
   }
  }
 },
 "nbformat": 4,
 "nbformat_minor": 1
}
