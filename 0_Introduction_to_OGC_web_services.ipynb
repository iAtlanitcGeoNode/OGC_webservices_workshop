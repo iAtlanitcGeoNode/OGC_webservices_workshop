{
 "cells": [
  {
   "cell_type": "markdown",
   "metadata": {},
   "source": [
    "<img src=\"./img/logo.png\" align=\"right\" width=\"50%\"></img>\n",
    "# iAtlantic GeoNode 101\n",
    "## Tier 2: How to use OGC webservices offered by the iAtlantic GeoNode in your data analysis"
   ]
  },
  {
   "cell_type": "markdown",
   "metadata": {},
   "source": [
    "## 0. Introduction to OGC web services"
   ]
  },
  {
   "cell_type": "markdown",
   "metadata": {},
   "source": [
    "In case you are familiar with OGC web services, you can continue in the next sections of the workshop:\n",
    "- [Search through metadata using the OGC Catalogue Service (CSW)](./1_search_metadata_with_CSW.ipynb) \n",
    "- [Visualize data using OGC Web Mapping Service (WMS)](./2_visualize_data_with_WMS.ipynb) \n",
    "- [Subset and download data using OGC Web Feature and Coverage Services (WFS/WCS)](./3_subset_and_download_data_with_WFS&WCS.ipynb)\n",
    "- [Use OGC services with QGIS and/or ArcGIS](./4_OGC_services_from_QGIS_and_ArcGIS.ipynb)"
   ]
  },
  {
   "cell_type": "markdown",
   "metadata": {},
   "source": [
    "### What are OGC web services?\n",
    "\n",
    "Web services offer a variety of standard protocols that use the internet to view, access and retrieve geospatial data. The Open Geospatial Consortium (OGC) has defined various different protocols for geospatial data.\n",
    "\n",
    "\n",
    "<br>\n",
    "<img src=\"./img/ogc_standards.jpg\" align=\"centre\" width=\"70%\"></img>\n",
    "<br>\n"
   ]
  },
  {
   "cell_type": "markdown",
   "metadata": {},
   "source": [
    "### CSW requests"
   ]
  },
  {
   "cell_type": "markdown",
   "metadata": {},
   "source": [
    "### WMS requests\n",
    "A Web Mapping Service (WMS) is a widely-used OGC standard for geospatial datasets that returns spatial data as an 'image' or 'static map'.\n",
    "> the ***GetCapabilities*** request returns an XML document with information to the service and data provider and an overview of all the maps available on the web server\n",
    "\n",
    ">> Example:<br>\n",
    "[http://www.geonode.iatlantic.eu/geoserver/ows?<br>\n",
    "            service=WMS&<br>\n",
    "            version=1.3.0&<br>\n",
    "            request=GetCapabilities](http://www.geonode.iatlantic.eu/geoserver/ows?service=WMS&version=1.3.0&request=GetCapabilities)\n",
    "\n",
    "> the ***GetMap*** request returns a static map / image\n",
    ">> Example: retrieve an image of the iAtlantic study areas <br>\n",
    "[http://www.geonode.iatlantic.eu/geoserver/ows?<br>\n",
    "service=WMS&<br>\n",
    "version=1.3.0&<br>\n",
    "request=GetMap&<br>\n",
    "layers=geonode:iAtlantic_Research_Areas_merged&<br>\n",
    "width=1080&height=1080&<br>\n",
    "format=image/png&\n",
    "transparent=True&<br>\n",
    "srs=epsg:4326&<br>\n",
    "bbox=-180,-90,180,90](http://www.geonode.iatlantic.eu/geoserver/ows?service=WMS&version=1.3.0&request=GetMap&layers=geonode:iAtlantic_Research_Areas_merged&width=1080&height=1080&FORMAT=image/png&transparent=True&SRS=epsg:4326&BBOX=-180,-90,180,90)\n",
    "\n"
   ]
  },
  {
   "cell_type": "markdown",
   "metadata": {},
   "source": [
    "### WFS requests\n",
    "A Web Feature Service is a data-access protocol that defines and enables the web-based retrieval of vector type geospatial datasets.  \n",
    "The WFS core supports three main HTTP requests (operations), which are submitted in the form of a URL:\n",
    "> the ***GetCapabilities*** request returns an XML document with information to the service and data provider and an overview of all the feature types (vector datasets) available on the web server\n",
    "\n",
    ">> Example: [http://www.geonode.iatlantic.eu/geoserver/ows?<br>\n",
    "            service=WFS&<br>\n",
    "            version=1.1.0&<br>\n",
    "            request=GetCapabilities](http://www.geonode.iatlantic.eu/geoserver/ows?service=WFS&version=1.1.0&request=GetCapabilities)\n",
    "\n",
    "> the ***DescribeFeatureType*** request returns an XML document with metadata information of one specific feature type (attribute fields)\n",
    ">> Example: get information about the iAtlantic Study Areas<br>\n",
    " [http://www.geonode.iatlantic.eu/geoserver/ows?<br>\n",
    "            service=WFS&<br>\n",
    "            version=1.1.0&<br>\n",
    "            request=DescribeFeatureType&<br>\n",
    "            typename=geonode:iAtlantic_Research_Areas_merged](http://www.geonode.iatlantic.eu/geoserver/ows?service=WFS&version=1.1.0&request=DescribeFeatureType&typename=geonode:iAtlantic_Research_Areas_merged)\n",
    "\n",
    "> the ***GetFeature*** request returns a vector type geospatial dataset encoded in a specified format (e.g ESRI Shapefile, GML, GeoJson), specified spatial reference system (srs) and optionally filltered, by time, area or attribute field.\n",
    ">> Example: retrieve a shapefile of the iAtlantic study areas in the WGS84 srs [EPSG:4326](https://spatialreference.org/ref/epsg/wgs-84/)  (note that this dataset will be updated in the future)<br>\n",
    " [http://www.geonode.iatlantic.eu/geoserver/ows?<br>\n",
    "            service=WFS&<br>\n",
    "            version=1.1.0&<br>\n",
    "            request=GetFeature&<br>\n",
    "            typename=geonode:iAtlantic_Research_Areas_merged&<br>\n",
    "            outputFormat=SHAPE-ZIP&<br>\n",
    "            srs=EPSG:4326](http://www.geonode.iatlantic.eu/geoserver/ows?service=WFS&version=1.1.0&request=GetFeature&typename=geonode:iAtlantic_Research_Areas_merged&version=1.1.0&outputFormat=SHAPE-ZIP&srs=EPSG:4326)"
   ]
  },
  {
   "cell_type": "markdown",
   "metadata": {},
   "source": [
    "### WCS requests\n",
    "A Web Coverage Service is a data-access protocol that defines and enables the web-based retrieval of multi-dimensional geospatial datasets.  \n",
    "The WCS core supports three main HTTP requests (operations), which are submitted in the form of a URL:\n",
    "> the ** *GetCapabilities* ** request returns an XML document with information to the service and data provider and an overview of all the coverages (geospatial fields) available on the web server\n",
    "\n",
    ">> Example: <a href=\"http://earthserver.ecmwf.int/rasdaman/ows?service=WCS&version=2.0.11&request=GetCapabilities\" target=\"_blank\">http://earthserver.ecmwf.int/rasdaman/ows?service=WCS&version=2.0.11&request=GetCapabilities</a>\n",
    "\n",
    "> the ** *DescribeCoverage* ** request returns an XML document with metadata information of one specific coverage\n",
    ">> Example: get information about 2m air temperature coverage  \n",
    "<a href=\"http://earthserver.ecmwf.int/rasdaman/ows?service=WCS&version=2.0.11&request=DescribeCoverage&coverageId=temp2m\" target=\"_blank\">http://earthserver.ecmwf.int/rasdaman/ows?service=WCS&version=2.0.11&request=DescribeCoverage&coverageId=temp2m</a>\n",
    "\n",
    "> the ** *GetCoverage* ** request returns a full coverage encoded in a specified format, e.g GeoTiff, XML or netCDF\n",
    ">> Example: retrieve a 2D global field of 2m air temperature of 15 December 2013 in XML format  \n",
    "<a href='http://earthserver.ecmwf.int/rasdaman/ows?service=WCS&version=2.0.11&request=GetCoverage&coverageId=temp2m&subset=ansi(\"2013-12-15T00:00\")&format=application/gml+xml' target=\"_blank\">http://earthserver.ecmwf.int/rasdaman/ows?service=WCS&version=2.0.11&request=GetCoverage&coverageId=temp2m&subset=ansi(\"2013-12-15T00:00\")&format=application/gml+xml</a>"
   ]
  },
  {
   "cell_type": "markdown",
   "metadata": {},
   "source": [
    "### [>> Next: Search through metadata using the OGC Catalogue Service (CSW)](./1_search_metadata_with_CSW.ipynb)"
   ]
  },
  {
   "cell_type": "markdown",
   "metadata": {},
   "source": [
    "<hr>"
   ]
  },
  {
   "cell_type": "markdown",
   "metadata": {},
   "source": [
    "This workshop was adapted from the [Pydata 2017 workshop of Julia Wagemann](https://github.com/jwagemann/2017_pydata_tutorial) <a rel=\"license\" href=\"http://creativecommons.org/licenses/by/4.0/\"><img style=\"float: right\" alt=\"Creative Commons Lizenzvertrag\" style=\"border-width:0\" src=\"https://i.creativecommons.org/l/by/4.0/88x31.png\" /></a>"
   ]
  }
 ],
 "metadata": {
  "kernelspec": {
   "display_name": "Python 3",
   "language": "python",
   "name": "python3"
  },
  "language_info": {
   "codemirror_mode": {
    "name": "ipython",
    "version": 3
   },
   "file_extension": ".py",
   "mimetype": "text/x-python",
   "name": "python",
   "nbconvert_exporter": "python",
   "pygments_lexer": "ipython3",
   "version": "3.8.2"
  }
 },
 "nbformat": 4,
 "nbformat_minor": 1
}
